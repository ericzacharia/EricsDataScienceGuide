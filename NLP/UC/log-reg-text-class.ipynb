{
 "cells": [
  {
   "cell_type": "markdown",
   "source": [
    "\n",
    "# Text Classification via Logistic Regresssion \n",
    "\n",
    "This homework notebook has been adapted from the PyTorch tutorial [Text Classification with the TorchText Library](https://pytorch.org/tutorials/beginner/text_sentiment_ngrams_tutorial.html).\n",
    "\n",
    "[Torchtext](https://pytorch.org/text/stable/index.html) is a library within the PyTorch framework that consists of data processing utilities and popular datasets for natural language processing.\n",
    "\n",
    "In this homework, we will\n",
    "- build a logistic regression model for text classification using bag of words (BoW).\n",
    "- extend the above model to use continuous bag of words (CBoW).\n",
    "- consider some other extensions, such as using a better version of gradient descent.\n",
    "\n",
    "You have to complete **13 tasks**, specified at appropriate places, worth a total of 35 points.\n"
   ],
   "metadata": {}
  },
  {
   "cell_type": "markdown",
   "source": [
    "## Classes Dataset and DataLoader\n",
    "\n",
    "Dataset and DataLoader are PyTorch classes that provides utilities for iterating through and sampling from a dataset. They provide several features for advanced applications (e.g., skim through [this tutorial](https://pytorch.org/tutorials/beginner/data_loading_tutorial.html) on writing custom datasets and dataloaders).\n",
    "\n",
    "We'll work with the `` AG_NEWS`` dataset included within torchtext, and will write a custom dataloader to create minibatches of examples for training and testing.  The [``AG_NEWS``](https://rdrr.io/cran/textdata/man/dataset_ag_news.html) consists of about 120,000 examples of text from news sources, each labeled with one of 4 classes (world, sports, business, science and technology). "
   ],
   "metadata": {}
  },
  {
   "cell_type": "code",
   "execution_count": 330,
   "source": [
    "import torch\r\n",
    "from torchtext.datasets import AG_NEWS\r\n",
    "train_data = AG_NEWS(split='train')"
   ],
   "outputs": [],
   "metadata": {}
  },
  {
   "cell_type": "markdown",
   "source": [
    "A dataset behaves like an iterator.  So when called in a for loop or using next it returns a sequence of examples, each of which is a pair of label and text."
   ],
   "metadata": {}
  },
  {
   "cell_type": "code",
   "execution_count": 331,
   "source": [
    "example1 = next(train_data)\r\n",
    "example1"
   ],
   "outputs": [
    {
     "output_type": "execute_result",
     "data": {
      "text/plain": [
       "(3,\n",
       " \"Wall St. Bears Claw Back Into the Black (Reuters) Reuters - Short-sellers, Wall Street's dwindling\\\\band of ultra-cynics, are seeing green again.\")"
      ]
     },
     "metadata": {},
     "execution_count": 331
    }
   ],
   "metadata": {}
  },
  {
   "cell_type": "code",
   "execution_count": 332,
   "source": [
    "next(train_data)"
   ],
   "outputs": [
    {
     "output_type": "execute_result",
     "data": {
      "text/plain": [
       "(3,\n",
       " 'Carlyle Looks Toward Commercial Aerospace (Reuters) Reuters - Private investment firm Carlyle Group,\\\\which has a reputation for making well-timed and occasionally\\\\controversial plays in the defense industry, has quietly placed\\\\its bets on another part of the market.')"
      ]
     },
     "metadata": {},
     "execution_count": 332
    }
   ],
   "metadata": {}
  },
  {
   "cell_type": "code",
   "execution_count": 333,
   "source": [
    "next(train_data)"
   ],
   "outputs": [
    {
     "output_type": "execute_result",
     "data": {
      "text/plain": [
       "(3,\n",
       " \"Oil and Economy Cloud Stocks' Outlook (Reuters) Reuters - Soaring crude prices plus worries\\\\about the economy and the outlook for earnings are expected to\\\\hang over the stock market next week during the depth of the\\\\summer doldrums.\")"
      ]
     },
     "metadata": {},
     "execution_count": 333
    }
   ],
   "metadata": {}
  },
  {
   "cell_type": "markdown",
   "source": [
    "## Preprocessing: tokenizing, converting to BoW\r\n",
    "\r\n",
    "\r\n",
    "In order to convert a piece of text into, say, a BoW vector, we need to do\r\n",
    "\r\n",
    "- Split up the text into a sequence of words or tokens.  This can be a suprisingly complex task because of various uses of apostrophe, uses of contractions, etc.  (E.g., see this [article](https://nlp.stanford.edu/IR-book/html/htmledition/tokenization-1.html) at Stanford.)  We'll simply use a tokenizer provided by torchtext.\r\n",
    "\r\n",
    "- Determine which tokens will be included in our BoW vector, and which will be ignored.  Using too few will degrade prediction performance, while using too many will slow down the system.  We'll only include words that occur in the training set at least a given minimum number of times.\r\n",
    "\r\n",
    "- Convert each included word into an numerical index corresponding to its position on the BoW vectors. Torchtext provide a ``Vocab`` class to help with this. (Alternately, we can convert each word into a dense vector representation using pretrained representations such as [GloVe](https://nlp.stanford.edu/projects/glove/).) "
   ],
   "metadata": {}
  },
  {
   "cell_type": "code",
   "execution_count": 334,
   "source": [
    "from torchtext.data.utils import get_tokenizer # \"we'll simply use a tokenizer provided by torchtext\"\r\n",
    "from collections import Counter  # dict subclass for counting hashable objects\r\n",
    "from torchtext.vocab import Vocab\r\n",
    "\r\n",
    "tokenizer = get_tokenizer('basic_english') # tokenizer provided by torchtext\r\n",
    "train_iter = AG_NEWS(split='train') # dataset provided by torchtext\r\n",
    "counter = Counter()  # dict subclass for counting hashable objects\r\n",
    "for (label, line) in train_iter:\r\n",
    "    counter.update(tokenizer(line))\r\n",
    "# Only inlcude words that occur at least 1000 times in the training data.\r\n",
    "vocab = Vocab(counter, min_freq=1000)\r\n",
    "\r\n"
   ],
   "outputs": [],
   "metadata": {}
  },
  {
   "cell_type": "markdown",
   "source": [
    "``vocab`` can be used to convert a list of tokens in a list of indices."
   ],
   "metadata": {}
  },
  {
   "cell_type": "code",
   "execution_count": 335,
   "source": [
    "[vocab[token] for token in ['here', 'is', 'an', 'example']]"
   ],
   "outputs": [
    {
     "output_type": "execute_result",
     "data": {
      "text/plain": [
       "[476, 22, 31, 0]"
      ]
     },
     "metadata": {},
     "execution_count": 335
    }
   ],
   "metadata": {}
  },
  {
   "cell_type": "markdown",
   "source": [
    "See the [documentation](https://pytorch.org/text/stable/vocab.html) for ``Vocab.``  Now write code to answer the following:\r\n",
    "- **Task 1** [1 points]: Print the number of words in ``vocab``.\r\n",
    "- **Task 2** [1]: Print the index of the word \"economy\".\r\n",
    "- **Task 3** [1]: Print the word at index 500.\r\n",
    "- **Task 4** [1]: Write code to determine the index associated with words not in the vocabulary. What is that index value?"
   ],
   "metadata": {}
  },
  {
   "cell_type": "code",
   "execution_count": 336,
   "source": [
    "### WRITE YOUR CODE BELOW\r\n",
    "print(\"The length of the vocab, two different ways: \",\r\n",
    "      vocab.__len__(), \",\", len(vocab))\r\n",
    "print(\"The index of the token, economy, two different ways: \",\r\n",
    "      vocab.__getitem__(\"economy\"), \",\", vocab[\"economy\"])\r\n",
    "print(\"The word at index 500: \", vocab.itos[500])\r\n",
    "\r\n",
    "def determine_index(token):\r\n",
    "      '''\r\n",
    "      Sets index of unknown token that is outside of vocabulary to 0, which corresponds to \"<unk>\".\r\n",
    "      '''\r\n",
    "      if not vocab[token]:\r\n",
    "            print(f\"{token} is unknown/outside of the vocabulary\")\r\n",
    "            return vocab[\"<unk>\"]\r\n",
    "      else:\r\n",
    "            return vocab[token]\r\n",
    "\r\n",
    "print(\"The index of the token, party: \", determine_index(\"party\"))\r\n",
    "print(\"The index of the token, partyy: \", determine_index(\"partyy\"))\r\n"
   ],
   "outputs": [
    {
     "output_type": "stream",
     "name": "stdout",
     "text": [
      "The length of the vocab, two different ways:  633 , 633\n",
      "The index of the token, economy, two different ways:  348 , 348\n",
      "The word at index 500:  party\n",
      "The index of the token, party:  500\n",
      "partyy is unknown/outside of the vocabulary\n",
      "The index of the token, partyy:  0\n"
     ]
    }
   ],
   "metadata": {}
  },
  {
   "cell_type": "markdown",
   "source": [
    "A [dataloader](https://pytorch.org/docs/stable/data.html?highlight=dataloader#torch.utils.data.DataLoader) takes a dataset and creates minibatches of examples, each of a specified batch size.  We specify how it processes each example from the dataset via a custom collate function.\n",
    "\n",
    "**Task 5** [5]: Write a collate function ``collate_into_bow`` that accepts a batch of k examples created from the dataset above and returns two tensors:\n",
    "a tensor of shape (k,) containing the labels of the batch, and a tensor of shape (k, m), in which m is the number of tokens in the vocabulary, containing the bow vectors for the examples. Further:\n",
    "\n",
    "1. The labels in the dataset are numbers 1 to 4. Since PyTorch is 0-indexed, please convert them to numbers 0 to 3 in the collate function.\n",
    "2. Remember that the entry in each bow vector is the **relative frequency** of the word in the corresponding text."
   ],
   "metadata": {}
  },
  {
   "cell_type": "code",
   "execution_count": 337,
   "source": [
    "from torch.utils.data import DataLoader\r\n",
    "\r\n",
    "def collate_into_bow(batch):\r\n",
    "    \r\n",
    "## WRITE YOUR CODE BELOW    \r\n",
    "    labels = []\r\n",
    "    words_lst = []\r\n",
    "    for (label, words) in batch:\r\n",
    "        labels.append(int(label) - 1)\r\n",
    "        word_occurrence = Counter(words.split()) # count occurences for each word in example\r\n",
    "        words_lst.append(word_occurrence) \r\n",
    "    labels = torch.tensor(labels)\r\n",
    "\r\n",
    "    bow_vector = torch.zeros(len(words_lst), len(vocab))  # initiate bow vector of size (k, m)\r\n",
    "    for i in range(len(words_lst)):\r\n",
    "        for key, value in words_lst[i].items():\r\n",
    "            # replace ith example row and vocab index column with word occurence percentage\r\n",
    "            bow_vector[i, vocab[key]] = value/len(words_lst)\r\n",
    "\r\n",
    "    return labels, bow_vector\r\n",
    "\r\n",
    "\r\n",
    "def test_collate():\r\n",
    "    w1 = vocab.itos[3]\r\n",
    "    w2 = vocab.itos[7]\r\n",
    "    w3 = vocab.itos[8]\r\n",
    "    w4 = vocab.itos[9]\r\n",
    "    examples = [\r\n",
    "        (1, \" \".join([w1, w2, w3, w4])),\r\n",
    "        (2, \" \".join([w2, w1, w3, w4])),\r\n",
    "        (4, \" \".join([w4, w2, w3, w4])),\r\n",
    "        (3, \" \".join([w2, w2, w2, w4])),\r\n",
    "    ]\r\n",
    "    bowt = torch.tensor(\r\n",
    "        [\r\n",
    "            [0.0, 0.0, 0.0, 0.25, 0.0, 0.0, 0.0, 0.25, 0.25, 0.25],\r\n",
    "            [0.0, 0.0, 0.0, 0.25, 0.0, 0.0, 0.0, 0.25, 0.25, 0.25],\r\n",
    "            [0.0, 0.0, 0.0, 0.0, 0.0, 0.0, 0.0, 0.25, 0.25, 0.50],\r\n",
    "            [0.0, 0.0, 0.0, 0.0, 0.0, 0.0, 0.0, 0.75, 0.0, 0.25],\r\n",
    "        ]) \r\n",
    "    lt, tt = collate_into_bow(examples)\r\n",
    "    assert torch.equal(lt, torch.tensor([0, 1, 3, 2]))\r\n",
    "    assert torch.equal(tt[:,:10], bowt)\r\n",
    "    assert tt[:,10:].sum().item() == 0.00\r\n",
    "    print('Test passed.')\r\n",
    "    \r\n",
    "test_collate()\r\n"
   ],
   "outputs": [
    {
     "output_type": "stream",
     "name": "stdout",
     "text": [
      "Test passed.\n"
     ]
    }
   ],
   "metadata": {}
  },
  {
   "cell_type": "markdown",
   "source": [
    "The collate function is provided to a dataloader as shown below."
   ],
   "metadata": {}
  },
  {
   "cell_type": "code",
   "execution_count": 338,
   "source": [
    "train_iter = AG_NEWS(split='train')\r\n",
    "dataloader = DataLoader(train_iter, batch_size=16, shuffle=False, \r\n",
    "                        collate_fn=collate_into_bow)\r\n",
    "for idx, (lt, tt) in enumerate(dataloader):\r\n",
    "    print(idx, lt.shape, tt.shape)\r\n",
    "    if idx == 4: break"
   ],
   "outputs": [
    {
     "output_type": "stream",
     "name": "stdout",
     "text": [
      "0 torch.Size([16]) torch.Size([16, 633])\n",
      "1 torch.Size([16]) torch.Size([16, 633])\n",
      "2 torch.Size([16]) torch.Size([16, 633])\n",
      "3 torch.Size([16]) torch.Size([16, 633])\n",
      "4 torch.Size([16]) torch.Size([16, 633])\n"
     ]
    }
   ],
   "metadata": {}
  },
  {
   "cell_type": "markdown",
   "source": [
    "## A BoW Classifier Class\n",
    "\n",
    "**Task 6** [3]: Write a BoWClassifier class with one single linear layer,\n",
    "similar to the one in [Robert Guthrie's tutorial](https://pytorch.org/tutorials/beginner/nlp/deep_learning_tutorial.html#sphx-glr-beginner-nlp-deep-learning-tutorial-py).\n"
   ],
   "metadata": {}
  },
  {
   "cell_type": "code",
   "execution_count": 339,
   "source": [
    "from torch import nn\r\n",
    "import torch.nn.functional as F\r\n",
    "\r\n",
    "class BoWClassifier(nn.Module):\r\n",
    "    \r\n",
    "## WRITE YOUR CODE BELOW\r\n",
    "    def __init__(self, num_labels, vocab_size):\r\n",
    "        # calls the init function of nn.Module.  Dont get confused by syntax,\r\n",
    "        # just always do it in an nn.Module\r\n",
    "        super(BoWClassifier, self).__init__()\r\n",
    "        self.linear = nn.Linear(in_features=vocab_size,\r\n",
    "                                out_features=num_labels)\r\n",
    "\r\n",
    "    def forward(self, bow_vec):\r\n",
    "        # Pass the input through the linear layer - then through log_softmax.\r\n",
    "        return F.log_softmax(self.linear(bow_vec), dim=1)\r\n"
   ],
   "outputs": [],
   "metadata": {}
  },
  {
   "cell_type": "markdown",
   "source": [
    "The following creates a model object of the class BoWClassifier.\n",
    "\n",
    "\n"
   ],
   "metadata": {}
  },
  {
   "cell_type": "code",
   "execution_count": 340,
   "source": [
    "train_data = AG_NEWS(split='train')\r\n",
    "num_labels = len(set([label for (label, text) in train_iter]))\r\n",
    "vocab_size = len(vocab)\r\n",
    "model = BoWClassifier(num_labels, vocab_size)"
   ],
   "outputs": [],
   "metadata": {}
  },
  {
   "cell_type": "markdown",
   "source": [
    "## Training an epoch\n",
    "\n",
    "The code below is similar to what we saw in Gutherie's tutorial. It prints the loss every 500 iterations. ``model.train()`` is used by PyTorch to set the model in training model.  This usually only impacts some advanced architectures."
   ],
   "metadata": {}
  },
  {
   "cell_type": "code",
   "execution_count": 341,
   "source": [
    "import time\r\n",
    "\r\n",
    "loss_function = torch.nn.NLLLoss()\r\n",
    "\r\n",
    "def train_an_epoch(dataloader):\r\n",
    "    model.train() # Sets the module in training mode.\r\n",
    "    log_interval = 500\r\n",
    "\r\n",
    "    for idx, (label, text) in enumerate(dataloader):\r\n",
    "        model.zero_grad()\r\n",
    "        log_probs = model(text)\r\n",
    "        loss = loss_function(log_probs, label)\r\n",
    "        loss.backward()\r\n",
    "        optimizer.step()\r\n",
    "        if idx % log_interval == 0 and idx > 0:\r\n",
    "            print(f'At iteration {idx} the loss is {loss:.3f}.')"
   ],
   "outputs": [],
   "metadata": {}
  },
  {
   "cell_type": "markdown",
   "source": [
    "## Computing average accuracy on a validation set\n",
    "\n",
    "**Task 7** [3]: Write a function ``get_accuracy`` to compute the average accuracy of the model for a given dataloader.  Your code should iterate through all the examples, for each find the predicted label with the highest probability, and count the number of examples in which this predicted label is correct.  It should then return the average accuracy. Remember that although most batches will have a fixed number of examples (the given batch size), the last batch may have fewer examples.  So you should explicitly count the number of examples in each batch."
   ],
   "metadata": {}
  },
  {
   "cell_type": "code",
   "execution_count": 342,
   "source": [
    "def get_accuracy(dataloader):\r\n",
    "    model.eval()\r\n",
    "    with torch.no_grad():\r\n",
    "    ## WRITE YOUR CODE BELOW.    \r\n",
    "        total_acc, total_count = 0, 0\r\n",
    "        for idx, (label, word_idxs) in enumerate(dataloader):\r\n",
    "            log_probs = model(word_idxs)\r\n",
    "            total_acc += (log_probs.argmax(1) == label).sum().item()\r\n",
    "            total_count += label.size(0)\r\n",
    "    return total_acc/total_count\r\n"
   ],
   "outputs": [],
   "metadata": {}
  },
  {
   "cell_type": "markdown",
   "source": [
    "## Create training, validation, and testing dataloaders\n",
    "\n",
    "Since the original ``AG_NEWS`` has no valid dataset, we split the training\n",
    "dataset into train/valid sets with a split ratio of 0.95 (train) and\n",
    "0.05 (valid). Here we use\n",
    "[``torch.utils.data.dataset.random_split``](https://pytorch.org/docs/stable/data.html?highlight=random_split#torch.utils.data.random_split)\n",
    "function in PyTorch core library."
   ],
   "metadata": {}
  },
  {
   "cell_type": "code",
   "execution_count": 343,
   "source": [
    "from torch.utils.data.dataset import random_split\r\n",
    "\r\n",
    "BATCH_SIZE = 64 # batch size for training\r\n",
    "  \r\n",
    "train_valid_data, test_data = AG_NEWS()\r\n",
    "train_valid_data = list(train_valid_data)\r\n",
    "num_train = int(len(train_valid_data) * 0.95)\r\n",
    "num_valid = len(train_valid_data) - num_train\r\n",
    "train_data, valid_data = random_split(\r\n",
    "    train_valid_data, [num_train, num_valid])\r\n",
    "\r\n",
    "train_dataloader = DataLoader(train_data, batch_size=BATCH_SIZE,\r\n",
    "                              shuffle=True, \r\n",
    "                              collate_fn=collate_into_bow)\r\n",
    "valid_dataloader = DataLoader(valid_data, batch_size=BATCH_SIZE,\r\n",
    "                              shuffle=False, \r\n",
    "                              collate_fn=collate_into_bow)\r\n",
    "test_dataloader = DataLoader(test_data, batch_size=BATCH_SIZE,\r\n",
    "                             shuffle=False, \r\n",
    "                             collate_fn=collate_into_bow)"
   ],
   "outputs": [],
   "metadata": {}
  },
  {
   "cell_type": "markdown",
   "source": [
    "## Training"
   ],
   "metadata": {}
  },
  {
   "cell_type": "code",
   "execution_count": 344,
   "source": [
    "import matplotlib.pyplot as plt\r\n",
    "%matplotlib inline\r\n",
    "\r\n",
    "EPOCHS = 10 # epoch \r\n",
    "optimizer = torch.optim.SGD(model.parameters(), lr=3)\r\n",
    "\r\n",
    "validation_accuracies = []\r\n",
    "for epoch in range(1, EPOCHS + 1):\r\n",
    "    epoch_start_time = time.time()\r\n",
    "    train_an_epoch(train_dataloader)\r\n",
    "    validation_accuracy = get_accuracy(valid_dataloader)\r\n",
    "    validation_accuracies.append(validation_accuracy)\r\n",
    "    time_taken = time.time() - epoch_start_time\r\n",
    "    print()\r\n",
    "    print(\r\n",
    "        f'After epoch {epoch} the validation accuracy is {validation_accuracy:.3f}.')\r\n",
    "    print()\r\n",
    "\r\n",
    "plt.title(\"Accuracy by Number of Epochs\")\r\n",
    "plt.ylabel(\"Accuracy\")\r\n",
    "plt.xlabel(\"Epochs\")\r\n",
    "plt.grid()\r\n",
    "plt.plot(range(1, EPOCHS+1), validation_accuracies, \"r\", label=\"validation accuracy\")\r\n",
    "plt.legend()\r\n",
    "plt.savefig(f\"Accuracy{EPOCHS}epochs.jpg\")\r\n"
   ],
   "outputs": [
    {
     "output_type": "stream",
     "name": "stdout",
     "text": [
      "At iteration 500 the loss is 1.406.\n",
      "At iteration 1000 the loss is 1.423.\n",
      "At iteration 1500 the loss is 1.353.\n",
      "\n",
      "After epoch 1 the validation accuracy is 0.366.\n",
      "\n",
      "At iteration 500 the loss is 1.300.\n",
      "At iteration 1000 the loss is 1.275.\n",
      "At iteration 1500 the loss is 1.267.\n",
      "\n",
      "After epoch 2 the validation accuracy is 0.382.\n",
      "\n",
      "At iteration 500 the loss is 1.319.\n",
      "At iteration 1000 the loss is 1.216.\n",
      "At iteration 1500 the loss is 1.289.\n",
      "\n",
      "After epoch 3 the validation accuracy is 0.484.\n",
      "\n",
      "At iteration 500 the loss is 1.223.\n",
      "At iteration 1000 the loss is 1.252.\n",
      "At iteration 1500 the loss is 1.286.\n",
      "\n",
      "After epoch 4 the validation accuracy is 0.390.\n",
      "\n",
      "At iteration 500 the loss is 1.157.\n",
      "At iteration 1000 the loss is 1.200.\n",
      "At iteration 1500 the loss is 1.141.\n",
      "\n",
      "After epoch 5 the validation accuracy is 0.265.\n",
      "\n",
      "At iteration 500 the loss is 1.157.\n",
      "At iteration 1000 the loss is 1.234.\n",
      "At iteration 1500 the loss is 1.143.\n",
      "\n",
      "After epoch 6 the validation accuracy is 0.507.\n",
      "\n",
      "At iteration 500 the loss is 1.172.\n",
      "At iteration 1000 the loss is 1.186.\n",
      "At iteration 1500 the loss is 1.194.\n",
      "\n",
      "After epoch 7 the validation accuracy is 0.286.\n",
      "\n",
      "At iteration 500 the loss is 1.111.\n",
      "At iteration 1000 the loss is 1.201.\n",
      "At iteration 1500 the loss is 1.114.\n",
      "\n",
      "After epoch 8 the validation accuracy is 0.498.\n",
      "\n",
      "At iteration 500 the loss is 1.123.\n",
      "At iteration 1000 the loss is 1.182.\n",
      "At iteration 1500 the loss is 1.272.\n",
      "\n",
      "After epoch 9 the validation accuracy is 0.478.\n",
      "\n",
      "At iteration 500 the loss is 1.099.\n",
      "At iteration 1000 the loss is 1.128.\n",
      "At iteration 1500 the loss is 1.179.\n",
      "\n",
      "After epoch 10 the validation accuracy is 0.536.\n",
      "\n",
      "At iteration 500 the loss is 1.084.\n",
      "At iteration 1000 the loss is 1.206.\n",
      "At iteration 1500 the loss is 1.074.\n",
      "\n",
      "After epoch 11 the validation accuracy is 0.510.\n",
      "\n",
      "At iteration 500 the loss is 1.104.\n",
      "At iteration 1000 the loss is 1.179.\n",
      "At iteration 1500 the loss is 1.029.\n",
      "\n",
      "After epoch 12 the validation accuracy is 0.523.\n",
      "\n",
      "At iteration 500 the loss is 1.066.\n",
      "At iteration 1000 the loss is 1.084.\n",
      "At iteration 1500 the loss is 1.177.\n",
      "\n",
      "After epoch 13 the validation accuracy is 0.550.\n",
      "\n",
      "At iteration 500 the loss is 1.009.\n",
      "At iteration 1000 the loss is 1.034.\n",
      "At iteration 1500 the loss is 1.108.\n",
      "\n",
      "After epoch 14 the validation accuracy is 0.515.\n",
      "\n",
      "At iteration 500 the loss is 1.124.\n",
      "At iteration 1000 the loss is 1.069.\n",
      "At iteration 1500 the loss is 1.085.\n",
      "\n",
      "After epoch 15 the validation accuracy is 0.525.\n",
      "\n"
     ]
    },
    {
     "output_type": "display_data",
     "data": {
      "text/plain": [
       "<Figure size 432x288 with 1 Axes>"
      ],
      "image/png": "[encoded data removed]"
     },
     "metadata": {
      "needs_background": "light"
     }
    }
   ],
   "metadata": {}
  },
  {
   "cell_type": "markdown",
   "source": [
    "**Task 8** [5]: Run the model for a sufficient number of epochs such that the model shows overfitting, and submit a pdf of the plot of accuracy against number of epochs.  Determine the optimal number of epochs to train for.  Write code to estimate the accuracy of your model corresponding to this optimal number of epocs and report this estimated accuracy.\n",
    "\n",
    "**Task 9** [2]: Notice above that both the printed losses and the accuracies keep varying and do not necessary increase or decrease in a steady fashion.  List all the reasons you can think of for this variance in the loss and the accuracy."
   ],
   "metadata": {}
  },
  {
   "cell_type": "code",
   "execution_count": 345,
   "source": [
    "'''\r\n",
    "Task 8: Determine the optimal number of epochs to train for.\r\n",
    "We can see from the graph that the accuracy increases rapidly until just before 10 epochs, \r\n",
    "at which point the accuracy continues to increases slow and steadily. For the sake of time, \r\n",
    "10 epochs should be enough time to capture the spike in accuracy, while not being too long to \r\n",
    "get just a few percentage points higher.\r\n",
    "\r\n",
    "Task 9: This high variability may be caused by a learning rate that is too high. \r\n",
    "This is a gradient decent algorithm, and the gradient should to converge to zero with ideal parameters.\r\n",
    "Currently the learning rate is set to 3, and perhaps the model is overcorrecting the bottom of the loss curve each time.\r\n",
    "I would try reducing the learning rate to something that more easily converges to zero without taking too much longer to compute.\r\n",
    "'''\r\n"
   ],
   "outputs": [
    {
     "output_type": "execute_result",
     "data": {
      "text/plain": [
       "'\\nTask 8: Determine the optimal number of epochs to train for.\\nWe can see from the graph that the accuracy increases rapidly until just before 10 epochs, \\nat which point the accuracy continues to increases slow and steadily. For the sake of time, \\n10 epochs should be enough time to capture the spike in accuracy, while not being too long to \\nget just a few percentage points higher.\\n\\nTask 9: This high variability may be caused by a learning rate that is too high. \\nThis is a gradient decent algorithm, and the gradient should to converge to zero with ideal parameters.\\nCurrently the learning rate is set to 3, and perhaps the model is overcorrecting the bottom of the loss curve each time.\\nI would try reducing the learning rate to something that more easily converges to zero without taking too much longer to compute.\\n'"
      ]
     },
     "metadata": {},
     "execution_count": 345
    }
   ],
   "metadata": {}
  },
  {
   "cell_type": "markdown",
   "source": [
    "## Adding a pre-trained embedding\n",
    "\n",
    "[GloVe](https://nlp.stanford.edu/projects/glove/) is set of dense vector representations, or embeddings.  Torchtext has support for GloVe. (It takes several minutes the first time---to download.)"
   ],
   "metadata": {}
  },
  {
   "cell_type": "code",
   "execution_count": 346,
   "source": [
    "from itertools import combinations\r\n",
    "from torchtext.vocab import GloVe\r\n",
    "\r\n",
    "glove = GloVe(name='6B')  # global vectors\r\n",
    "\r\n",
    "words = [\"hello\", \"hi\", \"king\", \"president\"]\r\n",
    "vecs = glove.get_vecs_by_tokens(words)\r\n",
    "\r\n",
    "print(vecs.shape)\r\n",
    "print()\r\n",
    "for (i, j) in combinations(range(4), 2):\r\n",
    "    print(words[i], words[j], vecs[i].dot(vecs[j]))\r\n",
    "print()\r\n",
    "print(vecs)"
   ],
   "outputs": [
    {
     "output_type": "stream",
     "name": "stdout",
     "text": [
      "torch.Size([4, 300])\n",
      "\n",
      "hello hi tensor(13.7214)\n",
      "hello king tensor(2.2427)\n",
      "hello president tensor(2.7678)\n",
      "hi king tensor(1.4366)\n",
      "hi president tensor(-2.7832)\n",
      "king president tensor(14.2624)\n",
      "\n",
      "tensor([[-0.3371, -0.2169, -0.0066,  ...,  0.4056,  0.1807,  0.6425],\n",
      "        [ 0.4084, -0.1843, -0.1757,  ..., -0.5265,  0.8163,  0.7427],\n",
      "        [ 0.0034, -0.3461,  0.2814,  ...,  0.0821, -0.6880,  0.3027],\n",
      "        [ 0.4367,  0.1879, -0.1702,  ...,  0.0329, -0.5214,  0.2229]])\n"
     ]
    }
   ],
   "metadata": {}
  },
  {
   "cell_type": "markdown",
   "source": [
    "**Task 10** [5]: Write a new collate function ``collate_into_cbow`` that returns a CBoW representation of each batch, using GloVe.\n",
    "\n",
    "**Task 11** [2]: Write copies of other functions as needed to determine the estimate accuracy of the (optimal) model that incorporates GloVe."
   ],
   "metadata": {}
  },
  {
   "cell_type": "code",
   "execution_count": 347,
   "source": [
    "def collate_into_cbow(batch):\r\n",
    "    '''\r\n",
    "    Input:\r\n",
    "    A batch (list) containing single strings of words separated by spaces (sentence strings).\r\n",
    "\r\n",
    "    Returns\r\n",
    "        1. A tensor of labels for each of the sentence in the dataset\r\n",
    "        2. A tensor of the vectors representing each of the sentences in the dataset\r\n",
    "    '''\r\n",
    "    labels = []\r\n",
    "    vecs = []\r\n",
    "    for (label, words) in batch:\r\n",
    "        labels.append(int(label) - 1)\r\n",
    "        # average the word embeddings along columns (axis=0)\r\n",
    "        # make vecs a list of lists instead of a list of tensors, then make the embedded list a tensor.\r\n",
    "        vecs.append(glove.get_vecs_by_tokens(words.split()).mean(dim=0).tolist()) \r\n",
    "    labels = torch.tensor(labels)\r\n",
    "    vecs = torch.tensor(vecs)\r\n",
    "    return labels, vecs\r\n",
    "\r\n"
   ],
   "outputs": [],
   "metadata": {}
  },
  {
   "cell_type": "code",
   "execution_count": 348,
   "source": [
    "dataloader_continuous = DataLoader(train_iter, batch_size=16, shuffle=False,\r\n",
    "                        collate_fn=collate_into_cbow)\r\n",
    "for idx, (lt, tt) in enumerate(dataloader_continuous):\r\n",
    "    print(idx, lt.shape, tt.shape)\r\n",
    "    if idx == 4:\r\n",
    "        break\r\n"
   ],
   "outputs": [],
   "metadata": {}
  },
  {
   "cell_type": "code",
   "execution_count": 349,
   "source": [
    "def train_an_epoch_continuous(dataloader_continuous):\r\n",
    "    model.train()  # Sets the module in training mode.\r\n",
    "    log_interval = 500\r\n",
    "\r\n",
    "    for idx, (label, text) in enumerate(dataloader_continuous):\r\n",
    "        model.zero_grad()\r\n",
    "        log_probs = model(text)\r\n",
    "        loss = loss_function(log_probs, label)\r\n",
    "        loss.backward()\r\n",
    "        optimizer.step()\r\n",
    "        if idx % log_interval == 0 and idx > 0:\r\n",
    "            print(f'At iteration {idx} the loss is {loss:.3f}.')\r\n"
   ],
   "outputs": [],
   "metadata": {}
  },
  {
   "cell_type": "code",
   "execution_count": 350,
   "source": [
    "def get_Adam_accuracy(dataloader_continuous):\r\n",
    "    model.eval()\r\n",
    "    with torch.no_grad():\r\n",
    "        total_acc, total_count = 0, 0\r\n",
    "        for idx, (label, word_idxs) in enumerate(dataloader_continuous):\r\n",
    "            log_probs = model(word_idxs)\r\n",
    "            total_acc += (log_probs.argmax(1) == label).sum().item()\r\n",
    "            total_count += label.size(0)\r\n",
    "    return total_acc/total_count\r\n"
   ],
   "outputs": [],
   "metadata": {}
  },
  {
   "cell_type": "markdown",
   "source": [
    "## Using the Adam optimizer\n",
    "\n",
    "The [Adam](https://pytorch.org/docs/stable/optim.html#torch.optim.Adam) is usually preferred to SGD because of better convergence properites.\n",
    "\n",
    "**Task 12** [3]: Write copies of functions as needed to plot the convergence of the Adam optimizer."
   ],
   "metadata": {}
  },
  {
   "cell_type": "code",
   "execution_count": 351,
   "source": [
    "import time\r\n",
    "import matplotlib.pyplot as plt\r\n",
    "%matplotlib inline\r\n",
    "\r\n",
    "optimizer = torch.optim.Adam(model.parameters(), lr=1e-4)\r\n",
    "\r\n",
    "validation_accuracies = []\r\n",
    "for epoch in range(1, EPOCHS + 1):\r\n",
    "    epoch_start_time = time.time()\r\n",
    "    train_an_epoch_continuous(train_dataloader)\r\n",
    "    validation_accuracy = get_Adam_accuracy(valid_dataloader)\r\n",
    "    validation_accuracies.append(validation_accuracy)\r\n",
    "    time_taken = time.time() - epoch_start_time\r\n",
    "    print()\r\n",
    "    print(\r\n",
    "        f'After epoch {epoch} the validation accuracy is {validation_accuracy:.3f}.')\r\n",
    "    print()\r\n",
    "\r\n",
    "plt.title(\"Accuracy by Number of Epochs\")\r\n",
    "plt.ylabel(\"Accuracy\")\r\n",
    "plt.xlabel(\"Epochs\")\r\n",
    "plt.grid()\r\n",
    "plt.plot(range(1, EPOCHS+1), validation_accuracies,\r\n",
    "         \"r\", label=\"validation accuracy\")\r\n",
    "plt.legend()\r\n",
    "plt.savefig(f\"AdamAccuracy{EPOCHS}epochs.jpg\")\r\n"
   ],
   "outputs": [
    {
     "output_type": "stream",
     "name": "stdout",
     "text": [
      "At iteration 500 the loss is 1.196.\n",
      "At iteration 1000 the loss is 1.005.\n",
      "At iteration 1500 the loss is 1.055.\n",
      "\n",
      "After epoch 1 the validation accuracy is 0.577.\n",
      "\n",
      "At iteration 500 the loss is 0.983.\n",
      "At iteration 1000 the loss is 1.048.\n",
      "At iteration 1500 the loss is 1.008.\n",
      "\n",
      "After epoch 2 the validation accuracy is 0.602.\n",
      "\n",
      "At iteration 500 the loss is 1.032.\n",
      "At iteration 1000 the loss is 0.975.\n",
      "At iteration 1500 the loss is 1.033.\n",
      "\n",
      "After epoch 3 the validation accuracy is 0.609.\n",
      "\n",
      "At iteration 500 the loss is 1.074.\n",
      "At iteration 1000 the loss is 1.052.\n",
      "At iteration 1500 the loss is 1.092.\n",
      "\n",
      "After epoch 4 the validation accuracy is 0.615.\n",
      "\n",
      "At iteration 500 the loss is 1.071.\n",
      "At iteration 1000 the loss is 1.043.\n",
      "At iteration 1500 the loss is 1.020.\n",
      "\n",
      "After epoch 5 the validation accuracy is 0.614.\n",
      "\n",
      "At iteration 500 the loss is 1.042.\n",
      "At iteration 1000 the loss is 1.014.\n",
      "At iteration 1500 the loss is 1.020.\n",
      "\n",
      "After epoch 6 the validation accuracy is 0.615.\n",
      "\n",
      "At iteration 500 the loss is 0.940.\n",
      "At iteration 1000 the loss is 1.073.\n",
      "At iteration 1500 the loss is 1.097.\n",
      "\n",
      "After epoch 7 the validation accuracy is 0.617.\n",
      "\n",
      "At iteration 500 the loss is 1.000.\n",
      "At iteration 1000 the loss is 1.048.\n",
      "At iteration 1500 the loss is 1.033.\n",
      "\n",
      "After epoch 8 the validation accuracy is 0.618.\n",
      "\n",
      "At iteration 500 the loss is 1.126.\n",
      "At iteration 1000 the loss is 1.096.\n",
      "At iteration 1500 the loss is 1.004.\n",
      "\n",
      "After epoch 9 the validation accuracy is 0.620.\n",
      "\n",
      "At iteration 500 the loss is 0.970.\n",
      "At iteration 1000 the loss is 1.120.\n",
      "At iteration 1500 the loss is 0.973.\n",
      "\n",
      "After epoch 10 the validation accuracy is 0.622.\n",
      "\n",
      "At iteration 500 the loss is 1.076.\n",
      "At iteration 1000 the loss is 1.138.\n",
      "At iteration 1500 the loss is 0.992.\n",
      "\n",
      "After epoch 11 the validation accuracy is 0.624.\n",
      "\n",
      "At iteration 500 the loss is 1.019.\n",
      "At iteration 1000 the loss is 1.073.\n",
      "At iteration 1500 the loss is 1.130.\n",
      "\n",
      "After epoch 12 the validation accuracy is 0.625.\n",
      "\n",
      "At iteration 500 the loss is 0.931.\n",
      "At iteration 1000 the loss is 0.962.\n",
      "At iteration 1500 the loss is 1.052.\n",
      "\n",
      "After epoch 13 the validation accuracy is 0.625.\n",
      "\n",
      "At iteration 500 the loss is 0.996.\n",
      "At iteration 1000 the loss is 0.962.\n",
      "At iteration 1500 the loss is 1.015.\n",
      "\n",
      "After epoch 14 the validation accuracy is 0.627.\n",
      "\n",
      "At iteration 500 the loss is 1.022.\n",
      "At iteration 1000 the loss is 0.953.\n",
      "At iteration 1500 the loss is 1.079.\n",
      "\n",
      "After epoch 15 the validation accuracy is 0.628.\n",
      "\n"
     ]
    },
    {
     "output_type": "display_data",
     "data": {
      "text/plain": [
       "<Figure size 432x288 with 1 Axes>"
      ],
      "image/png": "[encoded data removed]"
     },
     "metadata": {
      "needs_background": "light"
     }
    }
   ],
   "metadata": {}
  },
  {
   "cell_type": "markdown",
   "source": [
    "## Other Optimizations\n",
    "\n",
    "**Task 13** [3]: Briefly desribe 3 ways by which you could make the above code run faster or improve its accuracy.  (You don't have to implement your suggestions.)"
   ],
   "metadata": {}
  },
  {
   "cell_type": "code",
   "execution_count": 352,
   "source": [
    "'''\r\n",
    "1. We could increase the number of words in our vocabulary by decreasing the min_freq parameter. \r\n",
    "   This would give us more words in our dataset, which could assist with the accuracy of our model.\r\n",
    "2. We could implement k-fold cross validation resampling to optimize the training of our model, \r\n",
    "   which could assist with its accuracy.\r\n",
    "3. We could run an ensemble of classifiers in addition to BoW, such as BERT and word2vec, \r\n",
    "   and use the model with the greatest properly-fitted accuracy.\r\n",
    "'''\r\n"
   ],
   "outputs": [
    {
     "output_type": "execute_result",
     "data": {
      "text/plain": [
       "'\\n1. We could increase the number of words in our vocabulary by decreasing the min_freq parameter. \\n   This would give us more words in our dataset, which could assist with the accuracy of our model.\\n2. We could implement k-fold cross validation resampling to optimize the training of our model, \\n   which could assist with its accuracy.\\n3. We could run an ensemble of classifiers in addition to BoW, such as BERT and word2vec, \\n   and use the model with the greatest properly-fitted accuracy.\\n'"
      ]
     },
     "metadata": {},
     "execution_count": 352
    }
   ],
   "metadata": {}
  }
 ],
 "metadata": {
  "kernelspec": {
   "display_name": "Python 3",
   "language": "python",
   "name": "python3"
  },
  "language_info": {
   "codemirror_mode": {
    "name": "ipython",
    "version": 3
   },
   "file_extension": ".py",
   "mimetype": "text/x-python",
   "name": "python",
   "nbconvert_exporter": "python",
   "pygments_lexer": "ipython3",
   "version": "3.8.5"
  }
 },
 "nbformat": 4,
 "nbformat_minor": 1
}