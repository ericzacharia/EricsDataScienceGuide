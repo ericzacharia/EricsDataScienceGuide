{
 "cells": [
  {
   "cell_type": "markdown",
   "source": [
    "# Neural Network-based Part of Speech Tagger\n",
    "\n",
    "In this problem, we will\n",
    "- Build a neural network based part of speech (POS) tagger.\n",
    "- Run the model on a GPU at Google Colab.\n",
    "- Extend the model to use pretrained embeddings.\n",
    "- Optionally extend the model in some manner of your own choosing.\n",
    "\n",
    "There are a total of 8 tasks.\n",
    "\n",
    "Acknowledgements: Part of this homework were adapted from work done by\n",
    "[Ben Trevett](https://github.com/bentrevett) and\n",
    "[Kevin Gimpel](https://home.ttic.edu/~kgimpel/)."
   ],
   "metadata": {}
  },
  {
   "cell_type": "code",
   "execution_count": 12,
   "source": [
    "!pip install torchtext==0.9.0"
   ],
   "outputs": [
    {
     "output_type": "stream",
     "name": "stdout",
     "text": [
      "Requirement already satisfied: torchtext==0.9.0 in c:\\users\\hocke\\appdata\\local\\programs\\python\\python39\\lib\\site-packages (0.9.0)\n",
      "Requirement already satisfied: numpy in c:\\users\\hocke\\appdata\\local\\programs\\python\\python39\\lib\\site-packages (from torchtext==0.9.0) (1.21.0)\n",
      "Requirement already satisfied: tqdm in c:\\users\\hocke\\appdata\\local\\programs\\python\\python39\\lib\\site-packages (from torchtext==0.9.0) (4.60.0)\n",
      "Requirement already satisfied: requests in c:\\users\\hocke\\appdata\\local\\programs\\python\\python39\\lib\\site-packages (from torchtext==0.9.0) (2.25.1)\n",
      "Requirement already satisfied: torch==1.8.0 in c:\\users\\hocke\\appdata\\local\\programs\\python\\python39\\lib\\site-packages (from torchtext==0.9.0) (1.8.0)\n",
      "Requirement already satisfied: typing-extensions in c:\\users\\hocke\\appdata\\local\\programs\\python\\python39\\lib\\site-packages (from torch==1.8.0->torchtext==0.9.0) (3.7.4.3)\n",
      "Requirement already satisfied: chardet<5,>=3.0.2 in c:\\users\\hocke\\appdata\\local\\programs\\python\\python39\\lib\\site-packages (from requests->torchtext==0.9.0) (4.0.0)\n",
      "Requirement already satisfied: urllib3<1.27,>=1.21.1 in c:\\users\\hocke\\appdata\\local\\programs\\python\\python39\\lib\\site-packages (from requests->torchtext==0.9.0) (1.26.4)\n",
      "Requirement already satisfied: certifi>=2017.4.17 in c:\\users\\hocke\\appdata\\local\\programs\\python\\python39\\lib\\site-packages (from requests->torchtext==0.9.0) (2020.12.5)\n",
      "Requirement already satisfied: idna<3,>=2.5 in c:\\users\\hocke\\appdata\\local\\programs\\python\\python39\\lib\\site-packages (from requests->torchtext==0.9.0) (2.10)\n"
     ]
    },
    {
     "output_type": "stream",
     "name": "stderr",
     "text": [
      "WARNING: Value for scheme.headers does not match. Please report this to <https://github.com/pypa/pip/issues/9617>\n",
      "distutils: c:\\users\\hocke\\appdata\\local\\programs\\python\\python39\\Include\\UNKNOWN\n",
      "sysconfig: c:\\users\\hocke\\appdata\\local\\programs\\python\\python39\\Include\n",
      "WARNING: Additional context:\n",
      "user = False\n",
      "home = None\n",
      "root = None\n",
      "prefix = None\n",
      "WARNING: Value for scheme.headers does not match. Please report this to <https://github.com/pypa/pip/issues/9617>\n",
      "distutils: c:\\users\\hocke\\appdata\\local\\programs\\python\\python39\\Include\\UNKNOWN\n",
      "sysconfig: c:\\users\\hocke\\appdata\\local\\programs\\python\\python39\\Include\n",
      "WARNING: Additional context:\n",
      "user = False\n",
      "home = None\n",
      "root = None\n",
      "prefix = None\n",
      "WARNING: You are using pip version 21.1; however, version 21.1.3 is available.\n",
      "You should consider upgrading via the 'c:\\users\\hocke\\appdata\\local\\programs\\python\\python39\\python.exe -m pip install --upgrade pip' command.\n"
     ]
    }
   ],
   "metadata": {}
  },
  {
   "cell_type": "code",
   "execution_count": 13,
   "source": [
    "import torch\r\n",
    "import torch.nn as nn\r\n",
    "import torch.optim as optim\r\n",
    "\r\n",
    "# import torchtext\r\n",
    "# torchtext.__version__\r\n",
    "from torchtext import data\r\n",
    "from torchtext import datasets\r\n",
    "\r\n",
    "from collections import Counter\r\n",
    "from torchtext.vocab import Vocab\r\n",
    "\r\n",
    "import numpy as np\r\n",
    "import random\r\n"
   ],
   "outputs": [],
   "metadata": {}
  },
  {
   "cell_type": "code",
   "execution_count": 14,
   "source": [
    "SEED = 53113 # Specify a seed for reproducability\r\n",
    "\r\n",
    "random.seed(SEED)\r\n",
    "np.random.seed(SEED)\r\n",
    "torch.manual_seed(SEED)\r\n",
    "if torch.cuda.is_available():\r\n",
    "    torch.cuda.manual_seed(SEED)\r\n",
    "torch.backends.cudnn.deterministic = True"
   ],
   "outputs": [],
   "metadata": {}
  },
  {
   "cell_type": "markdown",
   "source": [
    "### Using GPUs\n",
    "\n",
    "We want our code to run on a CPU or on a [GPU](https://en.wikipedia.org/wiki/Graphics_processing_unit) when available, as on Google Colab.  The code will likely run at least five times as fast on a GPU. PyTorch connects with a GPU via the system interface [CUDA](https://en.wikipedia.org/wiki/CUDA).\n",
    "\n",
    "The following tells us whether CUDA/GPU is available or not.  The changes you have to make so that your code can use a GPU when available are surprisingly small. All such changes have already been made in the provided code below. They are:\n",
    "- the data loader needs to place the input to the model appropriately using `to(device).`\n",
    "- similarly, the model object itself needs to be placed appropriately using `to(device).`\n"
   ],
   "metadata": {}
  },
  {
   "cell_type": "code",
   "execution_count": 15,
   "source": [
    "device = torch.device('cuda' if torch.cuda.is_available() else 'cpu')"
   ],
   "outputs": [],
   "metadata": {}
  },
  {
   "cell_type": "markdown",
   "source": [
    "### Cache for GloVe\n",
    "\n",
    "If you have already downloaded GloVe in a directory, you can reuse it.  Please change the following if so, else choose None."
   ],
   "metadata": {}
  },
  {
   "cell_type": "code",
   "execution_count": 16,
   "source": [
    "if device == 'cpu':\r\n",
    "    VECTORS_CACHE_DIR = '/Users/hocke/.vector_cache'\r\n",
    "    # Please change above to your cache\r\n",
    "else:\r\n",
    "    VECTORS_CACHE_DIR = './.vector_cache'\r\n",
    "    # This is the default cache on Colab. Caching may not work\r\n",
    "    # as expected on Colab.\r\n",
    "    \r\n",
    "# VECTORS_CACHE_DIR = None"
   ],
   "outputs": [],
   "metadata": {}
  },
  {
   "cell_type": "markdown",
   "source": [
    "### UDPOS Dataset\n",
    "\n",
    "We'll work with the [`UDPOS`](https://pytorch.org/text/stable/datasets.html#udpos) dataset included with torchtext.  It contains about 12,500 sentences and the POS tags for the each word.  There are, in fact, two sets of tags, based on two different POS tagging standards: [Universal Dependency](https://universaldependencies.org/u/pos/) (UD) and [Penn Treebank](https://www.sketchengine.eu/penn-treebank-tagset/) (PTB). It has additionally about 2000 sentences in the validation and test sets.  The words and corresonding tags are organized into lists."
   ],
   "metadata": {}
  },
  {
   "cell_type": "code",
   "execution_count": 17,
   "source": [
    "train_iter = datasets.UDPOS(split = 'train')\r\n",
    "\r\n",
    "for i, example in enumerate(train_iter):\r\n",
    "    print(f'The sentence for Example {i} ---')\r\n",
    "    print(example[0])\r\n",
    "    print(f'The UD tags for Example {i} ---')\r\n",
    "    print(example[1])\r\n",
    "    print(f'The PTB tags for Example {i} ---')\r\n",
    "    print(example[2])\r\n",
    "    print()\r\n",
    "    if i == 2: break"
   ],
   "outputs": [
    {
     "output_type": "stream",
     "name": "stdout",
     "text": [
      "The sentence for Example 0 ---\n",
      "['Al', '-', 'Zaman', ':', 'American', 'forces', 'killed', 'Shaikh', 'Abdullah', 'al', '-', 'Ani', ',', 'the', 'preacher', 'at', 'the', 'mosque', 'in', 'the', 'town', 'of', 'Qaim', ',', 'near', 'the', 'Syrian', 'border', '.']\n",
      "The UD tags for Example 0 ---\n",
      "['PROPN', 'PUNCT', 'PROPN', 'PUNCT', 'ADJ', 'NOUN', 'VERB', 'PROPN', 'PROPN', 'PROPN', 'PUNCT', 'PROPN', 'PUNCT', 'DET', 'NOUN', 'ADP', 'DET', 'NOUN', 'ADP', 'DET', 'NOUN', 'ADP', 'PROPN', 'PUNCT', 'ADP', 'DET', 'ADJ', 'NOUN', 'PUNCT']\n",
      "The PTB tags for Example 0 ---\n",
      "['NNP', 'HYPH', 'NNP', ':', 'JJ', 'NNS', 'VBD', 'NNP', 'NNP', 'NNP', 'HYPH', 'NNP', ',', 'DT', 'NN', 'IN', 'DT', 'NN', 'IN', 'DT', 'NN', 'IN', 'NNP', ',', 'IN', 'DT', 'JJ', 'NN', '.']\n",
      "\n",
      "The sentence for Example 1 ---\n",
      "['[', 'This', 'killing', 'of', 'a', 'respected', 'cleric', 'will', 'be', 'causing', 'us', 'trouble', 'for', 'years', 'to', 'come', '.', ']']\n",
      "The UD tags for Example 1 ---\n",
      "['PUNCT', 'DET', 'NOUN', 'ADP', 'DET', 'ADJ', 'NOUN', 'AUX', 'AUX', 'VERB', 'PRON', 'NOUN', 'ADP', 'NOUN', 'PART', 'VERB', 'PUNCT', 'PUNCT']\n",
      "The PTB tags for Example 1 ---\n",
      "['-LRB-', 'DT', 'NN', 'IN', 'DT', 'JJ', 'NN', 'MD', 'VB', 'VBG', 'PRP', 'NN', 'IN', 'NNS', 'TO', 'VB', '.', '-RRB-']\n",
      "\n",
      "The sentence for Example 2 ---\n",
      "['DPA', ':', 'Iraqi', 'authorities', 'announced', 'that', 'they', 'had', 'busted', 'up', '3', 'terrorist', 'cells', 'operating', 'in', 'Baghdad', '.']\n",
      "The UD tags for Example 2 ---\n",
      "['PROPN', 'PUNCT', 'ADJ', 'NOUN', 'VERB', 'SCONJ', 'PRON', 'AUX', 'VERB', 'ADP', 'NUM', 'ADJ', 'NOUN', 'VERB', 'ADP', 'PROPN', 'PUNCT']\n",
      "The PTB tags for Example 2 ---\n",
      "['NNP', ':', 'JJ', 'NNS', 'VBD', 'IN', 'PRP', 'VBD', 'VBN', 'RP', 'CD', 'JJ', 'NNS', 'VBG', 'IN', 'NNP', '.']\n",
      "\n"
     ]
    }
   ],
   "metadata": {}
  },
  {
   "cell_type": "markdown",
   "source": [
    "### Preprocessing\n",
    "\n",
    "In our neural network-based model we can only accept fixed sized inputs.  Each input corresponds to a subsequence, consisting of a  center word and a number $w$ of words before and after, and the label is the POS tag for the center word. We often refer to the subsequence as a window of size $(2w + 1)$.\n",
    "\n",
    "So given a sentence, say, \"This killing of a respected cleric.' with, tags, say 'DET', 'NOUN', 'ADP', 'DET', 'ADJ', 'NOUN', 'PUNCT' (the last tag is for the period at the end of the sentence), some of our input examples for the model are the following (for $w = 1$):\n",
    "- \"This killing of\", 'NOUN'\n",
    "- \"killing of a\", 'ADP'\n",
    "- \"respected cleric.\", 'NOUN'.\n",
    "\n",
    "But the above scheme would imply that, when $w = 1$, the tags of the first and last words for any sentence would never be part of an example.  To avoid that, we add dummy '\\<s>' and '\\</s>' words, and corresponding tags, to the beginning and end of each sentence.  We need to add as many dummy words as $w$.  So if $w = 2$, we first convert the above sentence and its tags to\n",
    "- \"\\<s> \\<s> This killing of a respected cleric. \\</s> \\</s>' \n",
    "- 'STAG', 'STAG','DET', 'NOUN', 'ADP', 'DET', 'ADJ', 'NOUN', 'PUNCT', 'ETAG', 'ETAG'. \n",
    "\n",
    "**Task 1** [5 points]: Most of the code for preprocessing is given below.  But some parts are missing.  Complete the code."
   ],
   "metadata": {}
  },
  {
   "cell_type": "code",
   "execution_count": 18,
   "source": [
    "W = 1 # Number of words before and after\r\n",
    "WINDOW_SIZE = (2 * W + 1) # total number of words in the window\r\n",
    "\r\n",
    "SENT_START_WORD = '<s>'\r\n",
    "SENT_END_WORD = '</s>'\r\n",
    "SENT_START_TAG = '<STAG>'\r\n",
    "SENT_END_TAG = '<ETAG>'\r\n",
    "\r\n",
    "\r\n",
    "def add_sent_start_end(data_iter, w):\r\n",
    "    for (words, ud_tags, ptb_tags) in data_iter:\r\n",
    "        new_words = [SENT_START_WORD] * w + words + [SENT_END_WORD] * w\r\n",
    "        new_ud_tags = [SENT_START_TAG] * w + ud_tags + [SENT_END_TAG] * w\r\n",
    "        ## MISSING PART: ADD YOUR CODE BELOW\r\n",
    "        new_ptb_tags = [SENT_START_TAG] * w + ptb_tags + [SENT_END_TAG] * w\r\n",
    "        ## ADD YOUR CODE ABOVE\r\n",
    "        yield(new_words, new_ud_tags, new_ptb_tags)\r\n",
    "        \r\n",
    "def create_windows(data_iter, w):\r\n",
    "    window_size = 2*w + 1\r\n",
    "    for (words, ud_tags, ptb_tags) in data_iter:\r\n",
    "        words_zip = zip(*[words[i:] for i in range(window_size)])\r\n",
    "        ud_zip = zip(*[ud_tags[i:] for i in range(window_size)])\r\n",
    "        ## MISSING PART: ADD YOUR CODE BELOW\r\n",
    "        ptb_zip = zip(*[ptb_tags[i:] for i in range(window_size)])\r\n",
    "        ## ADD YOUR CODE ABOVE\r\n",
    "        for word_sseq, ud_sseq, ptb_sseq in zip(\r\n",
    "                words_zip, ud_zip, ptb_zip):\r\n",
    "            yield(word_sseq, ud_sseq, ptb_sseq)\r\n",
    "            \r\n",
    "def preprocess_data_seq(data_iter, w):\r\n",
    "    ## MISSING PART: ADD YOUR CODE BELOW\r\n",
    "    data_iter = add_sent_start_end(data_iter, w)\r\n",
    "    return create_windows(data_iter, w)\r\n",
    "\r\n",
    "def test_preprocess_data_seq():\r\n",
    "    # WARNING: The following test assumes a particular default\r\n",
    "    # sequence of examples in the PyTorch UDPOS dataset. If you\r\n",
    "    # suspect the sequence is different for your dataset, please\r\n",
    "    # adapt the test.\r\n",
    "    train_iter_0 = datasets.UDPOS(split = 'train')    \r\n",
    "    train_iter_demo = preprocess_data_seq(train_iter_0, 1)\r\n",
    "    ex0 = (('<s>', 'Al', '-'), \r\n",
    "           ('<STAG>', 'PROPN', 'PUNCT'), \r\n",
    "           ('<STAG>', 'NNP', 'HYPH'))\r\n",
    "    ex1 = (('Al', '-', 'Zaman'), \r\n",
    "           ('PROPN', 'PUNCT', 'PROPN'), \r\n",
    "           ('NNP', 'HYPH', 'NNP'))\r\n",
    "    ex2 = (('-', 'Zaman', ':'), \r\n",
    "           ('PUNCT', 'PROPN', 'PUNCT'), \r\n",
    "           ('HYPH', 'NNP', ':'))\r\n",
    "    assert ex0 == next(train_iter_demo)\r\n",
    "    assert ex1 == next(train_iter_demo)\r\n",
    "    assert ex2 == next(train_iter_demo)\r\n",
    "\r\n",
    "    print('Test passed.')\r\n",
    "    \r\n",
    "test_preprocess_data_seq()\r\n"
   ],
   "outputs": [
    {
     "output_type": "stream",
     "name": "stdout",
     "text": [
      "Test passed.\n"
     ]
    }
   ],
   "metadata": {}
  },
  {
   "cell_type": "code",
   "execution_count": 19,
   "source": [
    "# It is important to recreate the training set afresh \r\n",
    "# each time they are used, since they are Python iterators, and\r\n",
    "# once use, cannot be reused.  One could, however, cast them into\r\n",
    "# a list, which would store them permanently.\r\n",
    "\r\n",
    "from torchtext import vocab\r\n",
    "train_iter_0 = datasets.UDPOS(split = 'train')    \r\n",
    "train_iter_vocab = preprocess_data_seq(train_iter_0, 1)\r\n",
    "\r\n",
    "counter_words = Counter()\r\n",
    "counter_ud = Counter()\r\n",
    "counter_ptb = Counter()\r\n",
    "for (text, pos_ud, pos_ptb) in train_iter_vocab:\r\n",
    "    counter_words.update(text)\r\n",
    "    counter_ud.update(pos_ud)\r\n",
    "    counter_ptb.update(pos_ptb)\r\n",
    "vocab_words = Vocab(counter_words)    \r\n",
    "vocab_ud = Vocab(counter_ud)\r\n",
    "vocab_ptb = Vocab(counter_ptb)\r\n",
    "\r\n",
    "\r\n",
    "glove = vocab.GloVe('6B', cache=VECTORS_CACHE_DIR)\r\n",
    "glove_vectors = glove.get_vecs_by_tokens(vocab_words.itos)\r\n"
   ],
   "outputs": [],
   "metadata": {}
  },
  {
   "cell_type": "markdown",
   "source": [
    "### Collate function for customized data loader\n",
    "\n",
    "**Task 2** [5]: Write a collate function that takes a batch of examples, and for a given window width and tag type, returns the following\n",
    "- a tensor corresponding to the index of the tag for the center word in each example of the batch. Recall, each example is a window with a width of $(2w + 1)$ words.\n",
    "- a tensor corresponding to the index of each of the words in the example, according the to vocabulary for words.\n",
    "\n",
    "Note: The collate function is called by the data loader with the batch of examples from the data set.  So any additional parameters to the function should have default values.\n",
    "\n",
    "From this task onwards we'll only work with the UD tags."
   ],
   "metadata": {}
  },
  {
   "cell_type": "code",
   "execution_count": 20,
   "source": [
    "from torch.utils.data import DataLoader\r\n",
    "\r\n",
    "TAG = 'ud'\r\n",
    "\r\n",
    "def collate_fn(batch, w = W, tag = TAG):\r\n",
    "    ## WRITE YOUR CODE BELOW\r\n",
    "    # print(w, batch)\r\n",
    "    mid = w  # this is always the case because the window size is an odd number and list is 0-indexed.\r\n",
    "    labels = []\r\n",
    "    word_idxs = []\r\n",
    "    for (words, ud_tags, ptb_tags) in batch:\r\n",
    "        labels.append(vocab_ud[ud_tags[mid]])\r\n",
    "        word_idx = []\r\n",
    "        for word in words:\r\n",
    "            word_idx.append(vocab_words[word])\r\n",
    "        word_idxs.append(word_idx)\r\n",
    "    labels = torch.tensor(labels)\r\n",
    "    word_idxs = torch.tensor(word_idxs)\r\n",
    "    ## WRITE YOUR CODE ABOVE\r\n",
    "    # The tensors you return should be place in the correct device\r\n",
    "    # as shown below.\r\n",
    "    return labels.to(device), word_idxs.to(device)\r\n",
    "\r\n",
    "def test_collate():\r\n",
    "    pos = [5, 6, 1, 4]  \r\n",
    "    examples = []\r\n",
    "    # print(vocab_words.itos[])\r\n",
    "    for perm in ['03022', '33210', '33211', '11101']:\r\n",
    "        words = []\r\n",
    "        utags = []\r\n",
    "        ptags = []\r\n",
    "        for ind in perm:\r\n",
    "            ind = int(ind)\r\n",
    "            # print(ind, perm, pos[ind], pos[ind]+1, vocab_words.itos, vocab_ud.itos, vocab_ptb.itos)\r\n",
    "            words.append(vocab_words.itos[pos[ind]])\r\n",
    "            utags.append(vocab_ud.itos[pos[ind]+1]) \r\n",
    "            ptags.append(vocab_ptb.itos[pos[ind]]) \r\n",
    "            # print(pos[ind])\r\n",
    "        examples.append((words, utags, ptags))\r\n",
    "    lt =  torch.tensor([6, 2, 2, 7]).to(device)\r\n",
    "    wt = torch.tensor([\r\n",
    "        [5, 4, 5, 1, 1],\r\n",
    "        [4, 4, 1, 6, 5],\r\n",
    "        [4, 4, 1, 6, 6],\r\n",
    "        [6, 6, 6, 5, 6]]).to(device)  # original\r\n",
    "\r\n",
    "    rlt, rwt = collate_fn(examples, w = 2)\r\n",
    "    assert torch.equal(lt, rlt)\r\n",
    "    assert torch.equal(wt, rwt)\r\n",
    "\r\n",
    "test_collate()\r\n",
    "    \r\n"
   ],
   "outputs": [],
   "metadata": {}
  },
  {
   "cell_type": "markdown",
   "source": [
    "### Writing the class for the neural network model\r\n",
    "\r\n",
    "**Task 3** [5]: Write a class that implements the following neural network for input $(w_1, w_2, w_3)$ and label $y$ corresponding to tag of $w_2$. (Also discussed in class on April 15, 2021).\r\n",
    "$$\r\n",
    "x = [E_{[w_1]}, E_{[w_2]}, E_{[w_3]}] \\\\\r\n",
    "h = \\text{tanh}(x W^1 + b^1)\\\\\r\n",
    "\\tilde{y} = hW^2 + b^2\\\\\r\n",
    "\\hat{y} = \\text{softmax}(y)\\\\\r\n",
    "$$\r\n",
    "The model returns $\\ln \\hat{y}$, and expects the training loop to use `nn.NLLLoss()` to compute the cross entropy loss, given $y$. Assume the embedding has vectors of size $300$, and $h$ is a vector of size $128$.  Please read the documentation for `nn.Embedding(),` `nn.Linear(),`, and `nn.Tanh()` to learn how to use them.\r\n",
    "\r\n",
    "*Hint:* Unlike HW2, here the input (for each example in a batch) consist of $(2w+1)$ numbers corresponding to the indices of the words in the window. These are converted to $(2w+1)$ vectors when they are passed to the embedding layer. They have to be concatenated into a single vector of length $(2w+1) \\times 300$ before they are sent to the first linear layer ($W^1$).  Use `reshape()` or `view()` in the `forward()` function below to achieve this.\r\n"
   ],
   "metadata": {}
  },
  {
   "cell_type": "code",
   "execution_count": 21,
   "source": [
    "import torch.nn.functional as F\r\n",
    "\r\n",
    "class NNPOSTagger(nn.Module):\r\n",
    "    def __init__(self,\r\n",
    "                 window_size,\r\n",
    "                 vocab_size, \r\n",
    "                 embedding_dim, \r\n",
    "                 hidden_dim, \r\n",
    "                 output_dim,\r\n",
    "                 nonlinearity, \r\n",
    "                 # These are used for later tasks\r\n",
    "                 use_glove, \r\n",
    "                 freeze_glove):      \r\n",
    "        super(NNPOSTagger, self).__init__()\r\n",
    "        ## WRITE YOUR CODE BELOW\r\n",
    "        self.pretrained_embeddings = nn.Embedding.from_pretrained(glove_vectors, freeze=freeze_glove)\r\n",
    "        self.embeddings = nn.Embedding(num_embeddings=vocab_size, embedding_dim=embedding_dim)\r\n",
    "        self.linear1 = nn.Linear(in_features=window_size * embedding_dim, out_features=hidden_dim)\r\n",
    "        self.linear2 = nn.Linear(in_features=hidden_dim, out_features=output_dim)\r\n",
    "        self.tanh = nonlinearity\r\n",
    "        self.use_glove = use_glove\r\n",
    "        self.freeze_glove = freeze_glove\r\n",
    "        \r\n",
    "    def forward(self, word_idxs_batch):\r\n",
    "        ## WRITE YOUR CODE BELOW.\r\n",
    "        if self.use_glove:\r\n",
    "            # embedding = self.embeddings.from_pretrained(glove_vectors, freeze=self.freeze_glove)\r\n",
    "            x = self.pretrained_embeddings(word_idxs_batch)\r\n",
    "            # concatenate each of the embedded vectors into one long vector\r\n",
    "            x = x.reshape(x.shape[0], x.shape[1]*x.shape[2])\r\n",
    "        else:\r\n",
    "            x = self.embeddings(word_idxs_batch)\r\n",
    "            # concatenate each of the embedded vectors into one long vector\r\n",
    "            x = x.reshape(x.shape[0], x.shape[1]*x.shape[2])\r\n",
    "\r\n",
    "        h = self.tanh(self.linear1(x))\r\n",
    "        y_tilde = self.linear2(h)\r\n",
    "        y_hat = F.softmax(y_tilde, dim=1)\r\n",
    "\r\n",
    "        return y_hat\r\n",
    "\r\n"
   ],
   "outputs": [],
   "metadata": {}
  },
  {
   "cell_type": "markdown",
   "source": [
    "#### Instantiating the model\n",
    "\n",
    "PyTorch uses `to(device)` to specify whether the model is to be used with a CPU or with a GPU/CUDA."
   ],
   "metadata": {}
  },
  {
   "cell_type": "code",
   "execution_count": 22,
   "source": [
    "model = NNPOSTagger(window_size = WINDOW_SIZE, \r\n",
    "                    vocab_size = len(vocab_words), \r\n",
    "                     embedding_dim = 300, \r\n",
    "                     hidden_dim = 128, \r\n",
    "                     output_dim = len(vocab_ud),\r\n",
    "                     nonlinearity = nn.Tanh(), \r\n",
    "                     use_glove = False,\r\n",
    "                     freeze_glove = False).to(device)\r\n"
   ],
   "outputs": [
    {
     "output_type": "error",
     "ename": "AssertionError",
     "evalue": "Embeddings parameter is expected to be 2-dimensional",
     "traceback": [
      "\u001b[1;31m---------------------------------------------------------------------------\u001b[0m",
      "\u001b[1;31mAssertionError\u001b[0m                            Traceback (most recent call last)",
      "\u001b[1;32m<ipython-input-22-205116b8b82d>\u001b[0m in \u001b[0;36m<module>\u001b[1;34m\u001b[0m\n\u001b[1;32m----> 1\u001b[1;33m model = NNPOSTagger(window_size = WINDOW_SIZE, \n\u001b[0m\u001b[0;32m      2\u001b[0m                     \u001b[0mvocab_size\u001b[0m \u001b[1;33m=\u001b[0m \u001b[0mlen\u001b[0m\u001b[1;33m(\u001b[0m\u001b[0mvocab_words\u001b[0m\u001b[1;33m)\u001b[0m\u001b[1;33m,\u001b[0m\u001b[1;33m\u001b[0m\u001b[1;33m\u001b[0m\u001b[0m\n\u001b[0;32m      3\u001b[0m                      \u001b[0membedding_dim\u001b[0m \u001b[1;33m=\u001b[0m \u001b[1;36m300\u001b[0m\u001b[1;33m,\u001b[0m\u001b[1;33m\u001b[0m\u001b[1;33m\u001b[0m\u001b[0m\n\u001b[0;32m      4\u001b[0m                      \u001b[0mhidden_dim\u001b[0m \u001b[1;33m=\u001b[0m \u001b[1;36m128\u001b[0m\u001b[1;33m,\u001b[0m\u001b[1;33m\u001b[0m\u001b[1;33m\u001b[0m\u001b[0m\n\u001b[0;32m      5\u001b[0m                      \u001b[0moutput_dim\u001b[0m \u001b[1;33m=\u001b[0m \u001b[0mlen\u001b[0m\u001b[1;33m(\u001b[0m\u001b[0mvocab_ud\u001b[0m\u001b[1;33m)\u001b[0m\u001b[1;33m,\u001b[0m\u001b[1;33m\u001b[0m\u001b[1;33m\u001b[0m\u001b[0m\n",
      "\u001b[1;32m<ipython-input-21-cce5c0122e09>\u001b[0m in \u001b[0;36m__init__\u001b[1;34m(self, window_size, vocab_size, embedding_dim, hidden_dim, output_dim, nonlinearity, use_glove, freeze_glove, glove_vectors)\u001b[0m\n\u001b[0;32m     15\u001b[0m         \u001b[0msuper\u001b[0m\u001b[1;33m(\u001b[0m\u001b[0mNNPOSTagger\u001b[0m\u001b[1;33m,\u001b[0m \u001b[0mself\u001b[0m\u001b[1;33m)\u001b[0m\u001b[1;33m.\u001b[0m\u001b[0m__init__\u001b[0m\u001b[1;33m(\u001b[0m\u001b[1;33m)\u001b[0m\u001b[1;33m\u001b[0m\u001b[1;33m\u001b[0m\u001b[0m\n\u001b[0;32m     16\u001b[0m         \u001b[1;31m## WRITE YOUR CODE BELOW\u001b[0m\u001b[1;33m\u001b[0m\u001b[1;33m\u001b[0m\u001b[1;33m\u001b[0m\u001b[0m\n\u001b[1;32m---> 17\u001b[1;33m         \u001b[0mself\u001b[0m\u001b[1;33m.\u001b[0m\u001b[0mpretrained_embeddings\u001b[0m \u001b[1;33m=\u001b[0m \u001b[0mnn\u001b[0m\u001b[1;33m.\u001b[0m\u001b[0mEmbedding\u001b[0m\u001b[1;33m.\u001b[0m\u001b[0mfrom_pretrained\u001b[0m\u001b[1;33m(\u001b[0m\u001b[0mglove_vectors\u001b[0m\u001b[1;33m,\u001b[0m \u001b[0mfreeze\u001b[0m\u001b[1;33m=\u001b[0m\u001b[0mfreeze_glove\u001b[0m\u001b[1;33m)\u001b[0m\u001b[1;33m\u001b[0m\u001b[1;33m\u001b[0m\u001b[0m\n\u001b[0m\u001b[0;32m     18\u001b[0m         \u001b[0mself\u001b[0m\u001b[1;33m.\u001b[0m\u001b[0membeddings\u001b[0m \u001b[1;33m=\u001b[0m \u001b[0mnn\u001b[0m\u001b[1;33m.\u001b[0m\u001b[0mEmbedding\u001b[0m\u001b[1;33m(\u001b[0m\u001b[0mnum_embeddings\u001b[0m\u001b[1;33m=\u001b[0m\u001b[0mvocab_size\u001b[0m\u001b[1;33m,\u001b[0m \u001b[0membedding_dim\u001b[0m\u001b[1;33m=\u001b[0m\u001b[0membedding_dim\u001b[0m\u001b[1;33m)\u001b[0m\u001b[1;33m\u001b[0m\u001b[1;33m\u001b[0m\u001b[0m\n\u001b[0;32m     19\u001b[0m         \u001b[0mself\u001b[0m\u001b[1;33m.\u001b[0m\u001b[0mlinear1\u001b[0m \u001b[1;33m=\u001b[0m \u001b[0mnn\u001b[0m\u001b[1;33m.\u001b[0m\u001b[0mLinear\u001b[0m\u001b[1;33m(\u001b[0m\u001b[0min_features\u001b[0m\u001b[1;33m=\u001b[0m\u001b[0mwindow_size\u001b[0m \u001b[1;33m*\u001b[0m \u001b[0membedding_dim\u001b[0m\u001b[1;33m,\u001b[0m \u001b[0mout_features\u001b[0m\u001b[1;33m=\u001b[0m\u001b[0mhidden_dim\u001b[0m\u001b[1;33m)\u001b[0m\u001b[1;33m\u001b[0m\u001b[1;33m\u001b[0m\u001b[0m\n",
      "\u001b[1;32m~\\AppData\\Local\\Programs\\Python\\Python39\\lib\\site-packages\\torch\\nn\\modules\\sparse.py\u001b[0m in \u001b[0;36mfrom_pretrained\u001b[1;34m(cls, embeddings, freeze, padding_idx, max_norm, norm_type, scale_grad_by_freq, sparse)\u001b[0m\n\u001b[0;32m    188\u001b[0m             \u001b[0mtensor\u001b[0m\u001b[1;33m(\u001b[0m\u001b[1;33m[\u001b[0m\u001b[1;33m[\u001b[0m \u001b[1;36m4.0000\u001b[0m\u001b[1;33m,\u001b[0m  \u001b[1;36m5.1000\u001b[0m\u001b[1;33m,\u001b[0m  \u001b[1;36m6.3000\u001b[0m\u001b[1;33m]\u001b[0m\u001b[1;33m]\u001b[0m\u001b[1;33m)\u001b[0m\u001b[1;33m\u001b[0m\u001b[1;33m\u001b[0m\u001b[0m\n\u001b[0;32m    189\u001b[0m         \"\"\"\n\u001b[1;32m--> 190\u001b[1;33m         \u001b[1;32massert\u001b[0m \u001b[0membeddings\u001b[0m\u001b[1;33m.\u001b[0m\u001b[0mdim\u001b[0m\u001b[1;33m(\u001b[0m\u001b[1;33m)\u001b[0m \u001b[1;33m==\u001b[0m \u001b[1;36m2\u001b[0m\u001b[1;33m,\u001b[0m\u001b[0;31m \u001b[0m\u001b[0;31m\\\u001b[0m\u001b[1;33m\u001b[0m\u001b[1;33m\u001b[0m\u001b[0m\n\u001b[0m\u001b[0;32m    191\u001b[0m             \u001b[1;34m'Embeddings parameter is expected to be 2-dimensional'\u001b[0m\u001b[1;33m\u001b[0m\u001b[1;33m\u001b[0m\u001b[0m\n\u001b[0;32m    192\u001b[0m         \u001b[0mrows\u001b[0m\u001b[1;33m,\u001b[0m \u001b[0mcols\u001b[0m \u001b[1;33m=\u001b[0m \u001b[0membeddings\u001b[0m\u001b[1;33m.\u001b[0m\u001b[0mshape\u001b[0m\u001b[1;33m\u001b[0m\u001b[1;33m\u001b[0m\u001b[0m\n",
      "\u001b[1;31mAssertionError\u001b[0m: Embeddings parameter is expected to be 2-dimensional"
     ]
    }
   ],
   "metadata": {}
  },
  {
   "cell_type": "markdown",
   "source": [
    "### Training an epoch\n",
    "\n",
    "**Task 4** [5]: Write a function to train one epoch of the dataset. This is similar to the code in HW2."
   ],
   "metadata": {}
  },
  {
   "cell_type": "code",
   "execution_count": null,
   "source": [
    "import time \r\n",
    "\r\n",
    "loss_function = torch.nn.NLLLoss() # negative log likelihood\r\n",
    "\r\n",
    "def train_an_epoch(dataloader):\r\n",
    "    ### WRITE YOUR CODE BELOW\r\n",
    "    model.train()  # Sets the module in training mode.\r\n",
    "    log_interval = 500\r\n",
    "\r\n",
    "    for idx, (label, text) in enumerate(dataloader):\r\n",
    "        model.zero_grad()  # reset gradients to zero since torch accumulates gradients.\r\n",
    "        log_probs = model(text)  # run forward pass\r\n",
    "        loss = loss_function(log_probs, label)\r\n",
    "        loss.backward() # run backward pass to update the gradient\r\n",
    "        optimizer.step()\r\n",
    "        if idx % log_interval == 0 and idx > 0:\r\n",
    "            print(f'At iteration {idx} the loss is {loss:.3f}.')"
   ],
   "outputs": [],
   "metadata": {}
  },
  {
   "cell_type": "code",
   "execution_count": null,
   "source": [
    "model.eval()"
   ],
   "outputs": [
    {
     "output_type": "execute_result",
     "data": {
      "text/plain": [
       "NNPOSTagger(\n",
       "  (pretrained_embeddings): Embedding(19676, 300)\n",
       "  (embeddings): Embedding(19676, 300)\n",
       "  (linear1): Linear(in_features=900, out_features=128, bias=True)\n",
       "  (linear2): Linear(in_features=128, out_features=21, bias=True)\n",
       "  (tanh): Tanh()\n",
       ")"
      ]
     },
     "metadata": {},
     "execution_count": 195
    }
   ],
   "metadata": {}
  },
  {
   "cell_type": "markdown",
   "source": [
    "### Computing the accuracy\n",
    "\n",
    "The function is given below."
   ],
   "metadata": {}
  },
  {
   "cell_type": "code",
   "execution_count": null,
   "source": [
    "def get_accuracy(dataloader):\r\n",
    "    model.eval()\r\n",
    "    with torch.no_grad():    \r\n",
    "        total_acc, total_count = 0, 0\r\n",
    "        for idx, (label, word_idxs) in enumerate(dataloader):\r\n",
    "            log_probs = model(word_idxs)\r\n",
    "            total_acc += (log_probs.argmax(1) == label).sum().item()\r\n",
    "            total_count += label.size(0)\r\n",
    "    return total_acc/total_count"
   ],
   "outputs": [],
   "metadata": {}
  },
  {
   "cell_type": "markdown",
   "source": [
    "### Creating the data loaders"
   ],
   "metadata": {}
  },
  {
   "cell_type": "code",
   "execution_count": null,
   "source": [
    "BATCH_SIZE = 64 # batch size for training\r\n",
    "  \r\n",
    "train_0, valid_0, test_0 = train_data_0 = datasets.UDPOS(\r\n",
    "    split = ('train', 'valid', 'test'))\r\n",
    "train_data = list(preprocess_data_seq(train_0, W))\r\n",
    "valid_data = list(preprocess_data_seq(valid_0, W))\r\n",
    "test_data = list(preprocess_data_seq(test_0, W))\r\n",
    "\r\n",
    "train_dataloader = DataLoader(train_data, batch_size=BATCH_SIZE,\r\n",
    "                              shuffle=True, \r\n",
    "                              collate_fn=collate_fn)\r\n",
    "valid_dataloader = DataLoader(valid_data, batch_size=BATCH_SIZE,\r\n",
    "                              shuffle=False, \r\n",
    "                              collate_fn=collate_fn)\r\n",
    "test_dataloader = DataLoader(test_data, batch_size=BATCH_SIZE,\r\n",
    "                             shuffle=False, \r\n",
    "                             collate_fn=collate_fn)"
   ],
   "outputs": [],
   "metadata": {}
  },
  {
   "cell_type": "markdown",
   "source": [
    "### Training"
   ],
   "metadata": {}
  },
  {
   "cell_type": "code",
   "execution_count": null,
   "source": [
    "import time\r\n",
    "import matplotlib.pyplot as plt\r\n",
    "%matplotlib inline\r\n",
    "\r\n",
    "EPOCHS = 30 # epoch\r\n",
    "optimizer = torch.optim.Adam(model.parameters(), lr=1e-4)\r\n",
    "\r\n",
    "accuracies=[]\r\n",
    "for epoch in range(1, EPOCHS + 1):\r\n",
    "    epoch_start_time = time.time()\r\n",
    "    train_an_epoch(train_dataloader)\r\n",
    "    accuracy = get_accuracy(valid_dataloader)\r\n",
    "    accuracies.append(accuracy)\r\n",
    "    time_taken = time.time() - epoch_start_time\r\n",
    "    print(f'Epoch: {epoch}, time taken: {time_taken:.1f}s, validation accuracy: {accuracy:.3f}.')\r\n",
    "    \r\n",
    "plt.title(\"Accuracy by Number of Epochs\")\r\n",
    "plt.ylabel(\"Accuracy\")\r\n",
    "plt.xlabel(\"Epochs\")\r\n",
    "plt.grid()\r\n",
    "plt.plot(range(1, EPOCHS+1), accuracies, \"r\", label=\"validation accuracy\")\r\n",
    "plt.legend()\r\n",
    "plt.savefig(f\"POSValidationAccuracy{EPOCHS}epochs.jpg\")\r\n"
   ],
   "outputs": [
    {
     "output_type": "stream",
     "name": "stdout",
     "text": [
      "At iteration 500 the loss is -0.505.\n",
      "At iteration 1000 the loss is -0.653.\n",
      "At iteration 1500 the loss is -0.693.\n",
      "At iteration 2000 the loss is -0.733.\n",
      "At iteration 2500 the loss is -0.707.\n",
      "At iteration 3000 the loss is -0.726.\n",
      "Epoch: 1, time taken: 127.8s, validation accuracy: 0.685.\n",
      "At iteration 500 the loss is -0.656.\n",
      "At iteration 1000 the loss is -0.725.\n",
      "At iteration 1500 the loss is -0.770.\n",
      "At iteration 2000 the loss is -0.798.\n",
      "At iteration 2500 the loss is -0.740.\n",
      "At iteration 3000 the loss is -0.800.\n",
      "Epoch: 2, time taken: 146.5s, validation accuracy: 0.738.\n",
      "At iteration 500 the loss is -0.803.\n",
      "At iteration 1000 the loss is -0.705.\n",
      "At iteration 1500 the loss is -0.833.\n",
      "At iteration 2000 the loss is -0.823.\n",
      "At iteration 2500 the loss is -0.770.\n",
      "At iteration 3000 the loss is -0.792.\n",
      "Epoch: 3, time taken: 146.2s, validation accuracy: 0.763.\n"
     ]
    },
    {
     "output_type": "display_data",
     "data": {
      "text/plain": [
       "<Figure size 432x288 with 1 Axes>"
      ],
      "image/png": "[encoded data removed]"
     },
     "metadata": {
      "needs_background": "light"
     }
    }
   ],
   "metadata": {}
  },
  {
   "cell_type": "markdown",
   "source": [
    "### Running on Google Colab\n",
    "\n",
    "Google Colab provides GPUs on which we can run Jupyter notebooks. These are for free as long as the job takes less than, say, 4 hours. Our job will take much less.\n",
    "\n",
    "Please create an account on Google if you don't have one.  Please read a tutorial on using Colab (such as [this](https://colab.research.google.com/notebooks/intro.ipynb)).  Upload your notebook on Colab. **Change the runtime type to GPU.** Make any changes required to get your code to run on Colab. (Normally there should  be no change required.) \n",
    "\n",
    "For all following tasks that required running your code for several epochs, we recommend developing your code locally, but finally running it on Colab to get the results.\n",
    "\n",
    "**Task 5** [5]: Run the model for a sufficient number of epochs (not more than 30) such that the model shows overfitting, if at all, and submit a pdf of the plot of accuracy against number of epochs. Determine the optimal number of epochs to train for. Write code to estimate the accuracy of your model (using the test set) corresponding to this optimal number of epocs and report this estimated accuracy."
   ],
   "metadata": {}
  },
  {
   "cell_type": "markdown",
   "source": [
    "### Initializing with pre-trained embeddings\n",
    "\n",
    "In the above model, the embedding matrix is initialized to either zero or random vectors, but trained along with the rest of the parameters. It may help to initialize the embedding matrix from GloVe vector embeddings. You may then choose to freeze the embedding matrix (i.e., not update the vectors during training) or train them to adapt to the POS examples. (For further details you may optionally read Section 10.1--3 from the Goldberg textbook.)\n",
    "\n",
    "The following code snippet creates a embedding matrix that has a vector corresponding to each of our `vocab_words` created from the training set."
   ],
   "metadata": {}
  },
  {
   "cell_type": "code",
   "execution_count": null,
   "source": [
    "from torchtext import vocab\r\n",
    "\r\n",
    "glove = vocab.GloVe('6B', cache=VECTORS_CACHE_DIR)\r\n",
    "glove_vectors = glove.get_vecs_by_tokens(vocab_words.itos)"
   ],
   "outputs": [],
   "metadata": {}
  },
  {
   "cell_type": "markdown",
   "source": [
    "**Task 6** [5]: Rewrite/extend the code for the module to initialize the embedding layer with `glove_vectors` created above.  Please read the documentation for the function [`nn.Embedding.from_pretrained()`](https://pytorch.org/docs/master/generated/torch.nn.Embedding.html#torch.nn.Embedding.from_pretrained) to understand how this is done. Submit corresponding plot and report on the performance when the embedding is frozen.\n",
    "\n",
    "**Task 7** [5]: Submit corresponding plot and report on the performance when the embedding is not frozen."
   ],
   "metadata": {}
  },
  {
   "cell_type": "code",
   "execution_count": null,
   "source": [
    "'''\r\n",
    "Tasks 6 and 7:\r\n",
    "The performance of the frozen embeddings is noteably quicker. On my local machine, \r\n",
    "training took approximately 4 seconds per epoch for the frozen embeddings, \r\n",
    "while the other embeddings took approximately 145 seconds per epoch. \r\n",
    "This intuitively makes sense since no vector update is performed during each iteration \r\n",
    "of the frozen embedding matrix training model.\r\n",
    "'''\r\n"
   ],
   "outputs": [],
   "metadata": {}
  },
  {
   "cell_type": "code",
   "execution_count": null,
   "source": [
    "### Use Glove Pretrained Embeddings - FROZEN ###\r\n",
    "model_pretrained_frozen = NNPOSTagger(window_size=WINDOW_SIZE,\r\n",
    "                                      vocab_size=len(vocab_words),\r\n",
    "                                      embedding_dim=300,\r\n",
    "                                      hidden_dim=128,\r\n",
    "                                      output_dim=len(vocab_ud),\r\n",
    "                                      nonlinearity=nn.Tanh(),\r\n",
    "                                      use_glove=True,\r\n",
    "                                      freeze_glove=True).to(device)\r\n",
    "\r\n",
    "optimizer_pretrained_frozen = torch.optim.Adam(\r\n",
    "    model_pretrained_frozen.parameters(), lr=1e-4)\r\n",
    "\r\n",
    "\r\n",
    "def train_an_epoch_pretrained_frozen(dataloader):\r\n",
    "    model_pretrained_frozen.train()  # Sets the module in training mode.\r\n",
    "    log_interval = 500\r\n",
    "\r\n",
    "    for idx, (label, text) in enumerate(dataloader):\r\n",
    "        # reset gradients to zero since torch accumulates gradients.\r\n",
    "        model_pretrained_frozen.zero_grad()\r\n",
    "        log_probs = model_pretrained_frozen(text)  # run forward pass\r\n",
    "        loss = loss_function(log_probs, label)\r\n",
    "        loss.backward()  # run backward pass to update the gradient\r\n",
    "        optimizer_pretrained_frozen.step()\r\n",
    "        if idx % log_interval == 0 and idx > 0:\r\n",
    "            print(f'At iteration {idx} the loss is {loss:.3f}.')\r\n",
    "\r\n",
    "\r\n",
    "def get_accuracy_pretrained_frozen(dataloader):\r\n",
    "    model_pretrained_frozen.eval()\r\n",
    "    with torch.no_grad():\r\n",
    "        total_acc, total_count = 0, 0\r\n",
    "        for idx, (label, word_idxs) in enumerate(dataloader):\r\n",
    "            log_probs = model_pretrained_frozen(word_idxs)\r\n",
    "            total_acc += (log_probs.argmax(1) == label).sum().item()\r\n",
    "            total_count += label.size(0)\r\n",
    "    return total_acc/total_count\r\n",
    "\r\n",
    "\r\n",
    "accuracies = []\r\n",
    "for epoch in range(1, EPOCHS + 1):\r\n",
    "    epoch_start_time = time.time()\r\n",
    "    train_an_epoch_pretrained_frozen(train_dataloader)\r\n",
    "    accuracy = get_accuracy_pretrained_frozen(valid_dataloader)\r\n",
    "    accuracies.append(accuracy)\r\n",
    "    time_taken = time.time() - epoch_start_time\r\n",
    "    print(\r\n",
    "        f'Epoch: {epoch}, time taken: {time_taken:.1f}s, validation accuracy: {accuracy:.3f}.')\r\n",
    "\r\n",
    "plt.title(\"Accuracy by Number of Epochs\")\r\n",
    "plt.ylabel(\"Accuracy\")\r\n",
    "plt.xlabel(\"Epochs\")\r\n",
    "plt.grid()\r\n",
    "plt.plot(range(1, EPOCHS+1), accuracies, \"r\", label=\"validation accuracy\")\r\n",
    "plt.legend()\r\n",
    "plt.savefig(f\"POSValidationAccuracyPretrainedFrozen{EPOCHS}epochs.jpg\")\r\n"
   ],
   "outputs": [
    {
     "output_type": "stream",
     "name": "stdout",
     "text": [
      "At iteration 500 the loss is -0.356.\n",
      "At iteration 1000 the loss is -0.430.\n",
      "At iteration 1500 the loss is -0.660.\n",
      "At iteration 2000 the loss is -0.553.\n",
      "At iteration 2500 the loss is -0.668.\n",
      "At iteration 3000 the loss is -0.590.\n",
      "Epoch: 1, time taken: 4.0s, validation accuracy: 0.634.\n",
      "At iteration 500 the loss is -0.624.\n",
      "At iteration 1000 the loss is -0.631.\n",
      "At iteration 1500 the loss is -0.694.\n",
      "At iteration 2000 the loss is -0.649.\n",
      "At iteration 2500 the loss is -0.699.\n",
      "At iteration 3000 the loss is -0.668.\n",
      "Epoch: 2, time taken: 4.1s, validation accuracy: 0.685.\n",
      "At iteration 500 the loss is -0.673.\n",
      "At iteration 1000 the loss is -0.684.\n",
      "At iteration 1500 the loss is -0.688.\n",
      "At iteration 2000 the loss is -0.735.\n",
      "At iteration 2500 the loss is -0.693.\n",
      "At iteration 3000 the loss is -0.690.\n",
      "Epoch: 3, time taken: 4.3s, validation accuracy: 0.699.\n"
     ]
    },
    {
     "output_type": "display_data",
     "data": {
      "text/plain": [
       "<Figure size 432x288 with 1 Axes>"
      ],
      "image/png": "[encoded data removed]"
     },
     "metadata": {
      "needs_background": "light"
     }
    }
   ],
   "metadata": {}
  },
  {
   "cell_type": "code",
   "execution_count": null,
   "source": [
    "### Use Glove Pretrained Embeddings - UNFROZEN ###\r\n",
    "model_pretrained_unfrozen = NNPOSTagger(window_size=WINDOW_SIZE,\r\n",
    "                                        vocab_size=len(vocab_words),\r\n",
    "                                        embedding_dim=300,\r\n",
    "                                        hidden_dim=128,\r\n",
    "                                        output_dim=len(vocab_ud),\r\n",
    "                                        nonlinearity=nn.Tanh(),\r\n",
    "                                        use_glove=True,\r\n",
    "                                        freeze_glove=False).to(device)\r\n",
    "\r\n",
    "optimizer_pretrained_unfrozen = torch.optim.Adam(\r\n",
    "    model_pretrained_unfrozen.parameters(), lr=1e-4)\r\n",
    "\r\n",
    "\r\n",
    "def train_an_epoch_pretrained_unfrozen(dataloader):\r\n",
    "    model_pretrained_unfrozen.train()  # Sets the module in training mode.\r\n",
    "    log_interval = 500\r\n",
    "\r\n",
    "    for idx, (label, text) in enumerate(dataloader):\r\n",
    "        # reset gradients to zero since torch accumulates gradients.\r\n",
    "        model_pretrained_unfrozen.zero_grad()\r\n",
    "        log_probs = model_pretrained_unfrozen(text)  # run forward pass\r\n",
    "        loss = loss_function(log_probs, label)\r\n",
    "        loss.backward()  # run backward pass to update the gradient\r\n",
    "        optimizer_pretrained_unfrozen.step()\r\n",
    "        if idx % log_interval == 0 and idx > 0:\r\n",
    "            print(f'At iteration {idx} the loss is {loss:.3f}.')\r\n",
    "\r\n",
    "\r\n",
    "def get_accuracy_pretrained_unfrozen(dataloader):\r\n",
    "    model_pretrained_unfrozen.eval()\r\n",
    "    with torch.no_grad():\r\n",
    "        total_acc, total_count = 0, 0\r\n",
    "        for idx, (label, word_idxs) in enumerate(dataloader):\r\n",
    "            log_probs = model_pretrained_unfrozen(word_idxs)\r\n",
    "            total_acc += (log_probs.argmax(1) == label).sum().item()\r\n",
    "            total_count += label.size(0)\r\n",
    "    return total_acc/total_count\r\n",
    "\r\n",
    "\r\n",
    "accuracies = []\r\n",
    "for epoch in range(1, EPOCHS + 1):\r\n",
    "    epoch_start_time = time.time()\r\n",
    "    train_an_epoch_pretrained_unfrozen(train_dataloader)\r\n",
    "    accuracy = get_accuracy_pretrained_unfrozen(valid_dataloader)\r\n",
    "    accuracies.append(accuracy)\r\n",
    "    time_taken = time.time() - epoch_start_time\r\n",
    "    print(\r\n",
    "        f'Epoch: {epoch}, time taken: {time_taken:.1f}s, validation accuracy: {accuracy:.3f}.')\r\n",
    "\r\n",
    "plt.title(\"Accuracy by Number of Epochs\")\r\n",
    "plt.ylabel(\"Accuracy\")\r\n",
    "plt.xlabel(\"Epochs\")\r\n",
    "plt.grid()\r\n",
    "plt.plot(range(1, EPOCHS+1), accuracies, \"r\", label=\"validation accuracy\")\r\n",
    "plt.legend()\r\n",
    "plt.savefig(f\"POSValidationAccuracyPretrainedUnfrozen{EPOCHS}epochs.jpg\")\r\n"
   ],
   "outputs": [
    {
     "output_type": "stream",
     "name": "stdout",
     "text": [
      "At iteration 500 the loss is -0.396.\n",
      "At iteration 1000 the loss is -0.534.\n",
      "At iteration 1500 the loss is -0.619.\n",
      "At iteration 2000 the loss is -0.657.\n",
      "At iteration 2500 the loss is -0.794.\n",
      "At iteration 3000 the loss is -0.806.\n",
      "Epoch: 1, time taken: 123.2s, validation accuracy: 0.705.\n",
      "At iteration 500 the loss is -0.674.\n",
      "At iteration 1000 the loss is -0.682.\n",
      "At iteration 1500 the loss is -0.753.\n",
      "At iteration 2000 the loss is -0.836.\n",
      "At iteration 2500 the loss is -0.858.\n",
      "At iteration 3000 the loss is -0.674.\n",
      "Epoch: 2, time taken: 146.8s, validation accuracy: 0.744.\n",
      "At iteration 500 the loss is -0.765.\n",
      "At iteration 1000 the loss is -0.668.\n",
      "At iteration 1500 the loss is -0.728.\n",
      "At iteration 2000 the loss is -0.826.\n",
      "At iteration 2500 the loss is -0.867.\n",
      "At iteration 3000 the loss is -0.834.\n",
      "Epoch: 3, time taken: 146.8s, validation accuracy: 0.817.\n"
     ]
    },
    {
     "output_type": "display_data",
     "data": {
      "text/plain": [
       "<Figure size 432x288 with 1 Axes>"
      ],
      "image/png": "[encoded data removed]"
     },
     "metadata": {
      "needs_background": "light"
     }
    }
   ],
   "metadata": {}
  },
  {
   "cell_type": "markdown",
   "source": [
    "### Optionally extending the model\n",
    "\n",
    "**Task 8** [0]: This is an optional, open-ended task.   Try three different ways of your choosing to improve the performance of the model. You may want to vary w, or add additional layers to the network, or increase the size of the hidden vectors $h$, or try with different activation functions. Report on the results you get. Do you think your POS tagger is comparable to a human tagger?\n",
    "\n"
   ],
   "metadata": {}
  },
  {
   "cell_type": "code",
   "execution_count": null,
   "source": [
    "'''\r\n",
    "Results after varying w:\r\n",
    "Results after doing....:\r\n",
    "Results after doing...:\r\n",
    "'''"
   ],
   "outputs": [
    {
     "output_type": "execute_result",
     "data": {
      "text/plain": [
       "'\\nResults after varying w:\\nResults after doing....:\\nResults after doing...:\\n'"
      ]
     },
     "metadata": {},
     "execution_count": 202
    }
   ],
   "metadata": {}
  }
 ],
 "metadata": {
  "interpreter": {
   "hash": "5d33e5817340280fbce9a5097025b46f44ef76649f095e4aa6c33427194546ee"
  },
  "kernelspec": {
   "display_name": "Python 3.9.0 64-bit",
   "name": "python3"
  },
  "language_info": {
   "codemirror_mode": {
    "name": "ipython",
    "version": 3
   },
   "file_extension": ".py",
   "mimetype": "text/x-python",
   "name": "python",
   "nbconvert_exporter": "python",
   "pygments_lexer": "ipython3",
   "version": "3.9.0"
  }
 },
 "nbformat": 4,
 "nbformat_minor": 2
}