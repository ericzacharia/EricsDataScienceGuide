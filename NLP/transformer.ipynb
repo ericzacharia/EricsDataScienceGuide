{
 "cells": [
  {
   "cell_type": "markdown",
   "metadata": {
    "colab_type": "text",
    "id": "figlHFY9_YFT"
   },
   "source": [
    "# Transformer for Language Translation in PyTorch"
   ]
  },
  {
   "cell_type": "markdown",
   "metadata": {
    "colab_type": "text",
    "id": "YfyFT6Xc_YFW"
   },
   "source": [
    "In this homework we will try to implement the Transformer for languague translation based on [Attention is all you need](https://arxiv.org/pdf/1706.03762.pdf) paper.\n",
    "\n",
    "\n",
    "\n",
    "\n",
    "\n",
    "Your task will be to define the model for transformer. The code for training and\n",
    "data processing is already provided. Fill in the code whereever you see the # sign. It is fine if you train the model for just 2 epochs. Training will take a look a lot of time here.\n",
    "\n",
    "We will refering to this blog post through out this assignment. http://jalammar.github.io/illustrated-transformer/. This is blog post will be refered as the Illustrated transformer blog post.\n"
   ]
  },
  {
   "cell_type": "markdown",
   "metadata": {
    "colab_type": "text",
    "id": "-ojshAO__YFY"
   },
   "source": [
    "## Dataset\n",
    "\n",
    "For the translation task we will use the French-English dataset provided with the zip file. Make sure you extract the zip in the proper location. If the zip file is not extracted in the proper location your code will not work. We tested the code on google collab. You could also try running on it google collab\n",
    "as well. You will need GPU for this assignment."
   ]
  },
  {
   "cell_type": "code",
   "execution_count": 1,
   "metadata": {
    "colab": {
     "base_uri": "https://localhost:8080/",
     "height": 128
    },
    "colab_type": "code",
    "id": "ZKosmNvf_YFe",
    "outputId": "849b9103-d030-4103-ac40-06474be86d35"
   },
   "outputs": [
    {
     "name": "stderr",
     "output_type": "stream",
     "text": [
      "[nltk_data] Downloading package punkt to\n",
      "[nltk_data]     C:\\Users\\Eric\\AppData\\Roaming\\nltk_data...\n",
      "[nltk_data]   Package punkt is already up-to-date!\n"
     ]
    },
    {
     "data": {
      "text/plain": [
       "True"
      ]
     },
     "execution_count": 1,
     "metadata": {},
     "output_type": "execute_result"
    }
   ],
   "source": [
    "import sys\n",
    "import nltk\n",
    "\n",
    "# COLAB = True\n",
    "COLAB = False\n",
    "\n",
    "if COLAB:\n",
    "    from google.colab import drive\n",
    "    drive.mount('/content/gdrive/')\n",
    "    sys.path.append('/content/gdrive/My Drive/Transformer')\n",
    "nltk.download('punkt')"
   ]
  },
  {
   "cell_type": "markdown",
   "metadata": {
    "colab_type": "text",
    "id": "wwV6I41fygmX"
   },
   "source": [
    "Make sure you sure extract the zip in a directory named Transformer. Or change the following depending your directory name"
   ]
  },
  {
   "cell_type": "code",
   "execution_count": 2,
   "metadata": {
    "colab": {},
    "colab_type": "code",
    "id": "NQ0Rso_2_YFr"
   },
   "outputs": [],
   "source": [
    "import warnings\n",
    "warnings.filterwarnings('ignore')\n",
    "import torch\n",
    "from torch import nn\n",
    "import torch.functional as F\n",
    "import numpy as np\n",
    "import matplotlib.pyplot as plt\n",
    "import os\n",
    "from torch.utils.data import Dataset, DataLoader\n",
    "from fra_eng_dataset import FraEngDataset, fra_eng_dataset_collate\n",
    "from torch.nn.utils.rnn import pad_sequence, pack_padded_sequence, pad_packed_sequence\n",
    "\n",
    "device = 'cpu'\n",
    "if torch.cuda.is_available():\n",
    "    device = 'cuda'"
   ]
  },
  {
   "cell_type": "markdown",
   "metadata": {
    "colab_type": "text",
    "id": "v_rmo748_YFz"
   },
   "source": [
    "## Attention Layers"
   ]
  },
  {
   "cell_type": "markdown",
   "metadata": {
    "colab_type": "text",
    "id": "2OOJn5A2zAwC"
   },
   "source": [
    "Please read the section \"Self-Attention in Detail\" in Illustracted Transformer blog post and the complete the following section."
   ]
  },
  {
   "cell_type": "code",
   "execution_count": 3,
   "metadata": {
    "colab": {},
    "colab_type": "code",
    "id": "f7g3bm12_YF2"
   },
   "outputs": [],
   "source": [
    "class SelfAttentionHead(nn.Module):\n",
    "    def __init__(self, d_model):\n",
    "        super().__init__()\n",
    "        # K V Q are the matrices for creating the keys, values and queries vector\n",
    "        self.d_model = d_model\n",
    "        self.K = nn.Linear(d_model, d_model)\n",
    "        self.V = nn.Linear(d_model, d_model)\n",
    "        self.Q = nn.Linear(d_model, d_model)\n",
    "\n",
    "    def forward(self, x, padding_mask = None, subsq_mask = None):\n",
    "        # x shape: [N, SEQ, D_MODEL]\n",
    "        keys = self.K(x)\n",
    "        values = self.V(x)\n",
    "        queries = self.Q(x)\n",
    "        sqrt_d = keys.shape[-1] ** (1/2)\n",
    "        att = queries @ keys.transpose(-2, -1) / sqrt_d # shape: [N, SEQ, SEQ]\n",
    "        # Broadcast padding mask to word attentions so that word attention does not attend to positions outside the sentence\n",
    "        if padding_mask is not None:\n",
    "            att = att + padding_mask.transpose(1,2)\n",
    "        # Add subsequent mask so that each position can attend only itself and the previous elements\n",
    "        if subsq_mask is not None:\n",
    "            att = att + subsq_mask.unsqueeze(0)\n",
    "        att_softmax = nn.functional.softmax(att, dim=-1)  # shape: [N, SEQ, SEQ]\n",
    "        att_out = att_softmax @ values # shape: [N, SEQ, D_MODEL]\n",
    "        return att_out, keys, values"
   ]
  },
  {
   "cell_type": "markdown",
   "metadata": {
    "colab_type": "text",
    "id": "AZ2KRdxd_YF9"
   },
   "source": [
    "### Memory Attention\n",
    "This is the same as Self Attention only the keys and values matrices are not calculated from weights and input but are passed to the forward function."
   ]
  },
  {
   "cell_type": "code",
   "execution_count": 4,
   "metadata": {
    "colab": {},
    "colab_type": "code",
    "id": "O7-IVvMg_YF-"
   },
   "outputs": [],
   "source": [
    "class MemAttentionHead(nn.Module):\n",
    "    def __init__(self, d_model):\n",
    "        super().__init__()\n",
    "        self.d_model = d_model\n",
    "        self.Q = nn.Linear(d_model, d_model)\n",
    "\n",
    "    def forward(self, x, mem_padding_mask, keys = None, values = None):\n",
    "        # x shape: [N, SEQ, D_MODEL]\n",
    "        queries = self.Q(x)\n",
    "        sqrt_d = keys.shape[-1] ** (1/2)\n",
    "        att = queries @ keys.transpose(-2, -1) / sqrt_d  # shape: [N, SEQ, SEQ]\n",
    "        # Broadcast padding mask to word attentions so that word attention does not attend to positions outside the source sentence\n",
    "        if mem_padding_mask is not None:\n",
    "            att = att + mem_padding_mask.transpose(1,2)\n",
    "        att_softmax = nn.functional.softmax(att, dim=-1)  # shape: [N, SEQ_TGT, SEQ_SRC]\n",
    "        att_out = att_softmax @ values  # shape: [N, SEQ, D_MODEL]\n",
    "        return att_out"
   ]
  },
  {
   "cell_type": "markdown",
   "metadata": {
    "colab_type": "text",
    "id": "54YbZMvx_YGG"
   },
   "source": [
    "### Multi-head attentions for Self Attention and Memory Attention"
   ]
  },
  {
   "cell_type": "markdown",
   "metadata": {
    "colab_type": "text",
    "id": "Y4flu62Z12lw"
   },
   "source": [
    "Please read the section \"The Beast With Many Heads\" in the illustrated Transformer article before attempting this section"
   ]
  },
  {
   "cell_type": "code",
   "execution_count": 5,
   "metadata": {
    "colab": {},
    "colab_type": "code",
    "id": "PggyHjKB_YGH"
   },
   "outputs": [],
   "source": [
    "class MultiHeadSelfAttention(nn.Module):\n",
    "    def __init__(self, d_model, num_heads):\n",
    "        super().__init__()\n",
    "        self.num_heads = num_heads\n",
    "        self.heads = nn.ModuleList([SelfAttentionHead(d_model) for _ in range(num_heads)]) \n",
    "        self.linear = nn.Linear(num_heads * d_model, d_model)\n",
    "\n",
    "    def forward(self, src, src_padding_mask, src_subsq_mask):\n",
    "        out_cat = None\n",
    "        keys = None\n",
    "        values = None\n",
    "        for i in range(self.num_heads):\n",
    "            head_outp, keys, values = self.heads[i](src, src_padding_mask, src_subsq_mask)\n",
    "            if i == 0:\n",
    "                out_cat = head_outp\n",
    "            else:\n",
    "                out_cat = torch.cat([out_cat, head_outp], dim=2)\n",
    "        ret = self.linear(out_cat)\n",
    "        return ret, keys, values"
   ]
  },
  {
   "cell_type": "markdown",
   "metadata": {
    "colab_type": "text",
    "id": "5QxWaTVK2hZJ"
   },
   "source": [
    "This is same as before but for memory attention"
   ]
  },
  {
   "cell_type": "code",
   "execution_count": 6,
   "metadata": {
    "colab": {},
    "colab_type": "code",
    "id": "46a6IG1v_YGP"
   },
   "outputs": [],
   "source": [
    "class MultiHeadMemAttention(nn.Module):\n",
    "    def __init__(self, d_model, num_heads):\n",
    "        super().__init__()\n",
    "        self.num_heads = num_heads\n",
    "        self.heads = nn.ModuleList([MemAttentionHead(d_model) for _ in range(num_heads)])\n",
    "        self.linear = nn.Linear(num_heads * d_model, d_model)\n",
    "\n",
    "    def forward(self, src, src_padding_mask, keys, values):\n",
    "        out_cat = None\n",
    "        for i in range(self.num_heads):\n",
    "            head_outp = self.heads[i](src, src_padding_mask, keys, values)\n",
    "            if i == 0:\n",
    "                out_cat = head_outp\n",
    "            else:\n",
    "                out_cat = torch.cat([out_cat, head_outp], dim=2)\n",
    "        ret = self.linear(out_cat)\n",
    "        return ret"
   ]
  },
  {
   "cell_type": "markdown",
   "metadata": {
    "colab_type": "text",
    "id": "fvlgDBKY_YGU"
   },
   "source": [
    "### Encoder layer"
   ]
  },
  {
   "cell_type": "markdown",
   "metadata": {
    "colab_type": "text",
    "id": "gscU-jiG2ydv"
   },
   "source": [
    "Please read the section \"Residuals\" in the Illustrated Transformer article before attempting this section"
   ]
  },
  {
   "cell_type": "code",
   "execution_count": 7,
   "metadata": {
    "colab": {},
    "colab_type": "code",
    "id": "DGSX2YmQ_YGV"
   },
   "outputs": [],
   "source": [
    "class EncoderLayer(nn.Module):\n",
    "    def __init__(self, d_model, num_att_heads, ff_dim = 2048, dropout = 0.1):\n",
    "        super().__init__()\n",
    "        self.multihead_attention = MultiHeadSelfAttention(d_model, num_att_heads)\n",
    "        self.dropout1 = nn.Dropout(dropout)\n",
    "        self.att_sublayer_norm = nn.LayerNorm(d_model) \n",
    "        self.linear1 = nn.Linear(d_model, ff_dim)\n",
    "        self.relu = nn.ReLU()\n",
    "        self.dropout_lin = nn.Dropout(dropout)\n",
    "        self.linear2 = nn.Linear(ff_dim, d_model)\n",
    "        self.dropout2 = nn.Dropout(dropout)\n",
    "        self.lin_sublayer_norm = nn.LayerNorm(d_model)\n",
    "\n",
    "    def forward(self, src, src_padding_mask, src_subsq_mask):\n",
    "        x, keys, values = self.multihead_attention(src, src_padding_mask, src_subsq_mask)\n",
    "        x = self.dropout1(self.att_sublayer_norm(x + src))\n",
    "        x = self.dropout2(self.lin_sublayer_norm(self.linear2(self.dropout_lin(self.relu(self.linear1(x)))) + x))\n",
    "        return x, keys, values\n"
   ]
  },
  {
   "cell_type": "markdown",
   "metadata": {
    "colab_type": "text",
    "id": "Cvjkp1Bb_YGc"
   },
   "source": [
    "### Decoder layer\n",
    "\n",
    "The only difference between Encoder and Decoder layer is the additional MultiHeadMemAttention() sublayer in the decoder layer."
   ]
  },
  {
   "cell_type": "code",
   "execution_count": 8,
   "metadata": {
    "colab": {},
    "colab_type": "code",
    "id": "b7O5jz4h_YGc"
   },
   "outputs": [],
   "source": [
    "class DecoderLayer(nn.Module):\n",
    "    def __init__(self, d_model, num_att_heads, ff_dim = 2048, dropout = 0.1):\n",
    "        super().__init__()\n",
    "        self.multihead_self_attention = MultiHeadSelfAttention(d_model, num_att_heads)\n",
    "        self.self_att_sublayer_norm = nn.LayerNorm(d_model)\n",
    "        self.dropout1 = nn.Dropout(dropout)\n",
    "        self.multihead_mem_attention = MultiHeadMemAttention(d_model, num_att_heads)\n",
    "        self.mem_att_sublayer_norm = nn.LayerNorm(d_model)\n",
    "        self.dropout2 = nn.Dropout(dropout)\n",
    "        self.linear1 = nn.Linear(d_model, ff_dim)\n",
    "        self.relu = nn.ReLU()\n",
    "        self.dropout_lin = nn.Dropout(dropout)\n",
    "        self.linear2 = nn.Linear(ff_dim, d_model)\n",
    "        self.lin_sublayer_norm = nn.LayerNorm(d_model)\n",
    "        self.dropout3 = nn.Dropout(dropout)\n",
    "\n",
    "    def forward(self, x, src_padding_mask, tgt_padding_mask, tgt_subsq_mask, mem_keys, mem_values):\n",
    "        '''The “Encoder-Decoder Attention” layer works just like multiheaded self-attention,\n",
    "        except it creates its Queries matrix from the layer below it,\n",
    "        and takes the Keys and Values matrix from the output of the encoder stack.'''\n",
    "        x = x + self.dropout1(self.multihead_self_attention(self.self_att_sublayer_norm(x), tgt_padding_mask, tgt_subsq_mask)[0])\n",
    "        x = x + self.dropout2(self.multihead_mem_attention(self.mem_att_sublayer_norm(x), src_padding_mask, mem_keys, mem_values))\n",
    "        x = x + self.dropout3(self.linear2(self.dropout_lin(self.relu(self.linear1(self.lin_sublayer_norm(x))))))\n",
    "        return x\n"
   ]
  },
  {
   "cell_type": "markdown",
   "metadata": {
    "colab_type": "text",
    "id": "dcc0fJvy_YGi"
   },
   "source": [
    "### Encoder "
   ]
  },
  {
   "cell_type": "code",
   "execution_count": 9,
   "metadata": {
    "colab": {},
    "colab_type": "code",
    "id": "ysTuoG-v_YGk"
   },
   "outputs": [],
   "source": [
    "class Encoder(nn.Module):\n",
    "    def __init__(self, num_layers, d_model, num_att_heads):\n",
    "        super().__init__()\n",
    "        self.layers = nn.ModuleList([EncoderLayer(d_model, num_att_heads) for _ in range(num_layers)])\n",
    "        self.norm = nn.LayerNorm(d_model)\n",
    "\n",
    "    def forward(self,src, src_padding_mask, src_subsq_mask):\n",
    "        x = src\n",
    "        keys = None\n",
    "        values = None\n",
    "        for layer in self.layers:\n",
    "            x, keys, values = layer.forward(x, src_padding_mask, src_subsq_mask)\n",
    "        x = self.norm.forward(x)\n",
    "        return keys, values"
   ]
  },
  {
   "cell_type": "markdown",
   "metadata": {
    "colab_type": "text",
    "id": "_8yCC8NW_YGq"
   },
   "source": [
    "### Decoder"
   ]
  },
  {
   "cell_type": "code",
   "execution_count": 10,
   "metadata": {
    "colab": {},
    "colab_type": "code",
    "id": "8nBgP5wz_YGq"
   },
   "outputs": [],
   "source": [
    "class Decoder(nn.Module):\n",
    "    def __init__(self, num_layers, d_model, num_att_heads):\n",
    "        super().__init__()\n",
    "        self.layers = nn.ModuleList([DecoderLayer(d_model, num_att_heads) for _ in range(num_layers)])\n",
    "        self.norm = nn.LayerNorm(d_model)\n",
    "\n",
    "    def forward(self, tgt, src_padding_mask, tgt_padding_mask, tgt_subsq_mask, mem_keys, mem_values):\n",
    "        x = tgt\n",
    "        for layer in self.layers:\n",
    "            x = layer.forward(x, src_padding_mask, tgt_padding_mask, tgt_subsq_mask, mem_keys, mem_values)\n",
    "        x = self.norm.forward(x)\n",
    "        return x"
   ]
  },
  {
   "cell_type": "markdown",
   "metadata": {
    "colab_type": "text",
    "id": "yk8mMMIh_YGx"
   },
   "source": [
    "## Positional Encoding\n",
    "\n",
    "Please read the section on \"Positional Encoding\" on Illustrated Transformer blogpost before attempting this\n"
   ]
  },
  {
   "cell_type": "code",
   "execution_count": 11,
   "metadata": {
    "colab": {},
    "colab_type": "code",
    "id": "40qMqmNP_YGz"
   },
   "outputs": [],
   "source": [
    "class PositionalEncoding(nn.Module):\n",
    "    def __init__(self, d_model):\n",
    "        super().__init__()\n",
    "        self.d_model = d_model\n",
    "        self.sin_args = torch.zeros(1, self.d_model).to(device)\n",
    "        self.cos_args = torch.zeros(1, self.d_model).to(device)\n",
    "        for i in range(self.d_model//2):\n",
    "            self.sin_args[0, i * 2] = 10000 ** (2 * i / d_model)\n",
    "            self.cos_args[0, i * 2 + 1] = 10000 ** (2 * i / d_model)\n",
    "        self.sin_args_mask = (self.sin_args > 1e-10).float()\n",
    "        self.sin_args = self.sin_args + (self.sin_args < 1e-10).float()\n",
    "        self.cos_args_mask = (self.cos_args > 1e-10).float()\n",
    "        self.cos_args = self.cos_args + (self.cos_args < 1e-10).float()\n",
    "\n",
    "    def forward(self, x):\n",
    "        for pos in range(x.size()[-2]):\n",
    "            x[:,pos,:] = x[:,pos,:] + \\\n",
    "                         torch.sin(pos / self.sin_args) * self.sin_args_mask + \\\n",
    "                         torch.cos(pos / self.cos_args) * self.cos_args_mask\n",
    "        return x"
   ]
  },
  {
   "cell_type": "markdown",
   "metadata": {
    "colab_type": "text",
    "id": "cAmY7xVV_YG5"
   },
   "source": [
    "Here is a vizualization of the positional encoding vectors. Each row is an encoding for a word. "
   ]
  },
  {
   "cell_type": "code",
   "execution_count": 12,
   "metadata": {
    "colab": {
     "base_uri": "https://localhost:8080/",
     "height": 267
    },
    "colab_type": "code",
    "id": "0fskAsp9_YG6",
    "outputId": "1578fde6-6bcc-4d38-a02c-099cb0be755d"
   },
   "outputs": [
    {
     "data": {
      "image/png": "[encoded data removed]",
      "text/plain": [
       "<Figure size 864x288 with 2 Axes>"
      ]
     },
     "metadata": {
      "needs_background": "dark"
     },
     "output_type": "display_data"
    }
   ],
   "source": [
    "import matplotlib.pyplot as plt\n",
    "%matplotlib inline\n",
    "d_model = 128\n",
    "max_sent_len = 50\n",
    "positional_enc = PositionalEncoding(d_model).to(device)\n",
    "data = torch.zeros(1, max_sent_len, d_model).to(device)\n",
    "data_pos_enc = positional_enc.forward(data)\n",
    "enc_np = data_pos_enc.squeeze(dim=0).to('cpu').numpy()\n",
    "plt.figure(figsize=(12, 4))\n",
    "plt.pcolormesh(enc_np, cmap='viridis')\n",
    "plt.xlabel('Embedding Dimensions')\n",
    "plt.xlim((0, d_model))\n",
    "plt.ylim((max_sent_len, 0))\n",
    "plt.ylabel('Token Position')\n",
    "plt.colorbar()\n",
    "plt.show()"
   ]
  },
  {
   "cell_type": "markdown",
   "metadata": {
    "colab_type": "text",
    "id": "Ig-oDR0j_YHB"
   },
   "source": [
    "## The Transformer model\n",
    "\n",
    "Now combine all the pieces to build the Transformer model"
   ]
  },
  {
   "cell_type": "code",
   "execution_count": 13,
   "metadata": {
    "colab": {},
    "colab_type": "code",
    "id": "hyD8JyUm_YHD"
   },
   "outputs": [],
   "source": [
    "class Transformer(nn.Module):\n",
    "    def __init__(self, num_layers, d_model, num_att_heads, input_dict_size, output_dict_size):\n",
    "        super().__init__()\n",
    "        self.max_sent_len = 50\n",
    "        self.input_emb = nn.Embedding(input_dict_size, d_model)\n",
    "        self.outp_emb = nn.Embedding(output_dict_size, d_model)\n",
    "        self.positional_encoder = PositionalEncoding(d_model)\n",
    "        self.encoder = Encoder(num_layers, d_model, num_att_heads)\n",
    "        self.decoder = Decoder(num_layers, d_model, num_att_heads)\n",
    "        self.outp_logits = nn.Linear(d_model, out_dict_size)\n",
    "        self.softmax = nn.Softmax(dim=-1)\n",
    "\n",
    "    def translate(self, src, tgt_start_code, tgt_eos_code, src_padding_mask, src_subsq_mask):\n",
    "        enc_x = self.input_emb.forward(src.squeeze(dim=2))\n",
    "        enc_x = self.positional_encoder.forward(enc_x)\n",
    "        enc_keys, enc_values = self.encoder.forward(enc_x, src_padding_mask, src_subsq_mask)\n",
    "        snt = torch.ones((1,1,1)) * tgt_start_code\n",
    "        snt = snt.long()\n",
    "        snt = snt.to(device)\n",
    "        translation_idxes = []\n",
    "        for idx in range(self.max_sent_len):\n",
    "            dec_x = self.outp_emb.forward(snt.squeeze(dim=2))\n",
    "            dec_x = self.positional_encoder.forward(dec_x)\n",
    "            dec_x = self.decoder.forward(\n",
    "                dec_x,\n",
    "                src_padding_mask = src_padding_mask,\n",
    "                tgt_padding_mask = torch.zeros_like(snt).float().to(device),\n",
    "                tgt_subsq_mask = get_square_subsequent_mask(snt.size()[1]),\n",
    "                mem_keys = enc_keys,\n",
    "                mem_values = enc_values)\n",
    "            dec_x = self.outp_logits.forward(dec_x)\n",
    "            dec_x = self.softmax(dec_x)\n",
    "            next_word_softmax = dec_x[0,idx,:].to('cpu').detach()\n",
    "            next_word_idx = torch.argmax(next_word_softmax)\n",
    "            snt = torch.cat([snt, torch.ones((1,1,1)).long().to(device) * next_word_idx], dim=1)\n",
    "            translation_idxes.append(next_word_idx)\n",
    "            if next_word_idx == tgt_eos_code:\n",
    "                break\n",
    "        return translation_idxes\n",
    "\n",
    "    def forward(self, src, tgt, src_padding_mask, src_subsq_mask, tgt_padding_mask, tgt_subsq_mask):\n",
    "        enc_x = self.input_emb.forward(src.squeeze(dim=2))\n",
    "        enc_x = self.positional_encoder.forward(enc_x)\n",
    "        enc_keys, enc_values = self.encoder.forward(enc_x, src_padding_mask, src_subsq_mask)\n",
    "        dec_x = self.outp_emb.forward(tgt.squeeze(dim=2))\n",
    "        dec_x = self.positional_encoder.forward(dec_x)\n",
    "        dec_x = self.decoder.forward(\n",
    "            dec_x,\n",
    "            src_padding_mask=src_padding_mask,\n",
    "            tgt_padding_mask=torch.zeros_like(tgt_padding_mask).float().to(device),\n",
    "            tgt_subsq_mask=get_square_subsequent_mask(tgt_subsq_mask.size()[1]),\n",
    "            mem_keys=enc_keys,\n",
    "            mem_values=enc_values)\n",
    "        dec_x = self.outp_logits.forward(dec_x)\n",
    "        dec_x = self.softmax(dec_x)\n",
    "        return dec_x\n"
   ]
  },
  {
   "cell_type": "markdown",
   "metadata": {
    "colab_type": "text",
    "id": "D4p-_UiT51_l"
   },
   "source": [
    "Now you have finished building the model. Just train now. The code is complete"
   ]
  },
  {
   "cell_type": "markdown",
   "metadata": {
    "colab_type": "text",
    "id": "PG3maiHu_YHJ"
   },
   "source": [
    "### Some helper functions"
   ]
  },
  {
   "cell_type": "code",
   "execution_count": 14,
   "metadata": {
    "colab": {},
    "colab_type": "code",
    "id": "C2I3R_QM_YHK"
   },
   "outputs": [],
   "source": [
    "def get_square_subsequent_mask(seq_len):\n",
    "    mask = (torch.triu(torch.ones(seq_len, seq_len).to(device)) == 1).transpose(0, 1)\n",
    "    mask = mask.float().masked_fill(mask == 0, float('-inf')).masked_fill(mask == 1, float(0.0))\n",
    "    return mask\n",
    "\n",
    "def get_padding_mask(input, val1 = float('-inf'), val2 = float(0.0)):\n",
    "    mask = torch.ones(input.size()).to(device)\n",
    "    mask = mask.float().masked_fill(input == 0, val1).masked_fill(input > 0, val2)\n",
    "    return mask\n",
    "\n",
    "def get_one_hot(x, out_dim, mask):\n",
    "    tens = x.view(-1)\n",
    "    tens_one_hot = torch.zeros(list(tens.size()) + [out_dim]).to(device)\n",
    "    for i in range(len(tens)):\n",
    "        tens_one_hot[i,tens[i]] = 1\n",
    "    tens_one_hot = tens_one_hot.view(list(x.size()) + [out_dim])\n",
    "    tens_one_hot = tens_one_hot * mask\n",
    "    return tens_one_hot.to(device)"
   ]
  },
  {
   "cell_type": "code",
   "execution_count": 15,
   "metadata": {
    "colab": {},
    "colab_type": "code",
    "id": "sM4LYVeN_YHN"
   },
   "outputs": [],
   "source": [
    "#Prepare the sentence for model translate function\n",
    "def translate_sentences(src_sentences, tgt_sentences, max_sent_num = 15):\n",
    "    transformer_model.eval()\n",
    "    with torch.no_grad():\n",
    "        for snt_idx in range(len(src_sentences)):\n",
    "            if snt_idx > max_sent_num:\n",
    "                break\n",
    "            src = src_sentences[snt_idx:snt_idx+1]\n",
    "            padded_src = pad_sequence(src, padding_value=0, batch_first=True).to(device)\n",
    "            src_padding_mask = get_padding_mask(padded_src)\n",
    "            src_subsq_mask = get_square_subsequent_mask(padded_src.size()[1])\n",
    "            snt_translation = transformer_model.translate(\n",
    "                src = padded_src,\n",
    "                tgt_start_code = dataset.get_eng_start_code(),\n",
    "                tgt_eos_code = dataset.get_eng_eos_code(),\n",
    "                src_padding_mask = src_padding_mask,\n",
    "                src_subsq_mask = src_subsq_mask)\n",
    "            src_sent = ''\n",
    "            for word_idx in src_sentences[snt_idx]:\n",
    "                src_sent = f\"{src_sent} {dataset.fra_token_to_text[word_idx]}\"\n",
    "            tgt_sent = ''\n",
    "            for word_idx in tgt_sentences[snt_idx]:\n",
    "                tgt_sent = f\"{tgt_sent} {dataset.eng_token_to_text[word_idx]}\"\n",
    "            translated_sent = ''\n",
    "            for word_idx in snt_translation:\n",
    "                translated_sent = f\"{translated_sent} {dataset.eng_token_to_text[word_idx]}\"\n",
    "            print(f\"Source sentence is: {src_sent}\")\n",
    "            print(f\"Target sentence is: {tgt_sent}\")\n",
    "            print(f\"Model translation is: {translated_sent}\")\n",
    "    transformer_model.train()"
   ]
  },
  {
   "cell_type": "markdown",
   "metadata": {
    "colab_type": "text",
    "id": "LG2e0E8Z_YHT"
   },
   "source": [
    "### Hyperparams, model definition and dataset"
   ]
  },
  {
   "cell_type": "code",
   "execution_count": 16,
   "metadata": {
    "colab": {
     "base_uri": "https://localhost:8080/",
     "height": 35
    },
    "colab_type": "code",
    "id": "rE_XEjKo_YHT",
    "outputId": "2c2f3ad0-24c4-4c6a-f638-586985ccdd1b"
   },
   "outputs": [
    {
     "name": "stdout",
     "output_type": "stream",
     "text": [
      "170190\n"
     ]
    }
   ],
   "source": [
    "BATCH_SIZE = 16\n",
    "LEARNING_RATE = 1e-4\n",
    "EPOCHS = 12\n",
    "STORE_MODELS = True\n",
    "models_path = 'models'\n",
    "\n",
    "if not os.path.exists(models_path):\n",
    "    os.mkdir(models_path)\n",
    "\n",
    "dataset = FraEngDataset()  # size = 170,190\n",
    "sentences_loader = DataLoader(dataset, batch_size=BATCH_SIZE, shuffle=True, drop_last=True, collate_fn=fra_eng_dataset_collate)\n",
    "in_dict_size = dataset.get_fra_dict_size() \n",
    "out_dict_size = dataset.get_eng_dict_size()  \n",
    "transformer_model = Transformer(\n",
    "    num_layers=6,\n",
    "    d_model=512,\n",
    "    num_att_heads=8,\n",
    "    input_dict_size=in_dict_size,  # size = 31,203\n",
    "    output_dict_size=out_dict_size).to(device)   # size = 16,062\n",
    "optimizer = torch.optim.Adam(transformer_model.parameters(), lr=LEARNING_RATE)"
   ]
  },
  {
   "cell_type": "markdown",
   "metadata": {
    "colab_type": "text",
    "id": "Izp9Fx2F_YHZ"
   },
   "source": [
    "# Training and sentence translation\n",
    "Now just train the model. You should be able to see the translations at the end of each epoch. Check the quality of your translations. Be patient. Each epoch can take more than 2 hours in a GPU."
   ]
  },
  {
   "cell_type": "code",
   "execution_count": 17,
   "metadata": {
    "colab": {
     "base_uri": "https://localhost:8080/",
     "height": 395
    },
    "colab_type": "code",
    "id": "G35MNimi_YHa",
    "outputId": "8510431d-39b8-4259-8074-13ef13dc139e"
   },
   "outputs": [],
   "source": [
    "for epoch in range(EPOCHS):\n",
    "    src_sentences = None\n",
    "    tgt_sentences = None\n",
    "    train_loss_sum = 0.0\n",
    "    total_word_count = 0.0\n",
    "\n",
    "    for sentences in sentences_loader:\n",
    "        src_sentences = sentences['fra_sentences']\n",
    "        tgt_sentences = sentences['eng_sentences']\n",
    "        tgt_sentences_out = []\n",
    "        for idx in range(len(tgt_sentences)):\n",
    "            tgt_sentences_out.append(tgt_sentences[idx][1:])\n",
    "            tgt_sentences[idx] = tgt_sentences[idx][:-1]\n",
    "\n",
    "        # Create tensors from token lists\n",
    "        padded_src = pad_sequence(src_sentences, padding_value=0, batch_first=True).to(device)\n",
    "        padded_tgt = pad_sequence(tgt_sentences, padding_value=0, batch_first=True).to(device)\n",
    "        padded_tgt_out = pad_sequence(tgt_sentences_out, padding_value=0, batch_first=True).to(device)\n",
    "        src_padding_mask = get_padding_mask(padded_src)\n",
    "        src_subsq_mask = get_square_subsequent_mask(padded_src.size()[1])\n",
    "        tgt_padding_mask = get_padding_mask(padded_tgt)\n",
    "        tgt_subsq_mask = get_square_subsequent_mask(padded_tgt.size()[1])\n",
    "\n",
    "        pred = transformer_model.forward(\n",
    "            src=padded_src,\n",
    "            tgt=padded_tgt,\n",
    "            src_padding_mask=src_padding_mask,\n",
    "            src_subsq_mask=src_subsq_mask,\n",
    "            tgt_padding_mask=tgt_padding_mask,\n",
    "            tgt_subsq_mask=tgt_subsq_mask)\n",
    "\n",
    "        # Mask to zero one hot vectors corresponding to padded elements\n",
    "        one_hot_mask = get_padding_mask(padded_tgt_out, val1=float(0.0), val2=float(1.0))\n",
    "        y_one_hot = get_one_hot(padded_tgt_out.squeeze(dim=2), out_dict_size, mask=one_hot_mask)\n",
    "        loss = - torch.sum(torch.log(pred) * y_one_hot)\n",
    "        loss.backward()\n",
    "        optimizer.step()\n",
    "        optimizer.zero_grad()\n",
    "        train_loss_sum += loss.detach().to('cpu').data\n",
    "        total_word_count += torch.sum(y_one_hot).to('cpu').data\n",
    "\n",
    "    print(f\"Epoch {epoch} \" + '=' * 60)\n",
    "    print(f\"Total loss per word: {train_loss_sum / total_word_count}\")\n",
    "    print(f\"Some translated sentences:\")\n",
    "    with torch.no_grad():\n",
    "     translate_sentences(src_sentences,tgt_sentences) # Take the last batch and translate some sentences.\n",
    "    \n",
    "    if STORE_MODELS == True:\n",
    "        model_path = os.path.join(models_path, f'Epoch_{epoch}_model.pt')\n",
    "        torch.save(transformer_model, model_path)\n",
    "\n",
    "print(\"Training done! Generating some more sentences.\")"
   ]
  }
 ],
 "metadata": {
  "accelerator": "TPU",
  "colab": {
   "name": "Transformer_assignment.ipynb",
   "provenance": []
  },
  "interpreter": {
   "hash": "5d33e5817340280fbce9a5097025b46f44ef76649f095e4aa6c33427194546ee"
  },
  "kernelspec": {
   "display_name": "Python 3.9.6 64-bit",
   "name": "python3"
  },
  "language_info": {
   "codemirror_mode": {
    "name": "ipython",
    "version": 3
   },
   "file_extension": ".py",
   "mimetype": "text/x-python",
   "name": "python",
   "nbconvert_exporter": "python",
   "pygments_lexer": "ipython3",
   "version": "3.9.6"
  }
 },
 "nbformat": 4,
 "nbformat_minor": 1
}
