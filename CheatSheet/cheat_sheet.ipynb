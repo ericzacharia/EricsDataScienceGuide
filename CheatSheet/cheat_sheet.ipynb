{
 "cells": [
  {
   "cell_type": "markdown",
   "metadata": {},
   "source": [
    "# Eric Zacharia's Data Science Cheat Sheet"
   ]
  },
  {
   "cell_type": "markdown",
   "metadata": {},
   "source": [
    "# Table of Contents\n",
    "1. [Python](#python)\n",
    "2. [NumPy](#numpy)\n",
    "3. [PyTorch](#pytorch)\n",
    "4. [TensorFlow and Keras](#tensorflow)\n",
    "5. [Pandas](#pandas)\n",
    "6. [matplotlib and Seaborn](#matplotlib)\n",
    "7. [sklearn](#sklearn)\n",
    "8. [Machine Learning](#machinelearning)\n",
    "9. [Algorithms and Data Structures](#algorithms)\n"
   ]
  },
  {
   "cell_type": "markdown",
   "metadata": {},
   "source": [
    "## Python <a name=\"python\"></a>\n",
    "1. [Data Types](#pythondatatypes)\n",
    "2. [Strings](#strings)\n",
    "3. [Lists, Tuples, and Sets](#lists)\n",
    "4. [Dictionaries](#dictionaries)\n",
    "5. [Built-ins](#builtin) \n",
    "   - [file I/O](#fileio)\n",
    "   - [lambda](#lambda)\n",
    "   - [argparse](#argparse)\n",
    "   - [collections](#collections)\n",
    "   - [copy](#copy)\n",
    "   - [datetime](#datetime)\n",
    "   - [math](#math)\n",
    "   - [os](#os)\n",
    "   - [random](#random)\n",
    "   - [re](#re)\n",
    "   - [sys](#sys)\n",
    "   - [time](#time)"
   ]
  },
  {
   "cell_type": "markdown",
   "metadata": {},
   "source": [
    "### Data Types <a name=\"pythondatatypes\"></a>"
   ]
  },
  {
   "cell_type": "code",
   "execution_count": 126,
   "metadata": {},
   "outputs": [
    {
     "data": {
      "text/plain": [
       "(str, bool, int, float, list, dict, set, tuple)"
      ]
     },
     "execution_count": 126,
     "metadata": {},
     "output_type": "execute_result"
    }
   ],
   "source": [
    "str, bool, int, float, list, dict, set, tuple"
   ]
  },
  {
   "cell_type": "code",
   "execution_count": 12,
   "metadata": {},
   "outputs": [
    {
     "data": {
      "text/plain": [
       "True"
      ]
     },
     "execution_count": 12,
     "metadata": {},
     "output_type": "execute_result"
    }
   ],
   "source": [
    "chr(57) == chr(ord('z') - ord('A')) == '9' == chr(ord('9'))"
   ]
  },
  {
   "cell_type": "markdown",
   "metadata": {},
   "source": [
    "### Strings <a name=\"strings\"></a>"
   ]
  },
  {
   "cell_type": "code",
   "execution_count": 127,
   "metadata": {},
   "outputs": [
    {
     "data": {
      "text/plain": [
       "[' Wow! ',\n",
       " \" The quick brown fox jumped over the lazy dog's 3rd foot; \",\n",
       " ' what a surprize. ']"
      ]
     },
     "execution_count": 127,
     "metadata": {},
     "output_type": "execute_result"
    }
   ],
   "source": [
    "s = ''' Wow! \\n The quick brown fox jumped over the lazy dog's 3rd foot; \\n what a surprize. '''\n",
    "s.count(\"z\")\n",
    "s.index(\"z\")  # returns first occurence\n",
    "s.isalnum()  # true if all are alphanumeric\n",
    "s.isalpha()  # true if all are alpha\n",
    "s.isupper()\n",
    "s.join([\"a\", \"b\", \"c\"])\n",
    "s.lower()\n",
    "s.replace(\"z\", \"w\")\n",
    "s.split(\" \")\n",
    "s.strip(\"\")  # trims leading and trailing whitespace\n",
    "s.splitlines()"
   ]
  },
  {
   "cell_type": "markdown",
   "metadata": {},
   "source": [
    "### Lists, Tuples, and Sets <a name=\"lists\"></a>"
   ]
  },
  {
   "cell_type": "code",
   "execution_count": 13,
   "metadata": {},
   "outputs": [],
   "source": [
    "lst = [\"apple\", \"banana\", \"orange\"]\n",
    "lst.copy() # new list in a different memory location\n",
    "lst.append(\"blueberry\")\n",
    "lst.count(\"apple\")\n",
    "lst.extend([\"strawberry\", \"raspberry\"])\n",
    "lst.index(\"raspberry\")  # returns first occurence\n",
    "lst.insert(1, \"pineapple\")\n",
    "lst.pop(1)\n",
    "lst.remove(\"raspberry\")\n",
    "lst.reverse()\n",
    "lst.sort()\n",
    "new_lst = lst[:1:2] # [inclusive:exclusive:step] new_lst in a different memory location\n",
    "lst.clear()\n",
    "\n",
    "tpl = (\"apple\", \"banana\", \"orange\")\n",
    "tpl.count(\"apple\")\n",
    "tpl.index(\"apple\")\n",
    "\n",
    "st = {\"apple\", \"banana\", \"orange\"}\n",
    "st.add(\"blueberry\")\n",
    "st.copy()\n",
    "st.difference({\"apple\", \"strawberry\"}) # A - B\n",
    "st.intersection({\"apple\", \"peach\"})\n",
    "st.union({\"apple\", \"peach\"})\n",
    "st.pop()  # cannot take argument\n",
    "st.discard(\"raspberry\")  # will not raise an error if not in set\n",
    "st.remove(\"orange\")  # does raise an error if not in set\n",
    "st.clear()"
   ]
  },
  {
   "cell_type": "markdown",
   "metadata": {},
   "source": [
    "### Dictionaries <a name=\"dictionaries\"></a>"
   ]
  },
  {
   "cell_type": "code",
   "execution_count": null,
   "metadata": {},
   "outputs": [],
   "source": [
    "dct = {\n",
    "    \"brand\": \"Ford\",\n",
    "    \"model\": \"Mustang\",\n",
    "    \"year\": 1964,\n",
    "    \"tires\" : {\"fl\": \"michelin\", \"fr\": \"goodyear\", \"bl\": \"cooper\", \"br\": \"bridgestone\"}\n",
    "}\n",
    "dct.copy()\n",
    "dct.fromkeys([\"brand\", \"model\", \"year\"], 1) # new dict with all values set to 1\n",
    "dct.get(\"brand\") == dct[\"brand\"] \n",
    "dct.items() # returns an array-like object of key value tuples\n",
    "dct.keys()  # returns an array-like object of keys\n",
    "dct.pop(\"model\")\n",
    "dct.values()  # returns an array-like object of values\n",
    "dct.clear()"
   ]
  },
  {
   "cell_type": "markdown",
   "metadata": {},
   "source": [
    "### Built-ins <a name=\"builtin\"></a>\n",
    "TODO"
   ]
  },
  {
   "cell_type": "markdown",
   "metadata": {},
   "source": [
    "#### file I/O <a name=\"fileio\"></a>"
   ]
  },
  {
   "cell_type": "markdown",
   "metadata": {},
   "source": [
    "#### lambda <a name=\"lambda\"></a>"
   ]
  },
  {
   "cell_type": "markdown",
   "metadata": {},
   "source": [
    "#### argparse <a name=\"argparse\"></a>"
   ]
  },
  {
   "cell_type": "markdown",
   "metadata": {},
   "source": [
    "#### collections <a name=\"collections\"></a>"
   ]
  },
  {
   "cell_type": "markdown",
   "metadata": {},
   "source": [
    "#### copy <a name=\"copy\"></a>"
   ]
  },
  {
   "cell_type": "markdown",
   "metadata": {},
   "source": [
    "#### datetime <a name=\"datetime\"></a>"
   ]
  },
  {
   "cell_type": "markdown",
   "metadata": {},
   "source": [
    "#### math <a name=\"math\"></a>"
   ]
  },
  {
   "cell_type": "markdown",
   "metadata": {},
   "source": [
    "#### os <a name=\"os\"></a>\n"
   ]
  },
  {
   "cell_type": "markdown",
   "metadata": {},
   "source": [
    "#### random <a name=\"random\"></a>"
   ]
  },
  {
   "cell_type": "markdown",
   "metadata": {},
   "source": [
    "#### re <a name=\"re\"></a>"
   ]
  },
  {
   "cell_type": "markdown",
   "metadata": {},
   "source": [
    "#### sys <a name=\"sys\"></a>"
   ]
  },
  {
   "cell_type": "markdown",
   "metadata": {},
   "source": [
    "#### time <a name=\"time\"></a>"
   ]
  },
  {
   "cell_type": "markdown",
   "metadata": {},
   "source": [
    "## NumPy <a name=\"numpy\"></a>"
   ]
  },
  {
   "cell_type": "code",
   "execution_count": null,
   "metadata": {},
   "outputs": [],
   "source": [
    "import numpy as np"
   ]
  },
  {
   "cell_type": "markdown",
   "metadata": {},
   "source": [
    "#### Row Vectors (n, )"
   ]
  },
  {
   "cell_type": "code",
   "execution_count": null,
   "metadata": {},
   "outputs": [
    {
     "name": "stdout",
     "output_type": "stream",
     "text": [
      "Shape (3,). \n",
      "Feature Values for the sample in the Row Vectors: \n",
      "[0.54605236 0.21774922 0.93741551] . [0.57941115 0.46941028 0.80786832]\n",
      "Dot product:  1.18\n"
     ]
    }
   ],
   "source": [
    "data_1Da = np.random.random((3,)) \n",
    "data_1Db = np.random.random((3,))\n",
    "print(f'Shape {data_1Da.shape}. \\nFeature Values for the sample in the Row Vectors: \\n{data_1Da} . {data_1Db}')\n",
    "print(f'Dot product: {data_1Da.dot(data_1Db) : .2f}')"
   ]
  },
  {
   "cell_type": "markdown",
   "metadata": {},
   "source": [
    "#### Column Vectors (n,1)"
   ]
  },
  {
   "cell_type": "code",
   "execution_count": null,
   "metadata": {},
   "outputs": [
    {
     "name": "stdout",
     "output_type": "stream",
     "text": [
      "Shape (3,). \n",
      "A Feature Value for each sample in the Column Vectors: \n",
      "[[0.56189462]\n",
      " [0.61769476]\n",
      " [0.46439618]]  .  [[0.81105233 0.1951092  0.25380585]]\n",
      "\n",
      "Matrix Multiplication a.T @ b or Dot product a.T . b: \n",
      "[[0.69411034]]\n",
      "\n",
      "Matrix Multiplication a @ b.T or Dot product a . b.T: \n",
      "[[0.45572594 0.10963081 0.14261214]\n",
      " [0.50098277 0.12051793 0.15677454]\n",
      " [0.37664961 0.09060797 0.11786647]]\n",
      "\n"
     ]
    }
   ],
   "source": [
    "data_2Da = np.random.random((3,1))\n",
    "data_2Db = np.random.random((3,1))\n",
    "print(f'Shape {data_1Da.shape}. \\nA Feature Value for each sample in the Column Vectors: \\n{data_2Da}  .  {data_2Db.T}\\n')\n",
    "print(f'Matrix Multiplication a.T @ b or Dot product a.T . b: \\n{data_2Da.T.dot(data_2Db)}\\n')\n",
    "print(f'Matrix Multiplication a @ b.T or Dot product a . b.T: \\n{data_2Da @ data_2Db.T}\\n') "
   ]
  },
  {
   "cell_type": "markdown",
   "metadata": {},
   "source": [
    "#### Multidimensional Arrays / Matrices\n",
    "#### Reshaping"
   ]
  },
  {
   "cell_type": "code",
   "execution_count": null,
   "metadata": {},
   "outputs": [
    {
     "name": "stdout",
     "output_type": "stream",
     "text": [
      "[ 0  2  4  6  8 10 12 14 16 18 20 22 24 26 28 30 32 34 36 38 40 42 44 46\n",
      " 48 50 52 54 56 58 60 62]\n",
      "[[ 0  2  4  6  8 10 12 14 16 18 20 22 24 26 28 30]\n",
      " [32 34 36 38 40 42 44 46 48 50 52 54 56 58 60 62]]\n",
      "[[[ 0  2  4  6  8 10 12 14]\n",
      "  [16 18 20 22 24 26 28 30]]\n",
      "\n",
      " [[32 34 36 38 40 42 44 46]\n",
      "  [48 50 52 54 56 58 60 62]]]\n",
      "[[[[ 0  2  4  6]\n",
      "   [ 8 10 12 14]]\n",
      "\n",
      "  [[16 18 20 22]\n",
      "   [24 26 28 30]]]\n",
      "\n",
      "\n",
      " [[[32 34 36 38]\n",
      "   [40 42 44 46]]\n",
      "\n",
      "  [[48 50 52 54]\n",
      "   [56 58 60 62]]]]\n"
     ]
    }
   ],
   "source": [
    "a = np.arange(0, 64, 2)  # 1 array of 32 features\n",
    "print(a) \n",
    "print(a.reshape((2, 16))) # 1 matrix of 2 rows with 16 features \n",
    "print(a.reshape((2, 2, 8))) # 2 matrices of 2 rows with 8 features \n",
    "print(a.reshape((2, 2, 2, 4))) # 2 matrices of 2 inner matrices of 2 rows with 4 features\n"
   ]
  },
  {
   "cell_type": "markdown",
   "metadata": {},
   "source": [
    "#### Matrix Multiplication"
   ]
  },
  {
   "cell_type": "code",
   "execution_count": null,
   "metadata": {},
   "outputs": [
    {
     "data": {
      "text/plain": [
       "(array([[1., 1., 1.],\n",
       "        [1., 1., 1.]]),\n",
       " array([[0, 1],\n",
       "        [2, 3],\n",
       "        [4, 5]]),\n",
       " array([[6., 9.],\n",
       "        [6., 9.]]),\n",
       " array([[6., 9.],\n",
       "        [6., 9.]]),\n",
       " array([[6., 9.],\n",
       "        [6., 9.]]),\n",
       " array([[1., 1., 1.],\n",
       "        [5., 5., 5.],\n",
       "        [9., 9., 9.]]))"
      ]
     },
     "execution_count": 141,
     "metadata": {},
     "output_type": "execute_result"
    }
   ],
   "source": [
    "b = np.ones((2, 3), dtype=float)\n",
    "c = np.arange(6).reshape((3, 2))\n",
    "(b, c, b @ c, np.matmul(b, c), b.dot(c), c @ b)"
   ]
  },
  {
   "cell_type": "markdown",
   "metadata": {},
   "source": [
    "## PyTorch <a name=\"pytorch\"></a>\n",
    "TODO"
   ]
  },
  {
   "cell_type": "markdown",
   "metadata": {},
   "source": [
    "## Tensorflow and Keras <a name=\"tensorflow\"></a>\n",
    "TODO"
   ]
  },
  {
   "cell_type": "markdown",
   "metadata": {},
   "source": [
    "## Pandas <a name=\"pandas\"></a>\n",
    "TODO"
   ]
  },
  {
   "cell_type": "markdown",
   "metadata": {},
   "source": [
    "## matplotlib and Seaborn <a name=\"matplotlib\"></a>\n",
    "TODO"
   ]
  },
  {
   "cell_type": "markdown",
   "metadata": {},
   "source": [
    "## sklearn <a name=\"sklearn\"></a>\n",
    "TODO"
   ]
  },
  {
   "cell_type": "markdown",
   "metadata": {},
   "source": [
    "## Machine Learning <a name=\"machinelearning\"></a>\n",
    "A Brief History of AI:\n",
    "\n",
    "<img alt=\"embeddings\" src=\"img/HistoryOfAI.png\" width=\"600\">\n",
    "\n",
    "TODO\n",
    "1. [Supervised Learning](#supervisedlearning)\n",
    "   - [K-Nearest Neighbors](#knn)\n",
    "   - [Naïve Bayes](#naivebayes)\n",
    "   - [Linear Regression](#linearregression)\n",
    "   - [Logistic Regression](#logisticregression)\n",
    "   - [Decision Trees, Random Forests, AdaBoost, XGBoost](#decisiontrees)\n",
    "   - [Support Vector Machines](#SVM)\n",
    "   - [Deep Learning / Artificial Neural Networks](#deeplearning)\n",
    "   - [Language Models (NLP)](#NLP)\n",
    "2. [Unsupervised Learning](#unsupervisedlearning)\n",
    "   - [K-Means Clustering](#kmeans)\n",
    "   - [Principle Component Analysis](#pca)\n",
    "   - [t-distributed stochastic neighbourhood embedding](#tsne)\n",
    "   - [Apriori](#apriori)\n",
    "3. [Reinforcement Learning](#reinforcementlearning)\n",
    "   - [Dynamic Programming](#rf_dynamicprogramming)\n",
    "   - [Temporal Difference](#temporaldifference)\n",
    "4. [Big Data Mining](#bigdatamining)\n",
    "   - [Map Reduce, Spark, and Scala](#mapreduce)\n",
    "   - [Locality Sensitive Hashing](#LSH)\n",
    "   - [Streaming](#streaming)\n",
    "   - [Recommendation Systems](#recommendationsystems)\n",
    "5. [Optimization](#optimization)\n",
    "   - [Data Wrangling](#datawrangling)\n",
    "   - [Feature Selection](#featureselection)\n",
    "   - [Association Rule](#associationrule)\n",
    "   - [Normalization](#normalization)\n",
    "   - [Regularization](#regularization)\n",
    "   - [Dimensionality Reduction](#dimensionalityreduction)\n",
    "   - [Cross Validation](#crossvalidation)\n",
    "6. [Application Examples](#applications)"
   ]
  },
  {
   "cell_type": "markdown",
   "metadata": {},
   "source": [
    "### Supervised Learning <a name=\"supervisedlearning\"></a>\n",
    "TODO"
   ]
  },
  {
   "cell_type": "markdown",
   "metadata": {},
   "source": [
    "#### K-Nearest Neighbors <a name=\"knn\"></a>\n",
    "TODO"
   ]
  },
  {
   "cell_type": "markdown",
   "metadata": {},
   "source": [
    "#### Naive Bayes  <a name=\"naivebayes\"></a>\n",
    "TODO"
   ]
  },
  {
   "cell_type": "markdown",
   "metadata": {},
   "source": [
    "#### Linear Regression <a name=\"linearregression\"></a>\n",
    "TODO (Not Done)\n",
    "\n",
    "Hypothesis & Prediction / Polynomial Line of Best \"Fit\"\n",
    "\n",
    "The hypothesis is updated using gradient descent until it is optimized to fit the polynomial hyperplane that best generalizes the data. This optimal hyperplane (or curve) is the model's prediction for unseen data points. $ x_0=1$. \n",
    "\n",
    "$y_{pred}=\\hat{y}=h_{\\vec{\\theta}}(x)=\\theta_0 x_0+\\theta_1 x_1+...+\\theta_n x_n$\n",
    "\n",
    "$\\vec{\\theta}$ is the vector of weights and $\\vec{x}$ is the vector of features.\n",
    "\n",
    "Larger magnitude weights indicate the feature has more say in the prediction curve.\n",
    "\n",
    "$\\vec{\\theta} = \\begin{bmatrix} \n",
    "\\theta_0 & \\theta_1 & ... & \\theta_n\n",
    "\\end{bmatrix},   \\vec{x} = \\begin{bmatrix}\n",
    "x_0 & x_1 & ... & x_n\n",
    "\\end{bmatrix} $ \n",
    "\n",
    "$ h_{\\vec{\\theta}}(x)=\\vec{\\theta} \\cdot \\vec{x} = \\vec{x} \\cdot \\vec{\\theta} = \\vec{\\theta^{T}} \\vec{x} = \\begin{bmatrix}\n",
    "\\theta_0\\\\\n",
    "\\theta_1\\\\\n",
    "\\vdots\\\\\n",
    "\\theta_n\n",
    "\\end{bmatrix} \\begin{bmatrix}\n",
    "x_0 & x_1 & ... & x_n\n",
    "\\end{bmatrix} $\n",
    "\n",
    "\n",
    "#### Cost Function\n",
    "$J(\\vec{\\theta})=\\frac{1}{2m}\\sum_{i=1}^{m}(h_{\\vec{\\theta}}(x^{(i)})-y^{(i)})^2$\n",
    "\n",
    "\n",
    "#### Gradient Descent\n",
    "Repeat updating each theta parameter for all $j = 0, 1, ..., n$\n",
    "\n",
    "$\\theta_j:=\\theta_j-\\alpha(\\frac{\\partial J(\\vec{\\theta})}{\\partial \\theta_j}) = \\theta_j-\\frac{\\alpha}{m}\\sum_{i=1}^{m}(h_{\\vec{\\theta}}(x^{(i)})-y^{(i)})x_{j}^{(i)}$\n"
   ]
  },
  {
   "cell_type": "code",
   "execution_count": null,
   "metadata": {},
   "outputs": [],
   "source": [
    "class VanillaLinearRegression:\n",
    "    def __init__(self, alpha=0.001, epochs=5000) -> None:\n",
    "        self.alpha = alpha\n",
    "        self.epochs = epochs\n",
    "        self.weights = None\n",
    "        self.bias = None\n",
    "        self.losses = []\n",
    "\n",
    "    def cost_function_andrew_ng(self, X, y, y_pred, lamda=0):\n",
    "        '''Returns the accumulated loss. This is not used during the learning process, but may be \n",
    "        used to visualize the loss.\n",
    "        A L2 Regularization penalty is applied via ridge regression when lamda is greater than zero.'''\n",
    "        m = X.shape[0]  # m = number of samples\n",
    "        return np.sum((y - y_pred) ** 2 + lamda * np.sum(X ** 2, axis=1)) / (2 * m)\n",
    "\n",
    "    def get_losses(self):\n",
    "        return self.losses\n",
    "\n",
    "    def reset_losses(self):\n",
    "        self.losses = []\n",
    "\n",
    "    def cost_function_mse(self, y, y_pred, lamda=0):\n",
    "        '''Returns the Mean Squared Error (MSE). This is not used during the learning process, but may be \n",
    "        used to visualize the loss.\n",
    "        A L2 Regularization penalty is applied via ridge regression when lamda is greater than zero.'''\n",
    "        return np.mean((y - y_pred) ** 2 + lamda * np.sum(X ** 2, axis=1))\n",
    "\n",
    "    def predict(self, X):\n",
    "        '''Starts as a sequence of hypotheses, ends as the prediction'''\n",
    "        return X.dot(self.weights) + self.bias\n",
    "\n",
    "    def gradient_descent(self, X, y, lamda=0):\n",
    "        '''The cost function, J(theta) should decrease after every iteration.\n",
    "        A L2 Regularization penalty is applied via ridge regression when lamda is greater than zero.'''\n",
    "        m = X.shape[0]  # m = number of samples\n",
    "\n",
    "        for _ in range(self.epochs):\n",
    "            y_pred = self.predict(X)\n",
    "            self.weights -= self.alpha / m * \\\n",
    "                ((y_pred - y).dot(X) - lamda * self.weights)\n",
    "            self.bias -= self.alpha / m * np.sum(y_pred - y)\n",
    "            # self.weights -= self.alpha / m * (y_pred - y).dot(X)\n",
    "            # self.bias -= self.alpha / m * np.sum(y_pred - y)\n",
    "            self.losses.append(self.cost_function_andrew_ng(\n",
    "                X, y, y_pred, lamda=lamda))\n",
    "\n",
    "    def fit(self, X, y, lamda=0):\n",
    "        '''trains the model'''\n",
    "        n = X.shape[1]  # n = number of features\n",
    "        self.weights = np.zeros(n)  # initialize weights\n",
    "        self.bias = 0  # initialize bias\n",
    "        self.gradient_descent(X, y, lamda)"
   ]
  },
  {
   "cell_type": "code",
   "execution_count": null,
   "metadata": {},
   "outputs": [],
   "source": [
    "from sklearn.model_selection import KFold, LeavePOut\n",
    "\n",
    "\n",
    "def train_test_cross_validation(model, X, y, cross_validator=KFold, k=5, p=2):\n",
    "    '''Returns the optimal model'''\n",
    "    optimal_model = None\n",
    "    optimal_model_loss = float('inf')\n",
    "    optimal_regularization = 0\n",
    "\n",
    "    if cross_validator == KFold:\n",
    "        cv = KFold(n_splits=k, shuffle=True)\n",
    "    else:\n",
    "        cv = LeavePOut(p=p)\n",
    "\n",
    "    losses = []\n",
    "\n",
    "    for train_index, test_index in cv.split(X):\n",
    "        X_train, X_test, y_train, y_test = X.iloc[train_index], X.iloc[\n",
    "            test_index], y.iloc[train_index], y.iloc[test_index]\n",
    "        for lamda in range(0, 40, 4):\n",
    "            model.fit(X_train, y_train, lamda=lamda)\n",
    "            y_pred = model.predict(X_test)\n",
    "            loss = model.cost_function_andrew_ng(X_test, y_test, y_pred)\n",
    "\n",
    "            if loss < optimal_model_loss:\n",
    "                optimal_model = model\n",
    "                optimal_model_loss = loss\n",
    "                optimal_regularization = lamda\n",
    "                losses = model.get_losses()\n",
    "\n",
    "            model.reset_losses()\n",
    "\n",
    "    return optimal_model, losses, optimal_regularization"
   ]
  },
  {
   "cell_type": "code",
   "execution_count": null,
   "metadata": {},
   "outputs": [],
   "source": [
    "import matplotlib.pyplot as plt\n",
    "from sklearn.metrics import r2_score\n",
    "\n",
    "model = VanillaLinearRegression(alpha=0.001, epochs=5000)\n",
    "optimal_model, losses, optimal_regularization, X_test, y_test = train_test_cross_validation(\n",
    "    model, X, y, cross_validator=KFold, k=5)\n",
    "y_pred = optimal_model.predict(X_test)\n",
    "loss = optimal_model.cost_function_andrew_ng(X_test, y_test, y_pred)\n",
    "\n",
    "print(f'Loss: {loss :.3f}, r2 score: {r2_score(y_test, y_pred) :.3f}')\n",
    "\n",
    "y_pred_line = optimal_model.predict(X)\n",
    "\n",
    "fig = plt.figure()\n",
    "plt.title(\"Loss vs Epochs\")\n",
    "plt.ylabel(\"Loss\")\n",
    "plt.xlabel(\"Epochs\")\n",
    "plt.plot(losses, color=\"y\", linewidth=1, label=\"Loss\")\n",
    "plt.legend()\n",
    "plt.show()"
   ]
  },
  {
   "cell_type": "markdown",
   "metadata": {},
   "source": [
    "#### Logistic Regression <a name=\"logisticregression\"></a>\n",
    "TODO"
   ]
  },
  {
   "cell_type": "markdown",
   "metadata": {},
   "source": [
    "#### Decision Trees, Random Forests, AdaBoost, XGBoost <a name=\"decisiontrees\"></a>\n",
    "TODO"
   ]
  },
  {
   "cell_type": "markdown",
   "metadata": {},
   "source": [
    "#### Support Vector Machines <a name=\"SVM\"></a>\n",
    "TODO"
   ]
  },
  {
   "cell_type": "markdown",
   "metadata": {},
   "source": [
    "#### Deep Learning / Artificial Neural Networks  <a name=\"deeplearning\"></a>\n",
    "TODO"
   ]
  },
  {
   "cell_type": "markdown",
   "metadata": {},
   "source": [
    "#### Language Models (NLP)  <a name=\"NLP\"></a>\n",
    "1. [N-Gram](#ngram) TODO\n",
    "2. [Recurrent Neural Network](#RNN) TODO\n",
    "3. [Long Short-Term Memory](#LSTM) TODO\n",
    "4. [Transformers](#transformers) TODO"
   ]
  },
  {
   "cell_type": "markdown",
   "metadata": {},
   "source": [
    "##### N-Gram <a name=\"ngram\"></a>\n",
    "TODO"
   ]
  },
  {
   "cell_type": "markdown",
   "metadata": {},
   "source": [
    "##### Recurrent Neural Network <a name=\"RNN\"></a>\n",
    "TODO"
   ]
  },
  {
   "cell_type": "markdown",
   "metadata": {},
   "source": [
    "##### Long Short-Term Memory <a name=\"LSTM\"></a>\n",
    "TODO"
   ]
  },
  {
   "cell_type": "markdown",
   "metadata": {},
   "source": [
    "##### Transformers <a name=\"transformers\"></a>\n",
    "[YouTube Video](https://www.youtube.com/watch?v=dichIcUZfOw)\n",
    "\n",
    "Famous Transformers: \"Attention is All You Need\" (2017), BERT (2018), GPT-2 (2019), GPT-3 (2020)\n",
    "\n",
    "1. [Inputs](#inputs)\n",
    "2. [Embeddings](#embeddings)\n",
    "3. [Positional Encoding](#positionalencoding)\n",
    "4. [Encoder](#encoder)\n",
    "   - [Muli-Head Attention](#multiheadattention)\n",
    "5. ...\n",
    "\n",
    "<img alt=\"embeddings\" src=\"img/transformer.png\" width=\"400\">\n",
    "<img alt=\"embeddings\" src=\"img/transformer2.png\" width=\"500\">\n"
   ]
  },
  {
   "cell_type": "code",
   "execution_count": null,
   "metadata": {},
   "outputs": [],
   "source": [
    "class SelfAttentionHead(nn.Module):\n",
    "    def __init__(self, d_model):\n",
    "        super().__init__()\n",
    "        # K V Q are the matrices for creating the keys, values and queries vector\n",
    "        self.d_model = d_model\n",
    "        self.K = nn.Linear(d_model, d_model)\n",
    "        self.V = nn.Linear(d_model, d_model)\n",
    "        self.Q = nn.Linear(d_model, d_model)\n",
    "\n",
    "    def forward(self, x, padding_mask=None, subsq_mask=None):\n",
    "        # x shape: [N, SEQ, D_MODEL]\n",
    "        keys = self.K(x)\n",
    "        values = self.V(x)\n",
    "        queries = self.Q(x)\n",
    "        sqrt_d = keys.shape[-1] ** (1/2)\n",
    "        att = queries @ keys.transpose(-2, -1) / sqrt_d  # shape: [N, SEQ, SEQ]\n",
    "        # Broadcast padding mask to word attentions so that word attention does not attend to positions outside the sentence\n",
    "        if padding_mask is not None:\n",
    "            att = att + padding_mask.transpose(1, 2)\n",
    "        # Add subsequent mask so that each position can attend only itself and the previous elements\n",
    "        if subsq_mask is not None:\n",
    "            att = att + subsq_mask.unsqueeze(0)\n",
    "        att_softmax = nn.functional.softmax(\n",
    "            att, dim=-1)  # shape: [N, SEQ, SEQ]\n",
    "        att_out = att_softmax @ values  # shape: [N, SEQ, D_MODEL]\n",
    "        return att_out, keys, values"
   ]
  },
  {
   "cell_type": "code",
   "execution_count": null,
   "metadata": {},
   "outputs": [],
   "source": [
    "class MemAttentionHead(nn.Module):\n",
    "    def __init__(self, d_model):\n",
    "        super().__init__()\n",
    "        self.d_model = d_model\n",
    "        self.Q = nn.Linear(d_model, d_model)\n",
    "\n",
    "    def forward(self, x, mem_padding_mask, keys=None, values=None):\n",
    "        # x shape: [N, SEQ, D_MODEL]\n",
    "        queries = self.Q(x)\n",
    "        sqrt_d = keys.shape[-1] ** (1/2)\n",
    "        att = queries @ keys.transpose(-2, -1) / sqrt_d  # shape: [N, SEQ, SEQ]\n",
    "        # Broadcast padding mask to word attentions so that word attention does not attend to positions outside the source sentence\n",
    "        if mem_padding_mask is not None:\n",
    "            att = att + mem_padding_mask.transpose(1, 2)\n",
    "        att_softmax = nn.functional.softmax(\n",
    "            att, dim=-1)  # shape: [N, SEQ_TGT, SEQ_SRC]\n",
    "        att_out = att_softmax @ values  # shape: [N, SEQ, D_MODEL]\n",
    "        return att_out"
   ]
  },
  {
   "cell_type": "code",
   "execution_count": null,
   "metadata": {},
   "outputs": [],
   "source": [
    "class MultiHeadSelfAttention(nn.Module):\n",
    "    def __init__(self, d_model, num_heads):\n",
    "        super().__init__()\n",
    "        self.num_heads = num_heads\n",
    "        self.heads = nn.ModuleList(\n",
    "            [SelfAttentionHead(d_model) for _ in range(num_heads)])\n",
    "        self.linear = nn.Linear(num_heads * d_model, d_model)\n",
    "\n",
    "    def forward(self, src, src_padding_mask, src_subsq_mask):\n",
    "        out_cat = None\n",
    "        keys = None\n",
    "        values = None\n",
    "        for i in range(self.num_heads):\n",
    "            head_outp, keys, values = self.heads[i](\n",
    "                src, src_padding_mask, src_subsq_mask)\n",
    "            if i == 0:\n",
    "                out_cat = head_outp\n",
    "            else:\n",
    "                out_cat = torch.cat([out_cat, head_outp], dim=2)\n",
    "        ret = self.linear(out_cat)\n",
    "        return ret, keys, values"
   ]
  },
  {
   "cell_type": "code",
   "execution_count": null,
   "metadata": {},
   "outputs": [],
   "source": [
    "class MultiHeadMemAttention(nn.Module):\n",
    "    def __init__(self, d_model, num_heads):\n",
    "        super().__init__()\n",
    "        self.num_heads = num_heads\n",
    "        self.heads = nn.ModuleList(\n",
    "            [MemAttentionHead(d_model) for _ in range(num_heads)])\n",
    "        self.linear = nn.Linear(num_heads * d_model, d_model)\n",
    "\n",
    "    def forward(self, src, src_padding_mask, keys, values):\n",
    "        out_cat = None\n",
    "        for i in range(self.num_heads):\n",
    "            head_outp = self.heads[i](src, src_padding_mask, keys, values)\n",
    "            if i == 0:\n",
    "                out_cat = head_outp\n",
    "            else:\n",
    "                out_cat = torch.cat([out_cat, head_outp], dim=2)\n",
    "        ret = self.linear(out_cat)\n",
    "        return ret"
   ]
  },
  {
   "cell_type": "code",
   "execution_count": null,
   "metadata": {},
   "outputs": [],
   "source": [
    "class EncoderLayer(nn.Module):\n",
    "    def __init__(self, d_model, num_att_heads, ff_dim=2048, dropout=0.1):\n",
    "        super().__init__()\n",
    "        self.multihead_attention = MultiHeadSelfAttention(\n",
    "            d_model, num_att_heads)\n",
    "        self.dropout1 = nn.Dropout(dropout)\n",
    "        self.att_sublayer_norm = nn.LayerNorm(d_model)\n",
    "        self.linear1 = nn.Linear(d_model, ff_dim)\n",
    "        self.relu = nn.ReLU()\n",
    "        self.dropout_lin = nn.Dropout(dropout)\n",
    "        self.linear2 = nn.Linear(ff_dim, d_model)\n",
    "        self.dropout2 = nn.Dropout(dropout)\n",
    "        self.lin_sublayer_norm = nn.LayerNorm(d_model)\n",
    "\n",
    "    def forward(self, src, src_padding_mask, src_subsq_mask):\n",
    "        x, keys, values = self.multihead_attention(\n",
    "            src, src_padding_mask, src_subsq_mask)\n",
    "        x = self.dropout1(self.att_sublayer_norm(x + src))\n",
    "        x = self.dropout2(self.lin_sublayer_norm(self.linear2(\n",
    "            self.dropout_lin(self.relu(self.linear1(x)))) + x))\n",
    "        return x, keys, values"
   ]
  },
  {
   "cell_type": "code",
   "execution_count": null,
   "metadata": {},
   "outputs": [],
   "source": [
    "class DecoderLayer(nn.Module):\n",
    "    def __init__(self, d_model, num_att_heads, ff_dim=2048, dropout=0.1):\n",
    "        super().__init__()\n",
    "        self.multihead_self_attention = MultiHeadSelfAttention(\n",
    "            d_model, num_att_heads)\n",
    "        self.self_att_sublayer_norm = nn.LayerNorm(d_model)\n",
    "        self.dropout1 = nn.Dropout(dropout)\n",
    "        self.multihead_mem_attention = MultiHeadMemAttention(\n",
    "            d_model, num_att_heads)\n",
    "        self.mem_att_sublayer_norm = nn.LayerNorm(d_model)\n",
    "        self.dropout2 = nn.Dropout(dropout)\n",
    "        self.linear1 = nn.Linear(d_model, ff_dim)\n",
    "        self.relu = nn.ReLU()\n",
    "        self.dropout_lin = nn.Dropout(dropout)\n",
    "        self.linear2 = nn.Linear(ff_dim, d_model)\n",
    "        self.lin_sublayer_norm = nn.LayerNorm(d_model)\n",
    "        self.dropout3 = nn.Dropout(dropout)\n",
    "\n",
    "    def forward(self, x, src_padding_mask, tgt_padding_mask, tgt_subsq_mask, mem_keys, mem_values):\n",
    "        '''The “Encoder-Decoder Attention” layer works just like multiheaded self-attention,\n",
    "        except it creates its Queries matrix from the layer below it,\n",
    "        and takes the Keys and Values matrix from the output of the encoder stack.'''\n",
    "        x = x + self.dropout1(self.multihead_self_attention(\n",
    "            self.self_att_sublayer_norm(x), tgt_padding_mask, tgt_subsq_mask)[0])\n",
    "        x = x + self.dropout2(self.multihead_mem_attention(\n",
    "            self.mem_att_sublayer_norm(x), src_padding_mask, mem_keys, mem_values))\n",
    "        x = x + self.dropout3(self.linear2(self.dropout_lin(\n",
    "            self.relu(self.linear1(self.lin_sublayer_norm(x))))))\n",
    "        return x"
   ]
  },
  {
   "cell_type": "code",
   "execution_count": null,
   "metadata": {},
   "outputs": [],
   "source": [
    "class Encoder(nn.Module):\n",
    "    def __init__(self, num_layers, d_model, num_att_heads):\n",
    "        super().__init__()\n",
    "        self.layers = nn.ModuleList(\n",
    "            [EncoderLayer(d_model, num_att_heads) for _ in range(num_layers)])\n",
    "        self.norm = nn.LayerNorm(d_model)\n",
    "\n",
    "    def forward(self, src, src_padding_mask, src_subsq_mask):\n",
    "        x = src\n",
    "        keys = None\n",
    "        values = None\n",
    "        for layer in self.layers:\n",
    "            x, keys, values = layer.forward(\n",
    "                x, src_padding_mask, src_subsq_mask)\n",
    "        x = self.norm.forward(x)\n",
    "        return keys, values"
   ]
  },
  {
   "cell_type": "code",
   "execution_count": null,
   "metadata": {},
   "outputs": [],
   "source": [
    "class Decoder(nn.Module):\n",
    "    def __init__(self, num_layers, d_model, num_att_heads):\n",
    "        super().__init__()\n",
    "        self.layers = nn.ModuleList(\n",
    "            [DecoderLayer(d_model, num_att_heads) for _ in range(num_layers)])\n",
    "        self.norm = nn.LayerNorm(d_model)\n",
    "\n",
    "    def forward(self, tgt, src_padding_mask, tgt_padding_mask, tgt_subsq_mask, mem_keys, mem_values):\n",
    "        x = tgt\n",
    "        for layer in self.layers:\n",
    "            x = layer.forward(x, src_padding_mask, tgt_padding_mask,\n",
    "                              tgt_subsq_mask, mem_keys, mem_values)\n",
    "        x = self.norm.forward(x)\n",
    "        return x"
   ]
  },
  {
   "cell_type": "code",
   "execution_count": null,
   "metadata": {},
   "outputs": [],
   "source": [
    "class Transformer(nn.Module):\n",
    "    def __init__(self, num_layers, d_model, num_att_heads, input_dict_size, output_dict_size):\n",
    "        super().__init__()\n",
    "        self.max_sent_len = 50\n",
    "        self.input_emb = nn.Embedding(input_dict_size, d_model)\n",
    "        self.outp_emb = nn.Embedding(output_dict_size, d_model)\n",
    "        self.positional_encoder = PositionalEncoding(d_model)\n",
    "        self.encoder = Encoder(num_layers, d_model, num_att_heads)\n",
    "        self.decoder = Decoder(num_layers, d_model, num_att_heads)\n",
    "        self.outp_logits = nn.Linear(d_model, out_dict_size)\n",
    "        self.softmax = nn.Softmax(dim=-1)\n",
    "\n",
    "    def translate(self, src, tgt_start_code, tgt_eos_code, src_padding_mask, src_subsq_mask):\n",
    "        enc_x = self.input_emb.forward(src.squeeze(dim=2))\n",
    "        enc_x = self.positional_encoder.forward(enc_x)\n",
    "        enc_keys, enc_values = self.encoder.forward(enc_x, src_padding_mask, src_subsq_mask)\n",
    "        snt = torch.ones((1,1,1)) * tgt_start_code\n",
    "        snt = snt.long()\n",
    "        snt = snt.to(device)\n",
    "        translation_idxes = []\n",
    "        for idx in range(self.max_sent_len):\n",
    "            dec_x = self.outp_emb.forward(snt.squeeze(dim=2))\n",
    "            dec_x = self.positional_encoder.forward(dec_x)\n",
    "            dec_x = self.decoder.forward(\n",
    "                dec_x,\n",
    "                src_padding_mask = src_padding_mask,\n",
    "                tgt_padding_mask = torch.zeros_like(snt).float().to(device),\n",
    "                tgt_subsq_mask = self.get_square_subsequent_mask(snt.size()[1]),\n",
    "                mem_keys = enc_keys,\n",
    "                mem_values = enc_values)\n",
    "            dec_x = self.outp_logits.forward(dec_x)\n",
    "            dec_x = self.softmax(dec_x)\n",
    "            next_word_softmax = dec_x[0,idx,:].to('cpu').detach()\n",
    "            next_word_idx = torch.argmax(next_word_softmax)\n",
    "            snt = torch.cat([snt, torch.ones((1,1,1)).long().to(device) * next_word_idx], dim=1)\n",
    "            translation_idxes.append(next_word_idx)\n",
    "            if next_word_idx == tgt_eos_code:\n",
    "                break\n",
    "        return translation_idxes\n",
    "\n",
    "    def forward(self, src, tgt, src_padding_mask, src_subsq_mask, tgt_padding_mask, tgt_subsq_mask):\n",
    "        enc_x = self.input_emb.forward(src.squeeze(dim=2))\n",
    "        enc_x = self.positional_encoder.forward(enc_x)\n",
    "        enc_keys, enc_values = self.encoder.forward(enc_x, src_padding_mask, src_subsq_mask)\n",
    "        dec_x = self.outp_emb.forward(tgt.squeeze(dim=2))\n",
    "        dec_x = self.positional_encoder.forward(dec_x)\n",
    "        dec_x = self.decoder.forward(\n",
    "            dec_x,\n",
    "            src_padding_mask=src_padding_mask,\n",
    "            tgt_padding_mask=torch.zeros_like(tgt_padding_mask).float().to(device),\n",
    "            tgt_subsq_mask=self.et_square_subsequent_mask(tgt_subsq_mask.size()[1]),\n",
    "            mem_keys=enc_keys,\n",
    "            mem_values=enc_values)\n",
    "        dec_x = self.outp_logits.forward(dec_x)\n",
    "        dec_x = self.softmax(dec_x)\n",
    "        return dec_x\n",
    "\n",
    "    def get_square_subsequent_mask(self, seq_len):\n",
    "        mask = (torch.triu(torch.ones(seq_len, seq_len).to(device))\n",
    "                == 1).transpose(0, 1)\n",
    "        mask = mask.float().masked_fill(mask == 0, float(\n",
    "            '-inf')).masked_fill(mask == 1, float(0.0))\n",
    "        return mask\n"
   ]
  },
  {
   "cell_type": "markdown",
   "metadata": {},
   "source": [
    "Inputs <a name=\"inputs\"></a>\n",
    "\n",
    "Computers do not speak English, but numerical matrices. Consider a training vocabulary of size equal to the English language, where the index of the sorted English language is the numerical representation of each word. The input text into the transformer can thus be converted from words in a sentence into a row vector of indices. \n",
    "\n",
    "If the sentence has 10 words, then the input is of size 1x10.\n",
    "\n",
    "Input Vector: $\\vec{x} = [x_0, x_1, ..., x_n]$"
   ]
  },
  {
   "cell_type": "code",
   "execution_count": null,
   "metadata": {},
   "outputs": [],
   "source": [
    "import os\n",
    "from fra_eng_dataset import FraEngDataset, fra_eng_dataset_collate\n",
    "from torch.utils.data import Dataset, DataLoader\n",
    "\n",
    "device = 'cpu'\n",
    "if torch.cuda.is_available():\n",
    "    device = 'cuda'\n",
    "\n",
    "BATCH_SIZE = 16\n",
    "LEARNING_RATE = 1e-4\n",
    "EPOCHS = 12\n",
    "STORE_MODELS = True\n",
    "models_path = 'models'\n",
    "\n",
    "if not os.path.exists(models_path):\n",
    "    os.mkdir(models_path)\n",
    "\n",
    "dataset = FraEngDataset()  # size = 170,190\n",
    "sentences_loader = DataLoader(dataset, batch_size=BATCH_SIZE,\n",
    "                              shuffle=True, drop_last=True, collate_fn=fra_eng_dataset_collate)\n",
    "in_dict_size = dataset.get_fra_dict_size()\n",
    "out_dict_size = dataset.get_eng_dict_size()\n",
    "transformer_model = Transformer(\n",
    "    num_layers=6,\n",
    "    d_model=512,\n",
    "    num_att_heads=8,\n",
    "    input_dict_size=in_dict_size,  # size = 31,203\n",
    "    output_dict_size=out_dict_size).to(device)   # size = 16,062\n",
    "optimizer = torch.optim.Adam(transformer_model.parameters(), lr=LEARNING_RATE)"
   ]
  },
  {
   "cell_type": "markdown",
   "metadata": {},
   "source": [
    "Embeddings <a name=\"embeddings\"></a>\n",
    "\n",
    "Each numerical index that represents a word in the sentence is then converted into a column vector, called an embedding, which can be of any length such as 512. Thus, the embedding for the sentence would be a matrix of size 512x10.\n",
    "\n",
    "The purpose of the embedding is to capture context about each word, considering the words around it. The embedding matrix is initialized randomly and updates during training.\n",
    "\n",
    "Embedding Matrix: $E = [\\vec{e_0}, \\vec{e_1}, ..., \\vec{e_n}]$\n",
    "\n",
    "<!-- <img alt=\"embeddings\" src=\"img/embeddings.png\" width=\"300\"> -->"
   ]
  },
  {
   "cell_type": "code",
   "execution_count": null,
   "metadata": {},
   "outputs": [],
   "source": [
    "class Transformer(nn.Module):\n",
    "    def __init__(self, num_layers, d_model, num_att_heads, input_dict_size, output_dict_size):\n",
    "        super().__init__()\n",
    "        self.max_sent_len = 50\n",
    "        self.input_emb = nn.Embedding(input_dict_size, d_model)\n",
    "        self.outp_emb = nn.Embedding(output_dict_size, d_model)\n",
    "        self.positional_encoder = PositionalEncoding(d_model)"
   ]
  },
  {
   "cell_type": "markdown",
   "metadata": {},
   "source": [
    "Positional Encoding <a name=\"positionalencoding\"></a>\n",
    "\n",
    "LSTMs assess the embedding vectors one at a time, which is good because it can keep track of the word order, but bad because it is really slow. Transformers assess all embedding vectors at once, which is really fast, but they lose the word ordering. We solve this issue, by keeping track of positional information using position embeddings. The positional encoding is the sum of the original embedding and the positional embedding.\n",
    "\n",
    "We cannot simply fill the position embedding vector with a value equal the index of the word because the words at the end of the sentence will significantly distort the embedding information because we are adding large values to them. Thus, we add wave frequencies.\n",
    "\n",
    "Positional Embedding: \n",
    "\n",
    "$PE_{(pos,2i)}=sin(\\frac{pos}{10000\\frac{2i}{d}})$    : Use this for even dimensions in positional embedding vector. d = length of vector.\n",
    "\n",
    "$PE_{(pos,2i+1)}=cos(\\frac{pos}{10000\\frac{2i}{d}})$    : Use this for odd dimensions in positional embedding vectord. d = length of vector."
   ]
  },
  {
   "cell_type": "code",
   "execution_count": null,
   "metadata": {},
   "outputs": [],
   "source": [
    "import torch\n",
    "from torch import nn\n",
    "device = 'cpu'\n",
    "if torch.cuda.is_available():\n",
    "    device = 'cuda'\n",
    "\n",
    "class PositionalEncoding(nn.Module):\n",
    "    def __init__(self, d_model):\n",
    "        super().__init__()\n",
    "        self.d_model = d_model\n",
    "        self.sin_args = torch.zeros(1, self.d_model).to(device)\n",
    "        self.cos_args = torch.zeros(1, self.d_model).to(device)\n",
    "        for i in range(self.d_model//2):\n",
    "            self.sin_args[0, i * 2] = 10000 ** (2 * i / d_model)\n",
    "            self.cos_args[0, i * 2 + 1] = 10000 ** (2 * i / d_model)\n",
    "        self.sin_args_mask = (self.sin_args > 1e-10).float()\n",
    "        self.sin_args = self.sin_args + (self.sin_args < 1e-10).float()\n",
    "        self.cos_args_mask = (self.cos_args > 1e-10).float()\n",
    "        self.cos_args = self.cos_args + (self.cos_args < 1e-10).float()\n",
    "\n",
    "    def forward(self, x):\n",
    "        for pos in range(x.size()[-2]):\n",
    "            x[:, pos, :] = x[:, pos, :] + \\\n",
    "                torch.sin(pos / self.sin_args) * self.sin_args_mask + \\\n",
    "                torch.cos(pos / self.cos_args) * self.cos_args_mask\n",
    "        return x"
   ]
  },
  {
   "cell_type": "code",
   "execution_count": null,
   "metadata": {},
   "outputs": [
    {
     "data": {
      "image/png": "[encoded data removed]",
      "text/plain": [
       "<Figure size 864x288 with 2 Axes>"
      ]
     },
     "metadata": {
      "needs_background": "dark"
     },
     "output_type": "display_data"
    }
   ],
   "source": [
    "import matplotlib.pyplot as plt\n",
    "%matplotlib inline\n",
    "d_model = 128\n",
    "max_sent_len = 50\n",
    "positional_enc = PositionalEncoding(d_model).to(device)\n",
    "data = torch.zeros(1, max_sent_len, d_model).to(device)\n",
    "data_pos_enc = positional_enc.forward(data)\n",
    "enc_np = data_pos_enc.squeeze(dim=0).to('cpu').numpy()\n",
    "plt.figure(figsize=(12, 4))\n",
    "plt.pcolormesh(enc_np, cmap='viridis')\n",
    "plt.xlabel('Embedding Dimensions')\n",
    "plt.xlim((0, d_model))\n",
    "plt.ylim((max_sent_len, 0))\n",
    "plt.ylabel('Token Position')\n",
    "plt.colorbar()\n",
    "plt.show()"
   ]
  },
  {
   "cell_type": "markdown",
   "metadata": {},
   "source": [
    "Multi-Head Attention <a name=\"multiheadattention\"></a>\n",
    "\n",
    "Each of the linear layers are feed forward neural networks.\n",
    "The output from the MatMul of Query and Key is the Attention Filter, which looks like a correlation matrix of size $d$ x $d$ with side lengths equal to the length of the sentence, $d$. Words more similar to each other score higher in the Attention Filter. We scale these scores by $\\sqrt{d_k}$, then compute the softmax probabilities. \n",
    "\n",
    "$softmax(\\frac{Q \\cdot K^T}{\\sqrt{d_k}})$ \n",
    "\n",
    "Each of the \"heads\" outputs their own Attention Filter and filtered value matrix, each zooming in on a different combination of linguistic features. The original paper \"Attention is All You Need\" uses 8 heads.\n",
    "\n",
    "<img alt=\"Multi-Head Attention\" src=\"img/multiheadattention.png\" width=\"400\">"
   ]
  },
  {
   "cell_type": "markdown",
   "metadata": {},
   "source": [
    "### Unsupervised Learning <a name=\"unsupervisedlearning\"></a>\n",
    "TODO"
   ]
  },
  {
   "cell_type": "markdown",
   "metadata": {},
   "source": [
    "### Reinforcement Learning <a name=\"reinforcementlearning\"></a>\n",
    "TODO"
   ]
  },
  {
   "cell_type": "markdown",
   "metadata": {},
   "source": [
    "### Big Data Mining <a name=\"bigdatamining\"></a>\n",
    "TODO"
   ]
  },
  {
   "cell_type": "markdown",
   "metadata": {},
   "source": [
    "### Optimization <a name=\"optimization\"></a>\n",
    "TODO\n",
    "1. [Data Wrangling](#datawrangling)\n",
    "2. [Feature Selection and Association Rule](#featureselection)\n",
    "3. [Normalization](#normalization)\n",
    "4. [Regularization](#regularization)\n",
    "5. [Dimensionality Reduction](#dimreduction)\n",
    "6. [Cross Validation](#crossvalidation)\n",
    "7. [Hyperparameter Tuning](#hyperparameters)\n",
    "8. [Gradient Clipping](#gradclipping)"
   ]
  },
  {
   "cell_type": "markdown",
   "metadata": {},
   "source": [
    "#### Data Wrangling  <a name=\"datawrangling\"></a>\n",
    "1. [Splitting Data](#splitdata) \n",
    "2. [Missing Data](#missingdata) TODO\n",
    "3. [Dummy Values / One Hot Encoding](#dummyvalues) TODO\n",
    "4. [Outliers](#outliers) TODO"
   ]
  },
  {
   "cell_type": "markdown",
   "metadata": {},
   "source": [
    "##### Splitting Data  <a name=\"splitdata\"></a>\n",
    "Train - Validate - Test Split, typically 80-20 or 80-10-10.\n",
    "\n",
    "TEST: Withold test data to evaluate model performance.\n",
    "\n",
    "VALIDATE: Withold validation data to develop the model and tune the hyperparameters (learning rate, batch size, etc.).\n",
    "\n",
    "TRAIN: Use the remaining data for training the model.\n",
    "\n",
    "The size of the test set is more important than the size of the training set. 10,000 instances is ideal for a test set. Be aware of overlapping data from test set that is leaking into training set or vice versa."
   ]
  },
  {
   "cell_type": "markdown",
   "metadata": {},
   "source": [
    "##### Missing Data  <a name=\"missingdata\"></a>"
   ]
  },
  {
   "cell_type": "markdown",
   "metadata": {},
   "source": [
    "##### Dummy Values / One Hot Encoding  <a name=\"dummyvalues\"></a>\n",
    "\n",
    "This method is used when we want to convert categorical variables to numeric values as a predictor in regression models. We call this \"one hot\" encoding because the category is split into the range of possible values as different features, where only one of those features is \"hot\" (1) and the rest are cool (0)."
   ]
  },
  {
   "cell_type": "code",
   "execution_count": null,
   "metadata": {},
   "outputs": [
    {
     "data": {
      "text/html": [
       "<div>\n",
       "<style scoped>\n",
       "    .dataframe tbody tr th:only-of-type {\n",
       "        vertical-align: middle;\n",
       "    }\n",
       "\n",
       "    .dataframe tbody tr th {\n",
       "        vertical-align: top;\n",
       "    }\n",
       "\n",
       "    .dataframe thead th {\n",
       "        text-align: right;\n",
       "    }\n",
       "</style>\n",
       "<table border=\"1\" class=\"dataframe\">\n",
       "  <thead>\n",
       "    <tr style=\"text-align: right;\">\n",
       "      <th></th>\n",
       "      <th>Height</th>\n",
       "      <th>Weight</th>\n",
       "      <th>Gender_Male</th>\n",
       "    </tr>\n",
       "  </thead>\n",
       "  <tbody>\n",
       "    <tr>\n",
       "      <th>0</th>\n",
       "      <td>85.847017</td>\n",
       "      <td>261.893563</td>\n",
       "      <td>1</td>\n",
       "    </tr>\n",
       "    <tr>\n",
       "      <th>1</th>\n",
       "      <td>73.847017</td>\n",
       "      <td>241.893563</td>\n",
       "      <td>1</td>\n",
       "    </tr>\n",
       "    <tr>\n",
       "      <th>2</th>\n",
       "      <td>68.781904</td>\n",
       "      <td>162.310473</td>\n",
       "      <td>1</td>\n",
       "    </tr>\n",
       "    <tr>\n",
       "      <th>3</th>\n",
       "      <td>74.110105</td>\n",
       "      <td>212.740856</td>\n",
       "      <td>1</td>\n",
       "    </tr>\n",
       "    <tr>\n",
       "      <th>4</th>\n",
       "      <td>71.730978</td>\n",
       "      <td>220.042470</td>\n",
       "      <td>1</td>\n",
       "    </tr>\n",
       "    <tr>\n",
       "      <th>...</th>\n",
       "      <td>...</td>\n",
       "      <td>...</td>\n",
       "      <td>...</td>\n",
       "    </tr>\n",
       "    <tr>\n",
       "      <th>9997</th>\n",
       "      <td>66.172652</td>\n",
       "      <td>136.777454</td>\n",
       "      <td>0</td>\n",
       "    </tr>\n",
       "    <tr>\n",
       "      <th>9998</th>\n",
       "      <td>67.067155</td>\n",
       "      <td>170.867906</td>\n",
       "      <td>0</td>\n",
       "    </tr>\n",
       "    <tr>\n",
       "      <th>9999</th>\n",
       "      <td>63.867992</td>\n",
       "      <td>128.475319</td>\n",
       "      <td>0</td>\n",
       "    </tr>\n",
       "    <tr>\n",
       "      <th>10000</th>\n",
       "      <td>69.034243</td>\n",
       "      <td>163.852461</td>\n",
       "      <td>0</td>\n",
       "    </tr>\n",
       "    <tr>\n",
       "      <th>10001</th>\n",
       "      <td>61.944246</td>\n",
       "      <td>113.649103</td>\n",
       "      <td>0</td>\n",
       "    </tr>\n",
       "  </tbody>\n",
       "</table>\n",
       "<p>10002 rows × 3 columns</p>\n",
       "</div>"
      ],
      "text/plain": [
       "          Height      Weight  Gender_Male\n",
       "0      85.847017  261.893563            1\n",
       "1      73.847017  241.893563            1\n",
       "2      68.781904  162.310473            1\n",
       "3      74.110105  212.740856            1\n",
       "4      71.730978  220.042470            1\n",
       "...          ...         ...          ...\n",
       "9997   66.172652  136.777454            0\n",
       "9998   67.067155  170.867906            0\n",
       "9999   63.867992  128.475319            0\n",
       "10000  69.034243  163.852461            0\n",
       "10001  61.944246  113.649103            0\n",
       "\n",
       "[10002 rows x 3 columns]"
      ]
     },
     "execution_count": 107,
     "metadata": {},
     "output_type": "execute_result"
    }
   ],
   "source": [
    "import pandas as pd\n",
    "people = pd.read_csv(\"data/HeightWeight.csv\")\n",
    "people = pd.get_dummies(people, columns=['Gender'], drop_first=True)\n",
    "people"
   ]
  },
  {
   "cell_type": "code",
   "execution_count": null,
   "metadata": {},
   "outputs": [
    {
     "name": "stdout",
     "output_type": "stream",
     "text": [
      "[ 1  2  3  5  4  8  6  7 24]\n"
     ]
    },
    {
     "data": {
      "text/html": [
       "<div>\n",
       "<style scoped>\n",
       "    .dataframe tbody tr th:only-of-type {\n",
       "        vertical-align: middle;\n",
       "    }\n",
       "\n",
       "    .dataframe tbody tr th {\n",
       "        vertical-align: top;\n",
       "    }\n",
       "\n",
       "    .dataframe thead th {\n",
       "        text-align: right;\n",
       "    }\n",
       "</style>\n",
       "<table border=\"1\" class=\"dataframe\">\n",
       "  <thead>\n",
       "    <tr style=\"text-align: right;\">\n",
       "      <th></th>\n",
       "      <th>crim</th>\n",
       "      <th>zn</th>\n",
       "      <th>indus</th>\n",
       "      <th>chas</th>\n",
       "      <th>nox</th>\n",
       "      <th>rm</th>\n",
       "      <th>age</th>\n",
       "      <th>dis</th>\n",
       "      <th>tax</th>\n",
       "      <th>ptratio</th>\n",
       "      <th>...</th>\n",
       "      <th>medv</th>\n",
       "      <th>rad_1</th>\n",
       "      <th>rad_2</th>\n",
       "      <th>rad_3</th>\n",
       "      <th>rad_4</th>\n",
       "      <th>rad_5</th>\n",
       "      <th>rad_6</th>\n",
       "      <th>rad_7</th>\n",
       "      <th>rad_8</th>\n",
       "      <th>rad_24</th>\n",
       "    </tr>\n",
       "  </thead>\n",
       "  <tbody>\n",
       "    <tr>\n",
       "      <th>0</th>\n",
       "      <td>0.00632</td>\n",
       "      <td>18.0</td>\n",
       "      <td>2.31</td>\n",
       "      <td>0</td>\n",
       "      <td>0.538</td>\n",
       "      <td>6.575</td>\n",
       "      <td>65.2</td>\n",
       "      <td>4.0900</td>\n",
       "      <td>296</td>\n",
       "      <td>15.3</td>\n",
       "      <td>...</td>\n",
       "      <td>24.0</td>\n",
       "      <td>1</td>\n",
       "      <td>0</td>\n",
       "      <td>0</td>\n",
       "      <td>0</td>\n",
       "      <td>0</td>\n",
       "      <td>0</td>\n",
       "      <td>0</td>\n",
       "      <td>0</td>\n",
       "      <td>0</td>\n",
       "    </tr>\n",
       "    <tr>\n",
       "      <th>1</th>\n",
       "      <td>0.02731</td>\n",
       "      <td>0.0</td>\n",
       "      <td>7.07</td>\n",
       "      <td>0</td>\n",
       "      <td>0.469</td>\n",
       "      <td>6.421</td>\n",
       "      <td>78.9</td>\n",
       "      <td>4.9671</td>\n",
       "      <td>242</td>\n",
       "      <td>17.8</td>\n",
       "      <td>...</td>\n",
       "      <td>21.6</td>\n",
       "      <td>0</td>\n",
       "      <td>1</td>\n",
       "      <td>0</td>\n",
       "      <td>0</td>\n",
       "      <td>0</td>\n",
       "      <td>0</td>\n",
       "      <td>0</td>\n",
       "      <td>0</td>\n",
       "      <td>0</td>\n",
       "    </tr>\n",
       "    <tr>\n",
       "      <th>2</th>\n",
       "      <td>0.02729</td>\n",
       "      <td>0.0</td>\n",
       "      <td>7.07</td>\n",
       "      <td>0</td>\n",
       "      <td>0.469</td>\n",
       "      <td>7.185</td>\n",
       "      <td>61.1</td>\n",
       "      <td>4.9671</td>\n",
       "      <td>242</td>\n",
       "      <td>17.8</td>\n",
       "      <td>...</td>\n",
       "      <td>34.7</td>\n",
       "      <td>0</td>\n",
       "      <td>1</td>\n",
       "      <td>0</td>\n",
       "      <td>0</td>\n",
       "      <td>0</td>\n",
       "      <td>0</td>\n",
       "      <td>0</td>\n",
       "      <td>0</td>\n",
       "      <td>0</td>\n",
       "    </tr>\n",
       "    <tr>\n",
       "      <th>3</th>\n",
       "      <td>0.03237</td>\n",
       "      <td>0.0</td>\n",
       "      <td>2.18</td>\n",
       "      <td>0</td>\n",
       "      <td>0.458</td>\n",
       "      <td>6.998</td>\n",
       "      <td>45.8</td>\n",
       "      <td>6.0622</td>\n",
       "      <td>222</td>\n",
       "      <td>18.7</td>\n",
       "      <td>...</td>\n",
       "      <td>33.4</td>\n",
       "      <td>0</td>\n",
       "      <td>0</td>\n",
       "      <td>1</td>\n",
       "      <td>0</td>\n",
       "      <td>0</td>\n",
       "      <td>0</td>\n",
       "      <td>0</td>\n",
       "      <td>0</td>\n",
       "      <td>0</td>\n",
       "    </tr>\n",
       "    <tr>\n",
       "      <th>4</th>\n",
       "      <td>0.06905</td>\n",
       "      <td>0.0</td>\n",
       "      <td>2.18</td>\n",
       "      <td>0</td>\n",
       "      <td>0.458</td>\n",
       "      <td>7.147</td>\n",
       "      <td>54.2</td>\n",
       "      <td>6.0622</td>\n",
       "      <td>222</td>\n",
       "      <td>18.7</td>\n",
       "      <td>...</td>\n",
       "      <td>36.2</td>\n",
       "      <td>0</td>\n",
       "      <td>0</td>\n",
       "      <td>1</td>\n",
       "      <td>0</td>\n",
       "      <td>0</td>\n",
       "      <td>0</td>\n",
       "      <td>0</td>\n",
       "      <td>0</td>\n",
       "      <td>0</td>\n",
       "    </tr>\n",
       "  </tbody>\n",
       "</table>\n",
       "<p>5 rows × 22 columns</p>\n",
       "</div>"
      ],
      "text/plain": [
       "      crim    zn  indus  chas    nox     rm   age     dis  tax  ptratio  ...  \\\n",
       "0  0.00632  18.0   2.31     0  0.538  6.575  65.2  4.0900  296     15.3  ...   \n",
       "1  0.02731   0.0   7.07     0  0.469  6.421  78.9  4.9671  242     17.8  ...   \n",
       "2  0.02729   0.0   7.07     0  0.469  7.185  61.1  4.9671  242     17.8  ...   \n",
       "3  0.03237   0.0   2.18     0  0.458  6.998  45.8  6.0622  222     18.7  ...   \n",
       "4  0.06905   0.0   2.18     0  0.458  7.147  54.2  6.0622  222     18.7  ...   \n",
       "\n",
       "   medv  rad_1  rad_2  rad_3  rad_4  rad_5  rad_6  rad_7  rad_8  rad_24  \n",
       "0  24.0      1      0      0      0      0      0      0      0       0  \n",
       "1  21.6      0      1      0      0      0      0      0      0       0  \n",
       "2  34.7      0      1      0      0      0      0      0      0       0  \n",
       "3  33.4      0      0      1      0      0      0      0      0       0  \n",
       "4  36.2      0      0      1      0      0      0      0      0       0  \n",
       "\n",
       "[5 rows x 22 columns]"
      ]
     },
     "execution_count": 123,
     "metadata": {},
     "output_type": "execute_result"
    }
   ],
   "source": [
    "boston = pd.read_csv(\"data/BostonHousing.csv\")\n",
    "print(boston.rad.unique())\n",
    "boston = pd.get_dummies(boston, columns=['rad'], drop_first=False)\n",
    "boston.head()"
   ]
  },
  {
   "cell_type": "markdown",
   "metadata": {},
   "source": [
    "##### Outliers  <a name=\"outliers\"></a>\n",
    "\n",
    "We can remove outliers using domain knowledge and statistics. For example, we know the domain of human heights above 7ft are extremly rare; we can consider these outliers. Outlier data can skew our predictions, so we can remove all heights above 7ft. If we do not have domain knowledge, we can use statistics to remove potential outliers.\n",
    "\n",
    "1. [Domain Knowledge (min / max thresholds)](#domain)\n",
    "2. [Percentile](#domain)\n",
    "3. [Standard Deviation](#stdev)\n",
    "4. [Z-Score](#zscore)\n",
    "5. [Interquartile Range](#IQR) TODO"
   ]
  },
  {
   "cell_type": "markdown",
   "metadata": {},
   "source": [
    "###### Domain Knowledge and Percentile  <a name=\"domain\"></a>"
   ]
  },
  {
   "cell_type": "code",
   "execution_count": null,
   "metadata": {},
   "outputs": [
    {
     "data": {
      "text/html": [
       "<div>\n",
       "<style scoped>\n",
       "    .dataframe tbody tr th:only-of-type {\n",
       "        vertical-align: middle;\n",
       "    }\n",
       "\n",
       "    .dataframe tbody tr th {\n",
       "        vertical-align: top;\n",
       "    }\n",
       "\n",
       "    .dataframe thead th {\n",
       "        text-align: right;\n",
       "    }\n",
       "</style>\n",
       "<table border=\"1\" class=\"dataframe\">\n",
       "  <thead>\n",
       "    <tr style=\"text-align: right;\">\n",
       "      <th></th>\n",
       "      <th>Height</th>\n",
       "      <th>Weight</th>\n",
       "    </tr>\n",
       "  </thead>\n",
       "  <tbody>\n",
       "    <tr>\n",
       "      <th>count</th>\n",
       "      <td>10002.000000</td>\n",
       "      <td>10002.000000</td>\n",
       "    </tr>\n",
       "    <tr>\n",
       "      <th>mean</th>\n",
       "      <td>66.371296</td>\n",
       "      <td>161.454233</td>\n",
       "    </tr>\n",
       "    <tr>\n",
       "      <th>std</th>\n",
       "      <td>3.856219</td>\n",
       "      <td>32.123223</td>\n",
       "    </tr>\n",
       "    <tr>\n",
       "      <th>min</th>\n",
       "      <td>54.263133</td>\n",
       "      <td>64.700127</td>\n",
       "    </tr>\n",
       "    <tr>\n",
       "      <th>25%</th>\n",
       "      <td>63.506959</td>\n",
       "      <td>135.819819</td>\n",
       "    </tr>\n",
       "    <tr>\n",
       "      <th>50%</th>\n",
       "      <td>66.319161</td>\n",
       "      <td>161.240256</td>\n",
       "    </tr>\n",
       "    <tr>\n",
       "      <th>75%</th>\n",
       "      <td>69.178972</td>\n",
       "      <td>187.192390</td>\n",
       "    </tr>\n",
       "    <tr>\n",
       "      <th>max</th>\n",
       "      <td>85.847017</td>\n",
       "      <td>269.989699</td>\n",
       "    </tr>\n",
       "  </tbody>\n",
       "</table>\n",
       "</div>"
      ],
      "text/plain": [
       "             Height        Weight\n",
       "count  10002.000000  10002.000000\n",
       "mean      66.371296    161.454233\n",
       "std        3.856219     32.123223\n",
       "min       54.263133     64.700127\n",
       "25%       63.506959    135.819819\n",
       "50%       66.319161    161.240256\n",
       "75%       69.178972    187.192390\n",
       "max       85.847017    269.989699"
      ]
     },
     "execution_count": 62,
     "metadata": {},
     "output_type": "execute_result"
    }
   ],
   "source": [
    "import pandas as pd\n",
    "people = pd.read_csv('data/HeightWeight.csv')\n",
    "people.describe()"
   ]
  },
  {
   "cell_type": "code",
   "execution_count": null,
   "metadata": {},
   "outputs": [
    {
     "data": {
      "text/plain": [
       "'There are 501 people taller than the 95th percentile'"
      ]
     },
     "execution_count": 63,
     "metadata": {},
     "output_type": "execute_result"
    }
   ],
   "source": [
    "f'There are {sum(people.Height > people.Height.quantile(0.95))} people taller than the 95th percentile'"
   ]
  },
  {
   "cell_type": "code",
   "execution_count": null,
   "metadata": {},
   "outputs": [
    {
     "data": {
      "image/png": "[encoded data removed]",
      "text/plain": [
       "<Figure size 432x288 with 1 Axes>"
      ]
     },
     "metadata": {},
     "output_type": "display_data"
    }
   ],
   "source": [
    "import matplotlib.pyplot as plt\n",
    "people.plot(kind='scatter', x='Weight', y='Height',\n",
    "                    title='People Weight vs Height', color='red')\n",
    "plt.show()"
   ]
  },
  {
   "cell_type": "code",
   "execution_count": null,
   "metadata": {},
   "outputs": [
    {
     "data": {
      "image/png": "[encoded data removed]",
      "text/plain": [
       "<Figure size 432x288 with 1 Axes>"
      ]
     },
     "metadata": {},
     "output_type": "display_data"
    }
   ],
   "source": [
    "num_outliers = 2\n",
    "percent_outliers = num_outliers / len(people)\n",
    "max_threshold = people.Height.quantile(1 - percent_outliers)\n",
    "people = people[people.Height<max_threshold]\n",
    "people.plot(kind='scatter', x='Height', y='Weight',\n",
    "            title='People Height vs Weight', color='red')\n",
    "plt.show()"
   ]
  },
  {
   "cell_type": "markdown",
   "metadata": {},
   "source": [
    "###### Standard Deviation  <a name=\"stdev\"></a>"
   ]
  },
  {
   "cell_type": "code",
   "execution_count": null,
   "metadata": {},
   "outputs": [
    {
     "data": {
      "image/png": "[encoded data removed]",
      "text/plain": [
       "<Figure size 432x288 with 1 Axes>"
      ]
     },
     "metadata": {},
     "output_type": "display_data"
    }
   ],
   "source": [
    "import numpy as np\n",
    "from scipy.stats import norm\n",
    "\n",
    "people = pd.read_csv('data/HeightWeight.csv')\n",
    "plt.hist(people.Height, bins=20, rwidth=0.8, density=True)\n",
    "plt.xlabel('Height, in')\n",
    "plt.ylabel('Count')\n",
    "rng = np.arange(people.Height.min(), people.Height.max(), 0.5)\n",
    "plt.plot(rng, norm.pdf(rng, people.Height.mean(), people.Height.std()))\n",
    "plt.show()"
   ]
  },
  {
   "cell_type": "code",
   "execution_count": null,
   "metadata": {},
   "outputs": [
    {
     "data": {
      "text/plain": [
       "(54.80263802414869, 77.93995303564851)"
      ]
     },
     "execution_count": 82,
     "metadata": {},
     "output_type": "execute_result"
    }
   ],
   "source": [
    "lower_limit = people.Height.mean() - 3*people.Height.std()\n",
    "upper_limit = people.Height.mean() + 3*people.Height.std()\n",
    "lower_limit, upper_limit"
   ]
  },
  {
   "cell_type": "code",
   "execution_count": null,
   "metadata": {},
   "outputs": [
    {
     "data": {
      "image/png": "[encoded data removed]",
      "text/plain": [
       "<Figure size 432x288 with 1 Axes>"
      ]
     },
     "metadata": {},
     "output_type": "display_data"
    }
   ],
   "source": [
    "people = people[(people.Height > lower_limit) & (people.Height < upper_limit)]\n",
    "people.plot(kind='scatter', x='Height', y='Weight',\n",
    "            title='People Height vs Weight', color='red')\n",
    "plt.show()"
   ]
  },
  {
   "cell_type": "markdown",
   "metadata": {},
   "source": [
    "###### Z-Score <a name=\"zscore\"></a>\n",
    "\n",
    "$z=\\frac{x - \\mu}{\\sigma}$ \n",
    "\n",
    "Z-score indicates how many standard deviations a data point is away from the mean. "
   ]
  },
  {
   "cell_type": "code",
   "execution_count": null,
   "metadata": {},
   "outputs": [
    {
     "data": {
      "text/html": [
       "<div>\n",
       "<style scoped>\n",
       "    .dataframe tbody tr th:only-of-type {\n",
       "        vertical-align: middle;\n",
       "    }\n",
       "\n",
       "    .dataframe tbody tr th {\n",
       "        vertical-align: top;\n",
       "    }\n",
       "\n",
       "    .dataframe thead th {\n",
       "        text-align: right;\n",
       "    }\n",
       "</style>\n",
       "<table border=\"1\" class=\"dataframe\">\n",
       "  <thead>\n",
       "    <tr style=\"text-align: right;\">\n",
       "      <th></th>\n",
       "      <th>Gender</th>\n",
       "      <th>Height</th>\n",
       "      <th>Weight</th>\n",
       "      <th>zscore</th>\n",
       "    </tr>\n",
       "  </thead>\n",
       "  <tbody>\n",
       "    <tr>\n",
       "      <th>0</th>\n",
       "      <td>Male</td>\n",
       "      <td>85.847017</td>\n",
       "      <td>261.893563</td>\n",
       "      <td>5.050471</td>\n",
       "    </tr>\n",
       "    <tr>\n",
       "      <th>197</th>\n",
       "      <td>Male</td>\n",
       "      <td>84.253325</td>\n",
       "      <td>199.779780</td>\n",
       "      <td>4.637192</td>\n",
       "    </tr>\n",
       "    <tr>\n",
       "      <th>996</th>\n",
       "      <td>Male</td>\n",
       "      <td>78.095867</td>\n",
       "      <td>255.690835</td>\n",
       "      <td>3.040432</td>\n",
       "    </tr>\n",
       "    <tr>\n",
       "      <th>1319</th>\n",
       "      <td>Male</td>\n",
       "      <td>78.462053</td>\n",
       "      <td>227.342565</td>\n",
       "      <td>3.135392</td>\n",
       "    </tr>\n",
       "    <tr>\n",
       "      <th>2016</th>\n",
       "      <td>Male</td>\n",
       "      <td>78.998742</td>\n",
       "      <td>269.989699</td>\n",
       "      <td>3.274567</td>\n",
       "    </tr>\n",
       "    <tr>\n",
       "      <th>3287</th>\n",
       "      <td>Male</td>\n",
       "      <td>78.528210</td>\n",
       "      <td>253.889004</td>\n",
       "      <td>3.152548</td>\n",
       "    </tr>\n",
       "    <tr>\n",
       "      <th>3759</th>\n",
       "      <td>Male</td>\n",
       "      <td>78.621374</td>\n",
       "      <td>245.733783</td>\n",
       "      <td>3.176707</td>\n",
       "    </tr>\n",
       "  </tbody>\n",
       "</table>\n",
       "</div>"
      ],
      "text/plain": [
       "     Gender     Height      Weight    zscore\n",
       "0      Male  85.847017  261.893563  5.050471\n",
       "197    Male  84.253325  199.779780  4.637192\n",
       "996    Male  78.095867  255.690835  3.040432\n",
       "1319   Male  78.462053  227.342565  3.135392\n",
       "2016   Male  78.998742  269.989699  3.274567\n",
       "3287   Male  78.528210  253.889004  3.152548\n",
       "3759   Male  78.621374  245.733783  3.176707"
      ]
     },
     "execution_count": 91,
     "metadata": {},
     "output_type": "execute_result"
    }
   ],
   "source": [
    "people = pd.read_csv('data/HeightWeight.csv')\n",
    "people['zscore'] = (people.Height - people.Height.mean())/people.Height.std()\n",
    "people[people.zscore > 3]"
   ]
  },
  {
   "cell_type": "code",
   "execution_count": null,
   "metadata": {},
   "outputs": [
    {
     "data": {
      "image/png": "[encoded data removed]",
      "text/plain": [
       "<Figure size 432x288 with 1 Axes>"
      ]
     },
     "metadata": {},
     "output_type": "display_data"
    }
   ],
   "source": [
    "people = people[(people.zscore > -3) & (people.zscore < 3)]\n",
    "people.plot(kind='scatter', x='Height', y='Weight',\n",
    "            title='People Height vs Weight', color='red')\n",
    "plt.show()"
   ]
  },
  {
   "cell_type": "markdown",
   "metadata": {},
   "source": [
    "###### Interquartile Range <a name=\"IQR\"></a>\n",
    "TODO"
   ]
  },
  {
   "cell_type": "markdown",
   "metadata": {},
   "source": [
    "#### Feature Selection and Association Rule <a name=\"featureselection\"></a>\n",
    "TODO"
   ]
  },
  {
   "cell_type": "markdown",
   "metadata": {},
   "source": [
    "#### Normalization <a name=\"normalization\"></a>\n",
    "TODO"
   ]
  },
  {
   "cell_type": "markdown",
   "metadata": {},
   "source": [
    "#### Regularization <a name=\"regularization\"></a>\n",
    "\n",
    "Regularization is a way to avoid overfitting by penalizing high-valued coefficients. In simple terms, it reduces parameters and shrinks (simplifies) the model.\n",
    "\n",
    "1. [L1 Regularization / Lasso Regression](#L1)\n",
    "2. [L2 Regularization / Ridge Regression](#L2)\n",
    "3. [Decision Tree Pruning](#pruning)\n",
    "4. [Dropout Layer Regularization](#dropout)\n",
    "\n",
    "<img alt=\"regularization\" src=\"img/regularization.png\" width=\"300\">\n",
    "<br>\n",
    "<img alt=\"balanced fit\" src=\"img/balancedfit.png\" width=\"800\">\n",
    "\n",
    "Try to make ${\\theta}_3$ and ${\\theta}_4$ closer to zero, such that our model becomes less complex."
   ]
  },
  {
   "cell_type": "markdown",
   "metadata": {},
   "source": [
    "##### L1 Regularization / Lasso Regression <a name=\"L1\"></a>\n",
    "\n",
    "Lasso Regularization adds an L1 penalty, the absolute value of the magnitude of coefficients, which limits the size of the coefficients. L1 can yield sparse models (i.e. models with few coefficients), since many coefficients can become zero and eliminated.\n",
    "\n",
    "We want to minimize our Loss Function (Mean Squared Error) by adding a penalty. The penalty gets smaller as $\\lambda$ approches zero.\n",
    "\n",
    "$MSE=\\frac{1}{n}\\sum_{i=1}^n(y_i - h_{\\theta}(x_i))^2 + \\lambda \\sum_{i=1}^n|\\theta_i|$"
   ]
  },
  {
   "cell_type": "code",
   "execution_count": null,
   "metadata": {},
   "outputs": [],
   "source": [
    "pass"
   ]
  },
  {
   "cell_type": "markdown",
   "metadata": {},
   "source": [
    "##### L2 Regularization / Ridge Regression <a name=\"L2\"></a>\n",
    "\n",
    "Ridge Regression adds an L2 penalty, the square of the magnitude of coefficients. L2 will not yield sparse models and all coefficients are shrunk by the same factor (none are eliminated).\n",
    "\n",
    "We want to minimize our Loss Function (Mean Squared Error) by adding a penalty. The penalty gets smaller as $\\lambda$ approches zero.\n",
    "\n",
    "$MSE=\\frac{1}{n}\\sum_{i=1}^n(y_i - h_{\\theta}(x_i))^2 + \\lambda \\sum_{i=1}^n\\theta_i^2$"
   ]
  },
  {
   "cell_type": "code",
   "execution_count": null,
   "metadata": {},
   "outputs": [],
   "source": [
    "pass"
   ]
  },
  {
   "cell_type": "markdown",
   "metadata": {},
   "source": [
    "##### Decision Tree Pruning<a name=\"pruning\"></a>\n",
    "A regularization technique used in Decision Trees."
   ]
  },
  {
   "cell_type": "code",
   "execution_count": null,
   "metadata": {},
   "outputs": [],
   "source": [
    "pass"
   ]
  },
  {
   "cell_type": "markdown",
   "metadata": {},
   "source": [
    "##### Dropout Layer Regularization<a name=\"dropout\"></a>\n",
    "A regularization technique used in Neural Networks."
   ]
  },
  {
   "cell_type": "code",
   "execution_count": null,
   "metadata": {},
   "outputs": [],
   "source": [
    "pass"
   ]
  },
  {
   "cell_type": "markdown",
   "metadata": {},
   "source": [
    "#### Dimensionality Reduction <a name=\"dimensionalityreduction\"></a>\n",
    "TODO"
   ]
  },
  {
   "cell_type": "markdown",
   "metadata": {},
   "source": [
    "#### Cross Validation <a name=\"crossvalidation\"></a>\n",
    "TODO"
   ]
  },
  {
   "cell_type": "markdown",
   "metadata": {},
   "source": [
    "#### Hyperparameter Tuning <a name=\"hyperparameters\"></a>\n",
    "1. Learning Rate, $\\alpha$\n",
    "2. Batch Size\n",
    "\n",
    "Learning rate is the most important hyperparameter, but first we must fix a batch size because changing the batch size changes the optimal learning rate. The best batch size is one that is as big as fits into memory, and a little smaller may be better but slower. Try [0.1, 0.01, 0.001, 0.0001, 0.00001] as learning rates for a few epochs each, comparing per-batch loss curves."
   ]
  },
  {
   "cell_type": "markdown",
   "metadata": {},
   "source": [
    "#### Gradient Clipping <a name=\"gradclipping\"></a>\n",
    "TODO"
   ]
  },
  {
   "cell_type": "markdown",
   "metadata": {},
   "source": [
    "### Examples of Applications <a name=\"applications\"></a>\n",
    "TODO\n",
    "\n",
    "- Convolutional Neural Networks: Computer Vision\n",
    "- Transformers: Language Models\n",
    "- Support Vector Machines: "
   ]
  },
  {
   "cell_type": "markdown",
   "metadata": {},
   "source": [
    "## Algorithms and Data Structures <a name=\"algorithms\"></a>\n",
    "TODO\n",
    "1. [Sorting](#sorting)\n",
    "    - [Insertion Sort](#insertionsort)\n",
    "    - [Merge Sort](#mergesort)\n",
    "    - [Quick Sort](#quicksort)\n",
    "    - [Heap Sort](#heapsort)\n",
    "2. [Search, Insert, Delete, Extract, Successor, Predecessor](#search)\n",
    "    - [Sorted Array](#sortedarray)\n",
    "    - [Unsorted Array](#unsortedarray)\n",
    "    - [Hash Table](#hashtable)\n",
    "    - [Priority Queue](#priorityqueue)\n",
    "    - [Min/Max Heap](#minmaxheap)\n",
    "    - [Binary Search Tree](#BST)\n",
    "    - [AVL Tree](#AVL)\n",
    "3. [Graphs](#graphs)\n",
    "    - [Breadth First Search](#BFS)\n",
    "    - [Depth First Search](#DFS)\n",
    "    - [Dijkstra and Bellman Ford](#dijkstra)\n",
    "    - [Ford-Fulkerson and Edmond Karp](#fulkerson)\n",
    "    - [Prim and Kruskal](#kruskal)\n",
    "4. [Dynamic Programming](#dynamicprogramming)"
   ]
  },
  {
   "cell_type": "markdown",
   "metadata": {},
   "source": [
    "# Uncategorized"
   ]
  },
  {
   "cell_type": "markdown",
   "metadata": {},
   "source": [
    "### Data\n",
    "Read in your data as a Numpy ndarray, Pandas dataframe, or Sklearn bunch. \n",
    "\n",
    "Bring everything back to Numpy if the data is 100% numerical or to Pandas if the data is mixed."
   ]
  },
  {
   "cell_type": "code",
   "execution_count": null,
   "metadata": {},
   "outputs": [],
   "source": [
    "from sklearn import datasets\n",
    "from sklearn.model_selection import train_test_split\n",
    "from matplotlib.colors import ListedColormap\n",
    "cmap = ListedColormap(['#FF0000', '#00FF00', '#0000FF'])"
   ]
  },
  {
   "cell_type": "code",
   "execution_count": null,
   "metadata": {},
   "outputs": [
    {
     "ename": "FileNotFoundError",
     "evalue": "[Errno 2] No such file or directory: 'BostonHousing.csv'",
     "output_type": "error",
     "traceback": [
      "\u001b[1;31m---------------------------------------------------------------------------\u001b[0m",
      "\u001b[1;31mFileNotFoundError\u001b[0m                         Traceback (most recent call last)",
      "\u001b[1;32m~\\AppData\\Local\\Temp/ipykernel_10492/684005231.py\u001b[0m in \u001b[0;36m<module>\u001b[1;34m\u001b[0m\n\u001b[1;32m----> 1\u001b[1;33m \u001b[0mboston_housing\u001b[0m \u001b[1;33m=\u001b[0m \u001b[0mpd\u001b[0m\u001b[1;33m.\u001b[0m\u001b[0mread_csv\u001b[0m\u001b[1;33m(\u001b[0m\u001b[1;34m\"BostonHousing.csv\"\u001b[0m\u001b[1;33m)\u001b[0m \u001b[1;31m# pandas.core.frame.DataFrame\u001b[0m\u001b[1;33m\u001b[0m\u001b[1;33m\u001b[0m\u001b[0m\n\u001b[0m\u001b[0;32m      2\u001b[0m \u001b[0mboston_housing\u001b[0m\u001b[1;33m.\u001b[0m\u001b[0mhead\u001b[0m\u001b[1;33m(\u001b[0m\u001b[1;36m3\u001b[0m\u001b[1;33m)\u001b[0m\u001b[1;33m\u001b[0m\u001b[1;33m\u001b[0m\u001b[0m\n",
      "\u001b[1;32mC:\\Python39\\lib\\site-packages\\pandas\\io\\parsers.py\u001b[0m in \u001b[0;36mread_csv\u001b[1;34m(filepath_or_buffer, sep, delimiter, header, names, index_col, usecols, squeeze, prefix, mangle_dupe_cols, dtype, engine, converters, true_values, false_values, skipinitialspace, skiprows, skipfooter, nrows, na_values, keep_default_na, na_filter, verbose, skip_blank_lines, parse_dates, infer_datetime_format, keep_date_col, date_parser, dayfirst, cache_dates, iterator, chunksize, compression, thousands, decimal, lineterminator, quotechar, quoting, doublequote, escapechar, comment, encoding, dialect, error_bad_lines, warn_bad_lines, delim_whitespace, low_memory, memory_map, float_precision, storage_options)\u001b[0m\n\u001b[0;32m    608\u001b[0m     \u001b[0mkwds\u001b[0m\u001b[1;33m.\u001b[0m\u001b[0mupdate\u001b[0m\u001b[1;33m(\u001b[0m\u001b[0mkwds_defaults\u001b[0m\u001b[1;33m)\u001b[0m\u001b[1;33m\u001b[0m\u001b[1;33m\u001b[0m\u001b[0m\n\u001b[0;32m    609\u001b[0m \u001b[1;33m\u001b[0m\u001b[0m\n\u001b[1;32m--> 610\u001b[1;33m     \u001b[1;32mreturn\u001b[0m \u001b[0m_read\u001b[0m\u001b[1;33m(\u001b[0m\u001b[0mfilepath_or_buffer\u001b[0m\u001b[1;33m,\u001b[0m \u001b[0mkwds\u001b[0m\u001b[1;33m)\u001b[0m\u001b[1;33m\u001b[0m\u001b[1;33m\u001b[0m\u001b[0m\n\u001b[0m\u001b[0;32m    611\u001b[0m \u001b[1;33m\u001b[0m\u001b[0m\n\u001b[0;32m    612\u001b[0m \u001b[1;33m\u001b[0m\u001b[0m\n",
      "\u001b[1;32mC:\\Python39\\lib\\site-packages\\pandas\\io\\parsers.py\u001b[0m in \u001b[0;36m_read\u001b[1;34m(filepath_or_buffer, kwds)\u001b[0m\n\u001b[0;32m    460\u001b[0m \u001b[1;33m\u001b[0m\u001b[0m\n\u001b[0;32m    461\u001b[0m     \u001b[1;31m# Create the parser.\u001b[0m\u001b[1;33m\u001b[0m\u001b[1;33m\u001b[0m\u001b[1;33m\u001b[0m\u001b[0m\n\u001b[1;32m--> 462\u001b[1;33m     \u001b[0mparser\u001b[0m \u001b[1;33m=\u001b[0m \u001b[0mTextFileReader\u001b[0m\u001b[1;33m(\u001b[0m\u001b[0mfilepath_or_buffer\u001b[0m\u001b[1;33m,\u001b[0m \u001b[1;33m**\u001b[0m\u001b[0mkwds\u001b[0m\u001b[1;33m)\u001b[0m\u001b[1;33m\u001b[0m\u001b[1;33m\u001b[0m\u001b[0m\n\u001b[0m\u001b[0;32m    463\u001b[0m \u001b[1;33m\u001b[0m\u001b[0m\n\u001b[0;32m    464\u001b[0m     \u001b[1;32mif\u001b[0m \u001b[0mchunksize\u001b[0m \u001b[1;32mor\u001b[0m \u001b[0miterator\u001b[0m\u001b[1;33m:\u001b[0m\u001b[1;33m\u001b[0m\u001b[1;33m\u001b[0m\u001b[0m\n",
      "\u001b[1;32mC:\\Python39\\lib\\site-packages\\pandas\\io\\parsers.py\u001b[0m in \u001b[0;36m__init__\u001b[1;34m(self, f, engine, **kwds)\u001b[0m\n\u001b[0;32m    817\u001b[0m             \u001b[0mself\u001b[0m\u001b[1;33m.\u001b[0m\u001b[0moptions\u001b[0m\u001b[1;33m[\u001b[0m\u001b[1;34m\"has_index_names\"\u001b[0m\u001b[1;33m]\u001b[0m \u001b[1;33m=\u001b[0m \u001b[0mkwds\u001b[0m\u001b[1;33m[\u001b[0m\u001b[1;34m\"has_index_names\"\u001b[0m\u001b[1;33m]\u001b[0m\u001b[1;33m\u001b[0m\u001b[1;33m\u001b[0m\u001b[0m\n\u001b[0;32m    818\u001b[0m \u001b[1;33m\u001b[0m\u001b[0m\n\u001b[1;32m--> 819\u001b[1;33m         \u001b[0mself\u001b[0m\u001b[1;33m.\u001b[0m\u001b[0m_engine\u001b[0m \u001b[1;33m=\u001b[0m \u001b[0mself\u001b[0m\u001b[1;33m.\u001b[0m\u001b[0m_make_engine\u001b[0m\u001b[1;33m(\u001b[0m\u001b[0mself\u001b[0m\u001b[1;33m.\u001b[0m\u001b[0mengine\u001b[0m\u001b[1;33m)\u001b[0m\u001b[1;33m\u001b[0m\u001b[1;33m\u001b[0m\u001b[0m\n\u001b[0m\u001b[0;32m    820\u001b[0m \u001b[1;33m\u001b[0m\u001b[0m\n\u001b[0;32m    821\u001b[0m     \u001b[1;32mdef\u001b[0m \u001b[0mclose\u001b[0m\u001b[1;33m(\u001b[0m\u001b[0mself\u001b[0m\u001b[1;33m)\u001b[0m\u001b[1;33m:\u001b[0m\u001b[1;33m\u001b[0m\u001b[1;33m\u001b[0m\u001b[0m\n",
      "\u001b[1;32mC:\\Python39\\lib\\site-packages\\pandas\\io\\parsers.py\u001b[0m in \u001b[0;36m_make_engine\u001b[1;34m(self, engine)\u001b[0m\n\u001b[0;32m   1048\u001b[0m             )\n\u001b[0;32m   1049\u001b[0m         \u001b[1;31m# error: Too many arguments for \"ParserBase\"\u001b[0m\u001b[1;33m\u001b[0m\u001b[1;33m\u001b[0m\u001b[1;33m\u001b[0m\u001b[0m\n\u001b[1;32m-> 1050\u001b[1;33m         \u001b[1;32mreturn\u001b[0m \u001b[0mmapping\u001b[0m\u001b[1;33m[\u001b[0m\u001b[0mengine\u001b[0m\u001b[1;33m]\u001b[0m\u001b[1;33m(\u001b[0m\u001b[0mself\u001b[0m\u001b[1;33m.\u001b[0m\u001b[0mf\u001b[0m\u001b[1;33m,\u001b[0m \u001b[1;33m**\u001b[0m\u001b[0mself\u001b[0m\u001b[1;33m.\u001b[0m\u001b[0moptions\u001b[0m\u001b[1;33m)\u001b[0m  \u001b[1;31m# type: ignore[call-arg]\u001b[0m\u001b[1;33m\u001b[0m\u001b[1;33m\u001b[0m\u001b[0m\n\u001b[0m\u001b[0;32m   1051\u001b[0m \u001b[1;33m\u001b[0m\u001b[0m\n\u001b[0;32m   1052\u001b[0m     \u001b[1;32mdef\u001b[0m \u001b[0m_failover_to_python\u001b[0m\u001b[1;33m(\u001b[0m\u001b[0mself\u001b[0m\u001b[1;33m)\u001b[0m\u001b[1;33m:\u001b[0m\u001b[1;33m\u001b[0m\u001b[1;33m\u001b[0m\u001b[0m\n",
      "\u001b[1;32mC:\\Python39\\lib\\site-packages\\pandas\\io\\parsers.py\u001b[0m in \u001b[0;36m__init__\u001b[1;34m(self, src, **kwds)\u001b[0m\n\u001b[0;32m   1865\u001b[0m \u001b[1;33m\u001b[0m\u001b[0m\n\u001b[0;32m   1866\u001b[0m         \u001b[1;31m# open handles\u001b[0m\u001b[1;33m\u001b[0m\u001b[1;33m\u001b[0m\u001b[1;33m\u001b[0m\u001b[0m\n\u001b[1;32m-> 1867\u001b[1;33m         \u001b[0mself\u001b[0m\u001b[1;33m.\u001b[0m\u001b[0m_open_handles\u001b[0m\u001b[1;33m(\u001b[0m\u001b[0msrc\u001b[0m\u001b[1;33m,\u001b[0m \u001b[0mkwds\u001b[0m\u001b[1;33m)\u001b[0m\u001b[1;33m\u001b[0m\u001b[1;33m\u001b[0m\u001b[0m\n\u001b[0m\u001b[0;32m   1868\u001b[0m         \u001b[1;32massert\u001b[0m \u001b[0mself\u001b[0m\u001b[1;33m.\u001b[0m\u001b[0mhandles\u001b[0m \u001b[1;32mis\u001b[0m \u001b[1;32mnot\u001b[0m \u001b[1;32mNone\u001b[0m\u001b[1;33m\u001b[0m\u001b[1;33m\u001b[0m\u001b[0m\n\u001b[0;32m   1869\u001b[0m         \u001b[1;32mfor\u001b[0m \u001b[0mkey\u001b[0m \u001b[1;32min\u001b[0m \u001b[1;33m(\u001b[0m\u001b[1;34m\"storage_options\"\u001b[0m\u001b[1;33m,\u001b[0m \u001b[1;34m\"encoding\"\u001b[0m\u001b[1;33m,\u001b[0m \u001b[1;34m\"memory_map\"\u001b[0m\u001b[1;33m,\u001b[0m \u001b[1;34m\"compression\"\u001b[0m\u001b[1;33m)\u001b[0m\u001b[1;33m:\u001b[0m\u001b[1;33m\u001b[0m\u001b[1;33m\u001b[0m\u001b[0m\n",
      "\u001b[1;32mC:\\Python39\\lib\\site-packages\\pandas\\io\\parsers.py\u001b[0m in \u001b[0;36m_open_handles\u001b[1;34m(self, src, kwds)\u001b[0m\n\u001b[0;32m   1360\u001b[0m         \u001b[0mLet\u001b[0m \u001b[0mthe\u001b[0m \u001b[0mreaders\u001b[0m \u001b[0mopen\u001b[0m \u001b[0mIOHanldes\u001b[0m \u001b[0mafter\u001b[0m \u001b[0mthey\u001b[0m \u001b[0mare\u001b[0m \u001b[0mdone\u001b[0m \u001b[1;32mwith\u001b[0m \u001b[0mtheir\u001b[0m \u001b[0mpotential\u001b[0m \u001b[0mraises\u001b[0m\u001b[1;33m.\u001b[0m\u001b[1;33m\u001b[0m\u001b[1;33m\u001b[0m\u001b[0m\n\u001b[0;32m   1361\u001b[0m         \"\"\"\n\u001b[1;32m-> 1362\u001b[1;33m         self.handles = get_handle(\n\u001b[0m\u001b[0;32m   1363\u001b[0m             \u001b[0msrc\u001b[0m\u001b[1;33m,\u001b[0m\u001b[1;33m\u001b[0m\u001b[1;33m\u001b[0m\u001b[0m\n\u001b[0;32m   1364\u001b[0m             \u001b[1;34m\"r\"\u001b[0m\u001b[1;33m,\u001b[0m\u001b[1;33m\u001b[0m\u001b[1;33m\u001b[0m\u001b[0m\n",
      "\u001b[1;32mC:\\Python39\\lib\\site-packages\\pandas\\io\\common.py\u001b[0m in \u001b[0;36mget_handle\u001b[1;34m(path_or_buf, mode, encoding, compression, memory_map, is_text, errors, storage_options)\u001b[0m\n\u001b[0;32m    640\u001b[0m                 \u001b[0merrors\u001b[0m \u001b[1;33m=\u001b[0m \u001b[1;34m\"replace\"\u001b[0m\u001b[1;33m\u001b[0m\u001b[1;33m\u001b[0m\u001b[0m\n\u001b[0;32m    641\u001b[0m             \u001b[1;31m# Encoding\u001b[0m\u001b[1;33m\u001b[0m\u001b[1;33m\u001b[0m\u001b[1;33m\u001b[0m\u001b[0m\n\u001b[1;32m--> 642\u001b[1;33m             handle = open(\n\u001b[0m\u001b[0;32m    643\u001b[0m                 \u001b[0mhandle\u001b[0m\u001b[1;33m,\u001b[0m\u001b[1;33m\u001b[0m\u001b[1;33m\u001b[0m\u001b[0m\n\u001b[0;32m    644\u001b[0m                 \u001b[0mioargs\u001b[0m\u001b[1;33m.\u001b[0m\u001b[0mmode\u001b[0m\u001b[1;33m,\u001b[0m\u001b[1;33m\u001b[0m\u001b[1;33m\u001b[0m\u001b[0m\n",
      "\u001b[1;31mFileNotFoundError\u001b[0m: [Errno 2] No such file or directory: 'BostonHousing.csv'"
     ]
    }
   ],
   "source": [
    "boston_housing = pd.read_csv(\"BostonHousing.csv\") # pandas.core.frame.DataFrame\n",
    "boston_housing.head(3)"
   ]
  },
  {
   "cell_type": "code",
   "execution_count": null,
   "metadata": {},
   "outputs": [
    {
     "data": {
      "text/html": [
       "<div>\n",
       "<style scoped>\n",
       "    .dataframe tbody tr th:only-of-type {\n",
       "        vertical-align: middle;\n",
       "    }\n",
       "\n",
       "    .dataframe tbody tr th {\n",
       "        vertical-align: top;\n",
       "    }\n",
       "\n",
       "    .dataframe thead th {\n",
       "        text-align: right;\n",
       "    }\n",
       "</style>\n",
       "<table border=\"1\" class=\"dataframe\">\n",
       "  <thead>\n",
       "    <tr style=\"text-align: right;\">\n",
       "      <th></th>\n",
       "      <th>sepal length (cm)</th>\n",
       "      <th>sepal width (cm)</th>\n",
       "      <th>petal length (cm)</th>\n",
       "      <th>petal width (cm)</th>\n",
       "      <th>target</th>\n",
       "    </tr>\n",
       "  </thead>\n",
       "  <tbody>\n",
       "    <tr>\n",
       "      <th>0</th>\n",
       "      <td>5.1</td>\n",
       "      <td>3.5</td>\n",
       "      <td>1.4</td>\n",
       "      <td>0.2</td>\n",
       "      <td>0</td>\n",
       "    </tr>\n",
       "    <tr>\n",
       "      <th>1</th>\n",
       "      <td>4.9</td>\n",
       "      <td>3.0</td>\n",
       "      <td>1.4</td>\n",
       "      <td>0.2</td>\n",
       "      <td>0</td>\n",
       "    </tr>\n",
       "    <tr>\n",
       "      <th>2</th>\n",
       "      <td>4.7</td>\n",
       "      <td>3.2</td>\n",
       "      <td>1.3</td>\n",
       "      <td>0.2</td>\n",
       "      <td>0</td>\n",
       "    </tr>\n",
       "  </tbody>\n",
       "</table>\n",
       "</div>"
      ],
      "text/plain": [
       "   sepal length (cm)  sepal width (cm)  petal length (cm)  petal width (cm)  \\\n",
       "0                5.1               3.5                1.4               0.2   \n",
       "1                4.9               3.0                1.4               0.2   \n",
       "2                4.7               3.2                1.3               0.2   \n",
       "\n",
       "   target  \n",
       "0       0  \n",
       "1       0  \n",
       "2       0  "
      ]
     },
     "execution_count": 203,
     "metadata": {},
     "output_type": "execute_result"
    }
   ],
   "source": [
    "iris = datasets.load_iris()  # sklearn.utils.Bunch\n",
    "\n",
    "def sklearn_to_df(sklearn_dataset):\n",
    "    df = pd.DataFrame(sklearn_dataset.data,\n",
    "                      columns=sklearn_dataset.feature_names)\n",
    "    df['target'] = pd.Series(sklearn_dataset.target)\n",
    "    return df\n",
    "iris = sklearn_to_df(iris)\n",
    "iris.head(3)"
   ]
  },
  {
   "cell_type": "markdown",
   "metadata": {},
   "source": [
    "### Merge Dataframes and rearrange columns"
   ]
  },
  {
   "cell_type": "code",
   "execution_count": null,
   "metadata": {},
   "outputs": [
    {
     "name": "stderr",
     "output_type": "stream",
     "text": [
      "C:\\Python39\\lib\\site-packages\\IPython\\core\\interactiveshell.py:3169: DtypeWarning: Columns (5) have mixed types.Specify dtype option on import or set low_memory=False.\n",
      "  has_raised = await self.run_ast_nodes(code_ast.body, cell_name,\n"
     ]
    }
   ],
   "source": [
    "cardiology_notes = pd.read_csv(\"cardiology_data.csv\")\n",
    "medication_data = pd.read_csv(\"meds.csv\")\n",
    "medical_data = cardiology_notes.merge(medication_data, how='left', on='pat_enc_csn_id')\n",
    "outcome_columns = ['order_status', 'had_Cardiac_Arrhythmia', 'had_CHF', 'had_Cardiomyopathy']\n",
    "outcomes = medical_data[outcome_columns] # save outcome columns as their own dataframe\n",
    "medical_data = medical_data.drop(columns=outcome_columns) # drop the outcome columns\n",
    "medical_data = pd.concat([medical_data, outcomes]) # concatenate the outcome dataframe "
   ]
  }
 ],
 "metadata": {
  "interpreter": {
   "hash": "63fd5069d213b44bf678585dea6b12cceca9941eaf7f819626cde1f2670de90d"
  },
  "kernelspec": {
   "display_name": "Python 3.9.6 64-bit (system)",
   "language": "python",
   "name": "python3"
  },
  "language_info": {
   "codemirror_mode": {
    "name": "ipython",
    "version": 3
   },
   "file_extension": ".py",
   "mimetype": "text/x-python",
   "name": "python",
   "nbconvert_exporter": "python",
   "pygments_lexer": "ipython3",
   "version": "3.9.6"
  },
  "orig_nbformat": 4
 },
 "nbformat": 4,
 "nbformat_minor": 2
}
