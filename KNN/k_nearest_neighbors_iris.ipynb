{
 "cells": [
  {
   "cell_type": "markdown",
   "metadata": {},
   "source": [
    "# K-Nearest Neighbors using Iris Data"
   ]
  },
  {
   "cell_type": "code",
   "execution_count": 10,
   "metadata": {},
   "outputs": [
    {
     "data": {
      "text/html": [
       "<div>\n",
       "<style scoped>\n",
       "    .dataframe tbody tr th:only-of-type {\n",
       "        vertical-align: middle;\n",
       "    }\n",
       "\n",
       "    .dataframe tbody tr th {\n",
       "        vertical-align: top;\n",
       "    }\n",
       "\n",
       "    .dataframe thead th {\n",
       "        text-align: right;\n",
       "    }\n",
       "</style>\n",
       "<table border=\"1\" class=\"dataframe\">\n",
       "  <thead>\n",
       "    <tr style=\"text-align: right;\">\n",
       "      <th></th>\n",
       "      <th>sepal length (cm)</th>\n",
       "      <th>sepal width (cm)</th>\n",
       "      <th>petal length (cm)</th>\n",
       "      <th>petal width (cm)</th>\n",
       "      <th>target</th>\n",
       "    </tr>\n",
       "  </thead>\n",
       "  <tbody>\n",
       "    <tr>\n",
       "      <th>0</th>\n",
       "      <td>5.1</td>\n",
       "      <td>3.5</td>\n",
       "      <td>1.4</td>\n",
       "      <td>0.2</td>\n",
       "      <td>0</td>\n",
       "    </tr>\n",
       "    <tr>\n",
       "      <th>1</th>\n",
       "      <td>4.9</td>\n",
       "      <td>3.0</td>\n",
       "      <td>1.4</td>\n",
       "      <td>0.2</td>\n",
       "      <td>0</td>\n",
       "    </tr>\n",
       "    <tr>\n",
       "      <th>2</th>\n",
       "      <td>4.7</td>\n",
       "      <td>3.2</td>\n",
       "      <td>1.3</td>\n",
       "      <td>0.2</td>\n",
       "      <td>0</td>\n",
       "    </tr>\n",
       "    <tr>\n",
       "      <th>3</th>\n",
       "      <td>4.6</td>\n",
       "      <td>3.1</td>\n",
       "      <td>1.5</td>\n",
       "      <td>0.2</td>\n",
       "      <td>0</td>\n",
       "    </tr>\n",
       "    <tr>\n",
       "      <th>4</th>\n",
       "      <td>5.0</td>\n",
       "      <td>3.6</td>\n",
       "      <td>1.4</td>\n",
       "      <td>0.2</td>\n",
       "      <td>0</td>\n",
       "    </tr>\n",
       "  </tbody>\n",
       "</table>\n",
       "</div>"
      ],
      "text/plain": [
       "   sepal length (cm)  sepal width (cm)  petal length (cm)  petal width (cm)  \\\n",
       "0                5.1               3.5                1.4               0.2   \n",
       "1                4.9               3.0                1.4               0.2   \n",
       "2                4.7               3.2                1.3               0.2   \n",
       "3                4.6               3.1                1.5               0.2   \n",
       "4                5.0               3.6                1.4               0.2   \n",
       "\n",
       "   target  \n",
       "0       0  \n",
       "1       0  \n",
       "2       0  \n",
       "3       0  \n",
       "4       0  "
      ]
     },
     "execution_count": 10,
     "metadata": {},
     "output_type": "execute_result"
    }
   ],
   "source": [
    "import numpy as np\n",
    "import pandas as pd\n",
    "from sklearn import datasets\n",
    "import matplotlib.pyplot as plt\n",
    "\n",
    "def sklearn_to_df(sklearn_dataset):\n",
    "    df = pd.DataFrame(sklearn_dataset.data,\n",
    "                      columns=sklearn_dataset.feature_names)\n",
    "    df['target'] = pd.Series(sklearn_dataset.target)\n",
    "    return df\n",
    "\n",
    "iris = sklearn_to_df(datasets.load_iris())\n",
    "iris.head()"
   ]
  },
  {
   "cell_type": "code",
   "execution_count": 11,
   "metadata": {},
   "outputs": [
    {
     "data": {
      "text/html": [
       "<div>\n",
       "<style scoped>\n",
       "    .dataframe tbody tr th:only-of-type {\n",
       "        vertical-align: middle;\n",
       "    }\n",
       "\n",
       "    .dataframe tbody tr th {\n",
       "        vertical-align: top;\n",
       "    }\n",
       "\n",
       "    .dataframe thead th {\n",
       "        text-align: right;\n",
       "    }\n",
       "</style>\n",
       "<table border=\"1\" class=\"dataframe\">\n",
       "  <thead>\n",
       "    <tr style=\"text-align: right;\">\n",
       "      <th></th>\n",
       "      <th>sepal length (cm)</th>\n",
       "      <th>sepal width (cm)</th>\n",
       "      <th>petal length (cm)</th>\n",
       "      <th>petal width (cm)</th>\n",
       "      <th>target</th>\n",
       "    </tr>\n",
       "  </thead>\n",
       "  <tbody>\n",
       "    <tr>\n",
       "      <th>0</th>\n",
       "      <td>-0.897674</td>\n",
       "      <td>1.015602</td>\n",
       "      <td>-1.335752</td>\n",
       "      <td>-1.311052</td>\n",
       "      <td>0</td>\n",
       "    </tr>\n",
       "    <tr>\n",
       "      <th>1</th>\n",
       "      <td>-1.139200</td>\n",
       "      <td>-0.131539</td>\n",
       "      <td>-1.335752</td>\n",
       "      <td>-1.311052</td>\n",
       "      <td>0</td>\n",
       "    </tr>\n",
       "  </tbody>\n",
       "</table>\n",
       "</div>"
      ],
      "text/plain": [
       "   sepal length (cm)  sepal width (cm)  petal length (cm)  petal width (cm)  \\\n",
       "0          -0.897674          1.015602          -1.335752         -1.311052   \n",
       "1          -1.139200         -0.131539          -1.335752         -1.311052   \n",
       "\n",
       "   target  \n",
       "0       0  \n",
       "1       0  "
      ]
     },
     "execution_count": 11,
     "metadata": {},
     "output_type": "execute_result"
    }
   ],
   "source": [
    "def normalize(df):\n",
    "    '''Feature scaling using mean normalization.\n",
    "    Scales feature values between -1 and 1.'''\n",
    "\n",
    "    for column in df.columns[:-1]:\n",
    "        df[column] = (df[column] - df[column].mean()) / df[column].std()\n",
    "    return df\n",
    "\n",
    "normalized_iris = normalize(iris)\n",
    "normalized_iris.head(2)"
   ]
  },
  {
   "cell_type": "markdown",
   "metadata": {},
   "source": [
    "The KNN model works well with the iris dataset because all of its features are numerical and allow for euclidean distances to be calculated. For datasets with mixed data, we could choose to ignore non-numerical feature vectors and still use the KNN model."
   ]
  },
  {
   "cell_type": "code",
   "execution_count": 16,
   "metadata": {},
   "outputs": [
    {
     "data": {
      "image/png": "[encoded data removed]",
      "text/plain": [
       "<Figure size 432x288 with 1 Axes>"
      ]
     },
     "metadata": {},
     "output_type": "display_data"
    },
    {
     "data": {
      "text/plain": [
       "((150, 4), (150,))"
      ]
     },
     "execution_count": 16,
     "metadata": {},
     "output_type": "execute_result"
    }
   ],
   "source": [
    "from matplotlib.colors import ListedColormap\n",
    "from sklearn.model_selection import train_test_split\n",
    "\n",
    "X = normalized_iris.drop(columns='target')\n",
    "y = normalized_iris.target\n",
    "X_train, X_test, y_train, y_test = train_test_split(X, y, test_size=0.2, random_state=1234)\n",
    "\n",
    "cmap = ListedColormap(['#FF0000', '#00FF00', '#0000FF'])\n",
    "plt.figure()\n",
    "plt.scatter(X.iloc[:,0], X.iloc[:,1], c=y, cmap=cmap, edgecolor='k', s=20)\n",
    "plt.xlabel(f\"{X.columns[0]}\")\n",
    "plt.ylabel(f\"{X.columns[1]}\")\n",
    "plt.show()\n",
    "X.shape, y.shape\n"
   ]
  },
  {
   "cell_type": "code",
   "execution_count": 13,
   "metadata": {},
   "outputs": [],
   "source": [
    "class Distance:\n",
    "    \n",
    "    def hamming(self, x1, x2):\n",
    "        ''' Counts the number of attributes where x1 and x2 differ '''\n",
    "\n",
    "        return np.sum(x1 != x2) / len(x1)\n",
    "\n",
    "    def manhattan(self, x1, x2):\n",
    "        '''\n",
    "        Also known as cityblock distance or L1 distance\n",
    "        '''\n",
    "        return np.sum(np.abs(x1 - x2))\n",
    "\n",
    "    def euclidean(self, x1, x2):\n",
    "        ''' \n",
    "        Also known as L2 distance. \n",
    "\n",
    "        Symmetrical, spherical, treats all dimensions equally\n",
    "        Sensitive to extreme differences in a single attribute '''\n",
    "        return np.sqrt((np.sum((x1 - x2) ** 2)))\n",
    "\n",
    "    def minkowski(self, x1, x2, p):\n",
    "        '''\n",
    "        Also known as p-norm distance\n",
    "\n",
    "        approximate hamming distance (logical AND): p=0\n",
    "        manhattan distance: p=1\n",
    "        euclidean distance: p=2 \n",
    "        logical OR: p=inf\n",
    "        '''\n",
    "        return (np.sum(np.abs(x1 - x2) ** p)) ** (1 / p)\n",
    "\n",
    "    def chebyshev(x1, x2):\n",
    "        return np.max(np.abs(x1 - x2))\n"
   ]
  },
  {
   "cell_type": "code",
   "execution_count": 14,
   "metadata": {},
   "outputs": [],
   "source": [
    "from collections import Counter\n",
    "\n",
    "class KNN:\n",
    "\n",
    "    def __init__(self, distance_fn, k=3):\n",
    "        self.k = k\n",
    "        self.distance_fn = distance_fn\n",
    "         \n",
    "    def fit(self, X, y):\n",
    "        self.X_train = X.to_numpy()\n",
    "        self.y_train = y.to_numpy()\n",
    "\n",
    "    def predict(self, X):\n",
    "        X = X.to_numpy()\n",
    "        predicted_labels = []\n",
    "        for x in X:\n",
    "            distances = [self.distance_fn(x, x_train) for x_train in self.X_train] # calculate distance for all data points\n",
    "            k_indices = np.argsort(distances)[:self.k] # desc sort the distances and take the top k shortest distances\n",
    "            k_nearest_labels = [self.y_train[i] for i in k_indices] # create a list of the labels coressponding to those indices\n",
    "            classification = Counter(k_nearest_labels).most_common(1)[0][0] # Use the most common neighbor class as the classifcation\n",
    "            predicted_labels.append(classification)\n",
    "        return np.array(predicted_labels)\n"
   ]
  },
  {
   "cell_type": "code",
   "execution_count": 15,
   "metadata": {},
   "outputs": [
    {
     "data": {
      "text/plain": [
       "1.0"
      ]
     },
     "execution_count": 15,
     "metadata": {},
     "output_type": "execute_result"
    }
   ],
   "source": [
    "\n",
    "def test():\n",
    "    k = 3\n",
    "    distance = Distance()\n",
    "    knn = KNN(distance.euclidean, k)\n",
    "    knn.fit(X_train, y_train)\n",
    "\n",
    "    a = np.array((1, 1, 11))\n",
    "    b = np.array((1, 1, 0))\n",
    "    c = np.array((1, 1, -1))\n",
    "    assert(distance.euclidean(a, b) == 11)\n",
    "    assert(distance.euclidean(c, b) == 1)\n",
    "    assert(distance.euclidean(b, c) == 1)\n",
    "    assert(distance.manhattan(a, b) == 11)\n",
    "\n",
    "    predict = knn.predict(X_test)\n",
    "    accuracy = np.sum(predict == y_test) / len(y_test)\n",
    "    return accuracy\n",
    "\n",
    "test()\n"
   ]
  },
  {
   "cell_type": "code",
   "execution_count": null,
   "metadata": {},
   "outputs": [],
   "source": []
  }
 ],
 "metadata": {
  "interpreter": {
   "hash": "63fd5069d213b44bf678585dea6b12cceca9941eaf7f819626cde1f2670de90d"
  },
  "kernelspec": {
   "display_name": "Python 3.9.6 64-bit (system)",
   "language": "python",
   "name": "python3"
  },
  "language_info": {
   "codemirror_mode": {
    "name": "ipython",
    "version": 3
   },
   "file_extension": ".py",
   "mimetype": "text/x-python",
   "name": "python",
   "nbconvert_exporter": "python",
   "pygments_lexer": "ipython3",
   "version": "3.9.6"
  },
  "orig_nbformat": 4
 },
 "nbformat": 4,
 "nbformat_minor": 2
}
