{
 "cells": [
  {
   "cell_type": "markdown",
   "metadata": {},
   "source": [
    "# PathAI K-Nearest Neighbors Interview Question"
   ]
  },
  {
   "cell_type": "markdown",
   "metadata": {},
   "source": [
    "<img src=\"InterviewKNNQuestion.png\" />"
   ]
  },
  {
   "cell_type": "code",
   "execution_count": 2,
   "metadata": {},
   "outputs": [],
   "source": [
    "# Enter your code here. Read input from STDIN. Print output to STDOUT\n",
    "from typing import Iterable, Callable\n",
    "import numpy as np\n",
    "import sys"
   ]
  },
  {
   "cell_type": "code",
   "execution_count": null,
   "metadata": {},
   "outputs": [],
   "source": [
    "# Computes the distances between an NxD matrix and an MxD matrix and returns an NxM matrix of distances.\n",
    "distanceFn = Callable[[np.ndarray, np.ndarray], np.ndarray]\n",
    "\n",
    "def euclidean_distance(x1, x2):\n",
    "    return np.sqrt((np.sum((x1 - x2) ** 2)))\n",
    "\n",
    "class KNN:\n",
    "    # Fill in your KNN implementation here.\n",
    "\n",
    "    @property\n",
    "    def nearest_k(self) -> np.ndarray:\n",
    "        \"\"\"Returns a numpy array of size [K x D] where K is the number of nearest\n",
    "        neighbors we want to keep and D is the dimensionality. The queries must\n",
    "        be sorted from smallest distance to largest distance (to any reference point).\n",
    "        \"\"\"\n",
    "        pass\n",
    "\n",
    "\n",
    "def get_nearest_neighbors(\n",
    "    references: np.ndarray,  # Shape=[N, D]\n",
    "    distance_function_name: str,\n",
    "    k: int,\n",
    "    queries: Iterable[np.ndarray]\n",
    ") -> np.ndarray:\n",
    "    assert distance_function_name in ('L2', 'cityblock')\n",
    "\n",
    "    # Create the distance function which takes the query matrix (B, D) and the reference\n",
    "    # matrix (N, D) and produces a matrix of distances between all pairs of size (B, N).\n",
    "    #\n",
    "    # my_distance_fn = ...\n",
    "    #\n",
    "    # Your solution should look something like this:\n",
    "    # knn = KNN(references, distanceFn=my_distance_fn, K)\n",
    "    # for query in queries:\n",
    "    #    # The shape of query = [B, D].\n",
    "    #    knn.observe(query)\n",
    "    # return knn.nearest_k\n"
   ]
  },
  {
   "cell_type": "code",
   "execution_count": null,
   "metadata": {},
   "outputs": [],
   "source": [
    "def test():\n",
    "    b = 10\n",
    "    d = 5\n",
    "    query = np.zeros((b, d))\n",
    "    reference = np.zeros((15, d))\n",
    "    reference[0,0] = 1\n",
    "    assert(euclidean_distance(query, reference) == 1)\n",
    "    distances = 1 # [b, 15]\n",
    "test()"
   ]
  },
  {
   "cell_type": "code",
   "execution_count": null,
   "metadata": {},
   "outputs": [],
   "source": [
    "import json\n",
    "import os\n",
    "import sys\n",
    "\n",
    "if __name__ == \"__main__\":\n",
    "\n",
    "    config = json.load(sys.stdin)\n",
    "    reference_points = np.array(config[\"reference_points\"])\n",
    "    distance_function_name = config[\"distance_function\"]\n",
    "    k = config[\"k\"]\n",
    "    queries = [np.array(query) for query in config[\"queries\"]]\n",
    "    actual_nearest_k = get_nearest_neighbors(\n",
    "        reference_points, distance_function_name, k, queries)\n",
    "    fptr = open(os.environ['OUTPUT_PATH'], 'w')\n",
    "    fptr.write(str(actual_nearest_k.astype(float).tolist()))\n",
    "    fptr.close()"
   ]
  }
 ],
 "metadata": {
  "interpreter": {
   "hash": "63fd5069d213b44bf678585dea6b12cceca9941eaf7f819626cde1f2670de90d"
  },
  "kernelspec": {
   "display_name": "Python 3.9.6 64-bit (system)",
   "language": "python",
   "name": "python3"
  },
  "language_info": {
   "codemirror_mode": {
    "name": "ipython",
    "version": 3
   },
   "file_extension": ".py",
   "mimetype": "text/x-python",
   "name": "python",
   "nbconvert_exporter": "python",
   "pygments_lexer": "ipython3",
   "version": "3.9.6"
  },
  "orig_nbformat": 4
 },
 "nbformat": 4,
 "nbformat_minor": 2
}
