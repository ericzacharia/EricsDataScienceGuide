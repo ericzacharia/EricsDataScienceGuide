{
 "cells": [
  {
   "cell_type": "code",
   "execution_count": 2,
   "metadata": {},
   "outputs": [],
   "source": [
    "from typing import List"
   ]
  },
  {
   "cell_type": "code",
   "execution_count": 3,
   "metadata": {},
   "outputs": [
    {
     "data": {
      "text/plain": [
       "2"
      ]
     },
     "execution_count": 3,
     "metadata": {},
     "output_type": "execute_result"
    }
   ],
   "source": [
    "def hammingDistance(x: int, y: int) -> int:\n",
    "    x = bin(x)[2:]\n",
    "    y = bin(y)[2:]\n",
    "    difference = abs(len(x)-len(y))\n",
    "    if len(x) < len(y):\n",
    "        x = '0' * difference + x\n",
    "    elif len(y) < len(x):\n",
    "        y = '0' * difference + y\n",
    "    discrepencies = 0\n",
    "    for i in range(len(x)-1, -1, -1):\n",
    "        if x[i] != y[i]:\n",
    "            discrepencies += 1\n",
    "    return discrepencies\n",
    "\n",
    "hammingDistance(4, 14)\n",
    "\n",
    "\n",
    "def hammingDistance2(x: int, y: int) -> int:\n",
    "    return bin(x ^ y).count('1')\n",
    "\n",
    "hammingDistance2(4,14)\n"
   ]
  },
  {
   "cell_type": "markdown",
   "metadata": {},
   "source": [
    "### 1. Two Sum"
   ]
  },
  {
   "cell_type": "code",
   "execution_count": 4,
   "metadata": {},
   "outputs": [
    {
     "data": {
      "text/plain": [
       "[1, 3]"
      ]
     },
     "execution_count": 4,
     "metadata": {},
     "output_type": "execute_result"
    }
   ],
   "source": [
    "def twoSum(nums: List[int], target: int) -> List[int]:\n",
    "    '''O(n^2)'''\n",
    "    numbers = {} # store the numbers with their indices in hash table\n",
    "    for i in range(len(nums)):\n",
    "        if nums[i] not in list(numbers.keys()):\n",
    "            numbers[nums[i]] = i\n",
    "        difference = target - nums[i]\n",
    "        if difference in list(numbers.keys()):\n",
    "            if numbers[difference] != i:\n",
    "                return [numbers[difference], i]\n",
    "\n",
    "twoSum([1, 2, 4, 5,6], 7)\n",
    "\n",
    "\n",
    "def twoSum2(nums: List[int], target: int) -> List[int]:\n",
    "    '''O(n)'''\n",
    "    numbers = {}  # store the numbers with their indices in hash table\n",
    "    for i in range(len(nums)):\n",
    "        if nums[i] not in numbers:\n",
    "            numbers[nums[i]] = i\n",
    "        difference = target - nums[i]\n",
    "        if difference in numbers:\n",
    "            if numbers[difference] != i:\n",
    "                return [numbers[difference], i]\n",
    "\n",
    "twoSum2([1, 2, 4, 5,6], 7)\n"
   ]
  },
  {
   "cell_type": "markdown",
   "metadata": {},
   "source": [
    "### 146. LRU Cache (Medium)"
   ]
  },
  {
   "cell_type": "code",
   "execution_count": 5,
   "metadata": {},
   "outputs": [],
   "source": [
    "class DoublyLinkedNode():\n",
    "    '''Creates a node with the following default values, which can be updated.'''\n",
    "    def __init__(self):\n",
    "        self.key = 0\n",
    "        self.value = 0\n",
    "        self.previous = None\n",
    "        self.next = None\n",
    "\n",
    "class LRUCache():\n",
    "    def __init__(self, capacity: int):\n",
    "        self.cache = {}\n",
    "        self.size = 0\n",
    "        self.capacity = capacity\n",
    "        self.head, self.tail = DoublyLinkedNode(), DoublyLinkedNode()\n",
    "        self.head.next = self.tail\n",
    "        self.tail.previous = self.head\n",
    "\n",
    "    def insert(self, node):\n",
    "        '''inserts the new node in between the dummy head node and the next node in the \n",
    "        doubly linked list, which is initially the dummy tail node.'''\n",
    "        node.previous = self.head\n",
    "        node.next = self.head.next\n",
    "        self.head.next.previous = node\n",
    "        self.head.next = node\n",
    "\n",
    "    def remove(self, node):\n",
    "        '''removes the node from the doubly linked list and reassigns the pointers for \n",
    "        the adjacent nodes.'''\n",
    "        node.previous.next = node.next\n",
    "        node.next.previous = node.previous\n",
    "\n",
    "    def move_to_head(self, node):\n",
    "        '''moves a node to the right of the dummy head node in the doubly linked list.'''\n",
    "        self.remove(node)\n",
    "        self.insert(node)\n",
    "\n",
    "    def pop_tail(self):\n",
    "        '''removes the node to the left of the dummy tail node in the doubly linked list.'''\n",
    "        node = self.tail.previous\n",
    "        self.remove(node)\n",
    "        return node\n",
    "\n",
    "    def get(self, key: int) -> int:\n",
    "        if key not in self.cache:\n",
    "            return -1\n",
    "        else:\n",
    "            node = self.cache[key]\n",
    "            self.move_to_head(node)\n",
    "            return node.value\n",
    "\n",
    "    def put(self, key: int, value: int) -> None:\n",
    "        if key not in self.cache:\n",
    "            new_node = DoublyLinkedNode()\n",
    "            new_node.key = key\n",
    "            new_node.value = value\n",
    "            self.cache[key] = new_node\n",
    "            self.insert(new_node)\n",
    "            self.size += 1\n",
    "            if self.size > self.capacity:\n",
    "                tail_node = self.pop_tail() # remove the LRU node from the DLL\n",
    "                self.cache.pop(tail_node.key) # remove the LRU node's key from the cache\n",
    "                self.size -= 1\n",
    "        else: \n",
    "            node = self.cache[key]\n",
    "            node.value = value # update the value of the node\n",
    "            self.move_to_head(node)\n",
    "\n",
    "lru_cache = LRUCache(capacity=2)\n",
    "lru_cache.put(1,1)\n",
    "lru_cache.put(2,2) # insert (k,v) = (2,2)\n",
    "lru_cache.get(1) # get value from key = 1\n",
    "lru_cache.put(3, 3)  # insert (k,v) = (3,3) and evict the LRU (2,2) "
   ]
  },
  {
   "cell_type": "markdown",
   "metadata": {},
   "source": [
    "### 20. Valid Parenthesis (Easy)"
   ]
  },
  {
   "cell_type": "code",
   "execution_count": 6,
   "metadata": {},
   "outputs": [],
   "source": [
    "def isValid(s):\n",
    "    stack = []\n",
    "    closing_brackets = {\")\": \"(\", \"}\": \"{\", \"]\": \"[\"}\n",
    "    for char in s:\n",
    "        # If the character is a closing bracket\n",
    "        if char in closing_brackets:\n",
    "            # Pop the topmost element from the stack, if it is non empty\n",
    "            # Otherwise assign a dummy value of '#' to the top_element variable\n",
    "            if stack:\n",
    "                top = stack.pop()\n",
    "            else:\n",
    "                top = '$'\n",
    "            if closing_brackets[char] != top:\n",
    "                return False\n",
    "        else:\n",
    "            # We have an opening bracket, simply push it onto the stack.\n",
    "            stack.append(char)\n",
    "\n",
    "    # In the end, if the stack is empty, then we have a valid expression.\n",
    "    # The stack won't be empty for cases like ((()\n",
    "    return not stack"
   ]
  },
  {
   "cell_type": "markdown",
   "metadata": {},
   "source": [
    "\n",
    "### 121. Best Time to Buy and Sell Stock (Easy)\n"
   ]
  },
  {
   "cell_type": "code",
   "execution_count": 7,
   "metadata": {},
   "outputs": [
    {
     "name": "stdout",
     "output_type": "stream",
     "text": [
      "5\n"
     ]
    },
    {
     "data": {
      "text/plain": [
       "0"
      ]
     },
     "execution_count": 7,
     "metadata": {},
     "output_type": "execute_result"
    }
   ],
   "source": [
    "# def maxProfit(prices: List[int]) -> int:\n",
    "#     '''O(n^2)'''\n",
    "#     max_profit = 0\n",
    "#     for idx_buy, price_buy in enumerate(prices[:-1]):\n",
    "#         for price_sell in prices[idx_buy + 1:]:\n",
    "#             max_profit = max(price_sell - price_buy, max_profit)\n",
    "#     return max_profit\n",
    "\n",
    "def maxProfit(prices: List[int]) -> int:\n",
    "    '''O(n)\n",
    "    keep track of lowest price to buy so far\n",
    "    keep track of max profit so far'''\n",
    "    max_profit = 0\n",
    "    lowest_price = float('inf')\n",
    "    for price in prices:\n",
    "        if price < lowest_price:\n",
    "            lowest_price = price\n",
    "        elif price - lowest_price > max_profit:\n",
    "            max_profit = price - lowest_price\n",
    "    return max_profit\n",
    "\n",
    "print(maxProfit([7, 1, 5, 3, 6, 4]))\n",
    "maxProfit([10000,9999,9998,9997,9996,9995,9994,9993,9992,9991,9990,9989])\n"
   ]
  },
  {
   "cell_type": "markdown",
   "metadata": {},
   "source": [
    "### 53. Maximum Subarray (Easy)"
   ]
  },
  {
   "cell_type": "code",
   "execution_count": 8,
   "metadata": {},
   "outputs": [
    {
     "data": {
      "text/plain": [
       "6"
      ]
     },
     "execution_count": 8,
     "metadata": {},
     "output_type": "execute_result"
    }
   ],
   "source": [
    "# def maxSubArray(nums: List[int]) -> int:\n",
    "#     '''O(n^2)'''\n",
    "#     max_sub_array = float('-inf')\n",
    "#     for i in range(len(nums)):\n",
    "#         sub_array = 0\n",
    "#         for j in range(i, len(nums)):\n",
    "#             sub_array += nums[j]\n",
    "#             max_sub_array = max(max_sub_array, sub_array)\n",
    "#     return max_sub_array\n",
    "\n",
    "\n",
    "def maxSubArray(nums: List[int]) -> int:\n",
    "    '''O(n)'''\n",
    "    sub_array = nums[0]\n",
    "    max_sub_array = nums[0]\n",
    "    \n",
    "    for num in nums[1:]:\n",
    "        sub_array = max(num, sub_array + num)\n",
    "        max_sub_array = max(max_sub_array, sub_array)\n",
    "    \n",
    "    return max_sub_array\n",
    "\n",
    "\n",
    "# def maxSubArray(nums: List[int]) -> int:\n",
    "#     def findBestSubarray(nums, left, right):\n",
    "#         # Base case - empty array.\n",
    "#         if left > right:\n",
    "#             return float('-inf')\n",
    "\n",
    "#         mid = (left + right) // 2\n",
    "#         curr = best_left_sum = best_right_sum = 0\n",
    "\n",
    "#         # Iterate from the middle to the beginning.\n",
    "#         for i in range(mid - 1, left - 1, -1):\n",
    "#             curr += nums[i]\n",
    "#             best_left_sum = max(best_left_sum, curr)\n",
    "\n",
    "#         # Reset curr and iterate from the middle to the end.\n",
    "#         curr = 0\n",
    "#         for i in range(mid + 1, right + 1):\n",
    "#             curr += nums[i]\n",
    "#             best_right_sum = max(best_right_sum, curr)\n",
    "\n",
    "#         # The best_combined_sum uses the middle element and\n",
    "#         # the best possible sum from each half.\n",
    "#         best_combined_sum = nums[mid] + best_left_sum + best_right_sum\n",
    "\n",
    "#         # Find the best subarray possible from both halves.\n",
    "#         left_half = findBestSubarray(nums, left, mid - 1)\n",
    "#         right_half = findBestSubarray(nums, mid + 1, right)\n",
    "\n",
    "#         # The largest of the 3 is the answer for any given input array.\n",
    "#         return max(best_combined_sum, left_half, right_half)\n",
    "\n",
    "#     # Our helper function is designed to solve this problem for\n",
    "#     # any array - so just call it using the entire input!\n",
    "#     return findBestSubarray(nums, 0, len(nums) - 1)\n",
    "\n",
    "\n",
    "nums = [-2,1,-3,4,-1,2,1,-5,4]\n",
    "# nums = [1]\n",
    "maxSubArray(nums)\n"
   ]
  },
  {
   "cell_type": "markdown",
   "metadata": {},
   "source": [
    "### 680. Valid Palindrome II"
   ]
  },
  {
   "cell_type": "code",
   "execution_count": 9,
   "metadata": {},
   "outputs": [],
   "source": [
    "def validPalindrome( s: str) -> bool:\n",
    "    def verify(s, left, right, deleted):\n",
    "        while left < right:\n",
    "            if s[left] != s[right]:\n",
    "                if deleted:\n",
    "                    return False\n",
    "                else:\n",
    "                    return verify(s, left+1, right, True) or verify(s, left, right-1, True)\n",
    "            else:\n",
    "                left += 1\n",
    "                right -= 1\n",
    "        return True\n",
    "    return verify(s, 0, len(s)-1, False)\n"
   ]
  },
  {
   "cell_type": "markdown",
   "metadata": {},
   "source": [
    "### 696. Count Binary Substrings"
   ]
  },
  {
   "cell_type": "code",
   "execution_count": 10,
   "metadata": {},
   "outputs": [
    {
     "data": {
      "text/plain": [
       "3"
      ]
     },
     "execution_count": 10,
     "metadata": {},
     "output_type": "execute_result"
    }
   ],
   "source": [
    "# def countBinarySubstrings(s: str) -> int:\n",
    "#     pointer_1 = 0\n",
    "#     pointer_2 = 1\n",
    "#     length_a = 1\n",
    "#     length_b = 0\n",
    "#     count = 0\n",
    "#     sub_strings = [] # keeps track of the sub strings\n",
    "#     while pointer_2 < len(s):\n",
    "#         if s[pointer_1] == s[pointer_2]:\n",
    "#             length_a += 1\n",
    "#             pointer_2 += 1\n",
    "#         else:\n",
    "#             for j in range(pointer_2, len(s)):\n",
    "#                 if s[j] != s[pointer_1]:\n",
    "#                     length_b += 1   \n",
    "#                 else:\n",
    "#                     length_a = 1\n",
    "#                     length_b = 0\n",
    "#                     pointer_1 += 1\n",
    "#                     pointer_2 = pointer_1 + 1\n",
    "#                     break\n",
    "#                 if length_b == length_a: # found a sub string\n",
    "#                     sub_strings.append(s[pointer_1:j+1])\n",
    "#                     count += 1\n",
    "#                     length_a = 1\n",
    "#                     length_b = 0\n",
    "#                     pointer_1 += 1\n",
    "#                     pointer_2 = pointer_1 + 1\n",
    "#                     break\n",
    "#                 elif length_b > length_a or (j == len(s)-1 and length_b < length_a):\n",
    "#                     length_a = 1\n",
    "#                     length_b = 0\n",
    "#                     pointer_1 += 1\n",
    "#                     pointer_2 = pointer_1 + 1\n",
    "#                     break\n",
    "\n",
    "#     return count, sub_strings\n",
    "\n",
    "def countBinarySubstrings(s: str) -> int:\n",
    "    count = 0\n",
    "    groups = [1] \n",
    "    for i in range(1, len(s)):\n",
    "        if s[i] != s[i-1]:\n",
    "            groups.append(1)\n",
    "        else:\n",
    "            groups[-1] += 1\n",
    "    for i in range(len(groups) - 1):\n",
    "        count += min(groups[i], groups[i + 1])\n",
    "        \n",
    "    return count\n",
    "\n",
    "countBinarySubstrings(\"00110\")\n",
    "\n"
   ]
  },
  {
   "cell_type": "markdown",
   "metadata": {},
   "source": [
    "### 200. Number of Islands (Medium)"
   ]
  },
  {
   "cell_type": "code",
   "execution_count": 37,
   "metadata": {},
   "outputs": [
    {
     "name": "stdout",
     "output_type": "stream",
     "text": [
      "3\n"
     ]
    },
    {
     "data": {
      "text/plain": [
       "1"
      ]
     },
     "execution_count": 37,
     "metadata": {},
     "output_type": "execute_result"
    }
   ],
   "source": [
    "def numIslands(grid: List[List[str]]) -> int:\n",
    "    num_islands = 0\n",
    "\n",
    "    def dfs(grid, i, j):\n",
    "        if i > 0:\n",
    "            if grid[i - 1][j] == '1':\n",
    "                grid[i - 1][j] = '2'\n",
    "                dfs(grid, i - 1, j)\n",
    "        if j > 0:\n",
    "            if grid[i][j - 1] == '1':\n",
    "                grid[i][j - 1] = '2'\n",
    "                dfs(grid, i, j - 1)\n",
    "        if i < len(grid) - 1:\n",
    "            if grid[i + 1][j] == '1':\n",
    "                grid[i + 1][j] = '2'\n",
    "                dfs(grid, i + 1, j)\n",
    "        if j < len(grid[0]) - 1:\n",
    "            if grid[i][j + 1] == '1':\n",
    "                grid[i][j + 1] = '2'\n",
    "                dfs(grid, i, j + 1)\n",
    "\n",
    "    for i in range(len(grid)):\n",
    "        for j in range(len(grid[0])):\n",
    "            if grid[i][j] == '1':\n",
    "                grid[i][j] = '2'\n",
    "                dfs(grid, i, j)\n",
    "                num_islands += 1\n",
    "                \n",
    "    return num_islands\n",
    "                \n",
    "\n",
    "grid = [\n",
    "    [\"1\", \"1\", \"0\", \"0\", \"0\"],\n",
    "    [\"1\", \"1\", \"0\", \"0\", \"0\"],\n",
    "    [\"0\", \"0\", \"1\", \"0\", \"0\"],\n",
    "    [\"0\", \"0\", \"0\", \"1\", \"1\"]\n",
    "]\n",
    "print(numIslands(grid))\n",
    "\n",
    "grid = [\n",
    "    [\"1\", \"0\", \"1\", \"1\", \"1\"], \n",
    "    [\"1\", \"0\", \"1\", \"0\", \"1\"],\n",
    "    [\"1\", \"1\", \"1\", \"0\", \"1\"]\n",
    "    ]\n",
    "numIslands(grid)\n"
   ]
  },
  {
   "cell_type": "code",
   "execution_count": null,
   "metadata": {},
   "outputs": [],
   "source": []
  }
 ],
 "metadata": {
  "interpreter": {
   "hash": "63fd5069d213b44bf678585dea6b12cceca9941eaf7f819626cde1f2670de90d"
  },
  "kernelspec": {
   "display_name": "Python 3.9.6 64-bit",
   "language": "python",
   "name": "python3"
  },
  "language_info": {
   "codemirror_mode": {
    "name": "ipython",
    "version": 3
   },
   "file_extension": ".py",
   "mimetype": "text/x-python",
   "name": "python",
   "nbconvert_exporter": "python",
   "pygments_lexer": "ipython3",
   "version": "3.9.6"
  },
  "orig_nbformat": 4
 },
 "nbformat": 4,
 "nbformat_minor": 2
}
