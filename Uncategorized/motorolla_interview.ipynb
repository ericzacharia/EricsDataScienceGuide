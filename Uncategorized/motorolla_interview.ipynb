{
 "cells": [
  {
   "cell_type": "code",
   "execution_count": 1,
   "metadata": {},
   "outputs": [],
   "source": [
    "import numpy as np\n",
    "import pandas as pd\n",
    "import matplotlib.pyplot as plt\n",
    "import seaborn as sns"
   ]
  },
  {
   "cell_type": "code",
   "execution_count": 1,
   "metadata": {},
   "outputs": [],
   "source": [
    "def solution(N):\n",
    "    enable_print = N % 10\n",
    "    while N > 0:\n",
    "        if enable_print == 0 and N % 10 != 0:\n",
    "            enable_print = 1\n",
    "        elif enable_print == 1:\n",
    "            print(N % 10, end=\"\")\n",
    "        N = N // 10"
   ]
  },
  {
   "cell_type": "code",
   "execution_count": 2,
   "metadata": {},
   "outputs": [
    {
     "name": "stdout",
     "output_type": "stream",
     "text": [
      "12345"
     ]
    }
   ],
   "source": [
    "def solution(N):\n",
    "    enable_print = N % 10\n",
    "    while N > 0:\n",
    "        if enable_print == 0 and N % 10 != 0:\n",
    "            enable_print = 1\n",
    "        if enable_print == 1: # changed\n",
    "            print(N % 10, end=\"\")\n",
    "        N = N // 10\n",
    "\n",
    "solution(543210)"
   ]
  },
  {
   "cell_type": "code",
   "execution_count": 36,
   "metadata": {},
   "outputs": [],
   "source": [
    "S2 = '''\n",
    "1995-10-13     245760 glacier_pic.jpeg\n",
    "1995-10-13 2147483648 glacier_pic2.jpeg\n",
    "date size name\n",
    "'''\n",
    "\n",
    "S = \"\"\"1988-08-29        956 system.zip\n",
    "1976-09-16     126976 old-photos.tgz\n",
    "1987-02-03     118784 logs.rar\n",
    "1961-12-04  703594496 very-long-filename.rar\n",
    "1980-08-03          2 DELETE-THIS.TXT\n",
    "2014-08-23        138 important.rar\n",
    "2001-08-26     595968 MOONLIGHT-SONATA.FLAC\n",
    "1967-11-30     245760 archive.rar\n",
    "1995-10-13        731 file.tgz\n",
    "\"\"\""
   ]
  },
  {
   "cell_type": "code",
   "execution_count": 65,
   "metadata": {},
   "outputs": [
    {
     "data": {
      "text/plain": [
       "'3'"
      ]
     },
     "execution_count": 65,
     "metadata": {},
     "output_type": "execute_result"
    }
   ],
   "source": [
    "def solution(S):\n",
    "    count = 0\n",
    "    for file in S.splitlines():\n",
    "        file_data = file.split()\n",
    "        date = file_data[0]\n",
    "        size = file_data[1]\n",
    "        name = file_data[2]\n",
    "        if name.split('.')[-1] in [\"zip\", \"rar\", \"tgz\"] and int(size) < 245760 and date < '1995-10-13':\n",
    "            count += 1\n",
    "    if count == 0:\n",
    "        count = 'NO FILES'\n",
    "    return str(count)\n",
    "\n",
    "solution(S)"
   ]
  },
  {
   "cell_type": "code",
   "execution_count": 64,
   "metadata": {},
   "outputs": [
    {
     "data": {
      "text/plain": [
       "[3, 2, 2, 2]"
      ]
     },
     "execution_count": 64,
     "metadata": {},
     "output_type": "execute_result"
    }
   ],
   "source": [
    "def solution(A, F, M):\n",
    "    '''\n",
    "    Inputs: \n",
    "    A, an array representing remembered roll results\n",
    "    F, an integer representing the number of forgotten roll results\n",
    "    M, an integer representing the mean of all roll results\n",
    "    '''\n",
    "    total_rolls = len(A) + F\n",
    "    total_sum = M * total_rolls\n",
    "    difference = total_sum - sum(A)\n",
    "\n",
    "    largest_divider = difference // F\n",
    "    remainder = difference % F\n",
    "\n",
    "    if remainder == 0:\n",
    "        if 1 <= largest_divider <= 6:\n",
    "            return [largest_divider] * F\n",
    "    elif 1 <= largest_divider < 6:\n",
    "        return [largest_divider + 1] * remainder + [largest_divider] * (F - remainder)\n",
    "    return [0]\n",
    "\n",
    "# A = [3,2,4,3]\n",
    "# F = 2\n",
    "# M = 4\n",
    "# solution(A, F, M)\n",
    "\n",
    "A = [1, 5, 6]\n",
    "F = 4\n",
    "M = 3\n",
    "solution(A, F, M)\n"
   ]
  },
  {
   "cell_type": "code",
   "execution_count": 58,
   "metadata": {},
   "outputs": [
    {
     "data": {
      "text/plain": [
       "[3, 2, 2, 2]"
      ]
     },
     "execution_count": 58,
     "metadata": {},
     "output_type": "execute_result"
    }
   ],
   "source": [
    "A = [1,5,6]\n",
    "F = 4\n",
    "M = 3\n",
    "solution(A, F, M)"
   ]
  },
  {
   "cell_type": "code",
   "execution_count": 54,
   "metadata": {},
   "outputs": [
    {
     "data": {
      "text/plain": [
       "[0]"
      ]
     },
     "execution_count": 54,
     "metadata": {},
     "output_type": "execute_result"
    }
   ],
   "source": [
    "A = [1,2,3,4]\n",
    "F = 4\n",
    "M = 6\n",
    "solution(A, F, M)"
   ]
  },
  {
   "cell_type": "code",
   "execution_count": 55,
   "metadata": {},
   "outputs": [
    {
     "data": {
      "text/plain": [
       "[0]"
      ]
     },
     "execution_count": 55,
     "metadata": {},
     "output_type": "execute_result"
    }
   ],
   "source": [
    "A = [6,1]\n",
    "F = 1\n",
    "M = 1\n",
    "solution(A, F, M)"
   ]
  },
  {
   "cell_type": "code",
   "execution_count": null,
   "metadata": {},
   "outputs": [],
   "source": []
  }
 ],
 "metadata": {
  "interpreter": {
   "hash": "63fd5069d213b44bf678585dea6b12cceca9941eaf7f819626cde1f2670de90d"
  },
  "kernelspec": {
   "display_name": "Python 3.9.6 64-bit (system)",
   "language": "python",
   "name": "python3"
  },
  "language_info": {
   "codemirror_mode": {
    "name": "ipython",
    "version": 3
   },
   "file_extension": ".py",
   "mimetype": "text/x-python",
   "name": "python",
   "nbconvert_exporter": "python",
   "pygments_lexer": "ipython3",
   "version": "3.9.6"
  },
  "orig_nbformat": 4
 },
 "nbformat": 4,
 "nbformat_minor": 2
}
