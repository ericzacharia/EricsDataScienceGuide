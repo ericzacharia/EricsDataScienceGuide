{
 "cells": [
  {
   "cell_type": "code",
   "execution_count": 5,
   "metadata": {},
   "outputs": [],
   "source": [
    "import numpy as np\n",
    "\n",
    "class Circle:\n",
    "    def __init__(self, radius=None):\n",
    "        self.radius = radius if radius else 0\n",
    "\n",
    "    def calculate_circumference(self):\n",
    "        return 2*np.pi*self.radius\n",
    "\n",
    "    def scale_radius(self, scalar):\n",
    "        self.radius *= scalar\n",
    "\n"
   ]
  },
  {
   "cell_type": "code",
   "execution_count": 8,
   "metadata": {},
   "outputs": [],
   "source": [
    "def test():\n",
    "    radius = 2\n",
    "    c = Circle(radius)\n",
    "    assert(True)\n",
    "    assert(c.calculate_circumference() == 2*np.pi*2)\n",
    "    assert(c.calculate_circumference() == 2*np.pi*2)\n",
    "    c.scale_radius(4)\n",
    "    assert(c.calculate_circumference() == 2*np.pi*2*4)\n",
    "    assert(c.calculate_circumference() == 2*np.pi*2*4)\n",
    "\n",
    "test()\n"
   ]
  }
 ],
 "metadata": {
  "interpreter": {
   "hash": "63fd5069d213b44bf678585dea6b12cceca9941eaf7f819626cde1f2670de90d"
  },
  "kernelspec": {
   "display_name": "Python 3.9.6 64-bit (system)",
   "language": "python",
   "name": "python3"
  },
  "language_info": {
   "codemirror_mode": {
    "name": "ipython",
    "version": 3
   },
   "file_extension": ".py",
   "mimetype": "text/x-python",
   "name": "python",
   "nbconvert_exporter": "python",
   "pygments_lexer": "ipython3",
   "version": "3.9.6"
  },
  "orig_nbformat": 4
 },
 "nbformat": 4,
 "nbformat_minor": 2
}
