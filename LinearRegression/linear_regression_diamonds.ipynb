{
 "cells": [
  {
   "cell_type": "markdown",
   "metadata": {},
   "source": [
    "# Linear Regression using Diamonds Data"
   ]
  },
  {
   "cell_type": "code",
   "execution_count": 16,
   "metadata": {},
   "outputs": [],
   "source": [
    "import numpy as np\n",
    "import pandas as pd\n",
    "import matplotlib.pyplot as plt\n",
    "import seaborn as sns "
   ]
  },
  {
   "cell_type": "code",
   "execution_count": 17,
   "metadata": {},
   "outputs": [
    {
     "data": {
      "text/html": [
       "<div>\n",
       "<style scoped>\n",
       "    .dataframe tbody tr th:only-of-type {\n",
       "        vertical-align: middle;\n",
       "    }\n",
       "\n",
       "    .dataframe tbody tr th {\n",
       "        vertical-align: top;\n",
       "    }\n",
       "\n",
       "    .dataframe thead th {\n",
       "        text-align: right;\n",
       "    }\n",
       "</style>\n",
       "<table border=\"1\" class=\"dataframe\">\n",
       "  <thead>\n",
       "    <tr style=\"text-align: right;\">\n",
       "      <th></th>\n",
       "      <th>carat</th>\n",
       "      <th>cut</th>\n",
       "      <th>color</th>\n",
       "      <th>clarity</th>\n",
       "      <th>depth</th>\n",
       "      <th>table</th>\n",
       "      <th>price</th>\n",
       "      <th>x</th>\n",
       "      <th>y</th>\n",
       "      <th>z</th>\n",
       "    </tr>\n",
       "  </thead>\n",
       "  <tbody>\n",
       "    <tr>\n",
       "      <th>0</th>\n",
       "      <td>0.23</td>\n",
       "      <td>Ideal</td>\n",
       "      <td>E</td>\n",
       "      <td>SI2</td>\n",
       "      <td>61.5</td>\n",
       "      <td>55.0</td>\n",
       "      <td>326</td>\n",
       "      <td>3.95</td>\n",
       "      <td>3.98</td>\n",
       "      <td>2.43</td>\n",
       "    </tr>\n",
       "    <tr>\n",
       "      <th>1</th>\n",
       "      <td>0.21</td>\n",
       "      <td>Premium</td>\n",
       "      <td>E</td>\n",
       "      <td>SI1</td>\n",
       "      <td>59.8</td>\n",
       "      <td>61.0</td>\n",
       "      <td>326</td>\n",
       "      <td>3.89</td>\n",
       "      <td>3.84</td>\n",
       "      <td>2.31</td>\n",
       "    </tr>\n",
       "    <tr>\n",
       "      <th>2</th>\n",
       "      <td>0.23</td>\n",
       "      <td>Good</td>\n",
       "      <td>E</td>\n",
       "      <td>VS1</td>\n",
       "      <td>56.9</td>\n",
       "      <td>65.0</td>\n",
       "      <td>327</td>\n",
       "      <td>4.05</td>\n",
       "      <td>4.07</td>\n",
       "      <td>2.31</td>\n",
       "    </tr>\n",
       "    <tr>\n",
       "      <th>3</th>\n",
       "      <td>0.29</td>\n",
       "      <td>Premium</td>\n",
       "      <td>I</td>\n",
       "      <td>VS2</td>\n",
       "      <td>62.4</td>\n",
       "      <td>58.0</td>\n",
       "      <td>334</td>\n",
       "      <td>4.20</td>\n",
       "      <td>4.23</td>\n",
       "      <td>2.63</td>\n",
       "    </tr>\n",
       "    <tr>\n",
       "      <th>4</th>\n",
       "      <td>0.31</td>\n",
       "      <td>Good</td>\n",
       "      <td>J</td>\n",
       "      <td>SI2</td>\n",
       "      <td>63.3</td>\n",
       "      <td>58.0</td>\n",
       "      <td>335</td>\n",
       "      <td>4.34</td>\n",
       "      <td>4.35</td>\n",
       "      <td>2.75</td>\n",
       "    </tr>\n",
       "  </tbody>\n",
       "</table>\n",
       "</div>"
      ],
      "text/plain": [
       "   carat      cut color clarity  depth  table  price     x     y     z\n",
       "0   0.23    Ideal     E     SI2   61.5   55.0    326  3.95  3.98  2.43\n",
       "1   0.21  Premium     E     SI1   59.8   61.0    326  3.89  3.84  2.31\n",
       "2   0.23     Good     E     VS1   56.9   65.0    327  4.05  4.07  2.31\n",
       "3   0.29  Premium     I     VS2   62.4   58.0    334  4.20  4.23  2.63\n",
       "4   0.31     Good     J     SI2   63.3   58.0    335  4.34  4.35  2.75"
      ]
     },
     "execution_count": 17,
     "metadata": {},
     "output_type": "execute_result"
    }
   ],
   "source": [
    "diamonds = pd.read_csv(\"../Data/Diamonds.csv\")\n",
    "diamonds.head()"
   ]
  },
  {
   "cell_type": "code",
   "execution_count": 18,
   "metadata": {},
   "outputs": [
    {
     "data": {
      "text/html": [
       "<div>\n",
       "<style scoped>\n",
       "    .dataframe tbody tr th:only-of-type {\n",
       "        vertical-align: middle;\n",
       "    }\n",
       "\n",
       "    .dataframe tbody tr th {\n",
       "        vertical-align: top;\n",
       "    }\n",
       "\n",
       "    .dataframe thead th {\n",
       "        text-align: right;\n",
       "    }\n",
       "</style>\n",
       "<table border=\"1\" class=\"dataframe\">\n",
       "  <thead>\n",
       "    <tr style=\"text-align: right;\">\n",
       "      <th></th>\n",
       "      <th>carat</th>\n",
       "      <th>cut</th>\n",
       "      <th>color</th>\n",
       "      <th>clarity</th>\n",
       "      <th>depth</th>\n",
       "      <th>table</th>\n",
       "      <th>x</th>\n",
       "      <th>y</th>\n",
       "      <th>z</th>\n",
       "      <th>price</th>\n",
       "    </tr>\n",
       "  </thead>\n",
       "  <tbody>\n",
       "    <tr>\n",
       "      <th>0</th>\n",
       "      <td>0.23</td>\n",
       "      <td>Ideal</td>\n",
       "      <td>E</td>\n",
       "      <td>SI2</td>\n",
       "      <td>61.5</td>\n",
       "      <td>55.0</td>\n",
       "      <td>3.95</td>\n",
       "      <td>3.98</td>\n",
       "      <td>2.43</td>\n",
       "      <td>326</td>\n",
       "    </tr>\n",
       "    <tr>\n",
       "      <th>1</th>\n",
       "      <td>0.21</td>\n",
       "      <td>Premium</td>\n",
       "      <td>E</td>\n",
       "      <td>SI1</td>\n",
       "      <td>59.8</td>\n",
       "      <td>61.0</td>\n",
       "      <td>3.89</td>\n",
       "      <td>3.84</td>\n",
       "      <td>2.31</td>\n",
       "      <td>326</td>\n",
       "    </tr>\n",
       "    <tr>\n",
       "      <th>2</th>\n",
       "      <td>0.23</td>\n",
       "      <td>Good</td>\n",
       "      <td>E</td>\n",
       "      <td>VS1</td>\n",
       "      <td>56.9</td>\n",
       "      <td>65.0</td>\n",
       "      <td>4.05</td>\n",
       "      <td>4.07</td>\n",
       "      <td>2.31</td>\n",
       "      <td>327</td>\n",
       "    </tr>\n",
       "    <tr>\n",
       "      <th>3</th>\n",
       "      <td>0.29</td>\n",
       "      <td>Premium</td>\n",
       "      <td>I</td>\n",
       "      <td>VS2</td>\n",
       "      <td>62.4</td>\n",
       "      <td>58.0</td>\n",
       "      <td>4.20</td>\n",
       "      <td>4.23</td>\n",
       "      <td>2.63</td>\n",
       "      <td>334</td>\n",
       "    </tr>\n",
       "    <tr>\n",
       "      <th>4</th>\n",
       "      <td>0.31</td>\n",
       "      <td>Good</td>\n",
       "      <td>J</td>\n",
       "      <td>SI2</td>\n",
       "      <td>63.3</td>\n",
       "      <td>58.0</td>\n",
       "      <td>4.34</td>\n",
       "      <td>4.35</td>\n",
       "      <td>2.75</td>\n",
       "      <td>335</td>\n",
       "    </tr>\n",
       "  </tbody>\n",
       "</table>\n",
       "</div>"
      ],
      "text/plain": [
       "   carat      cut color clarity  depth  table     x     y     z  price\n",
       "0   0.23    Ideal     E     SI2   61.5   55.0  3.95  3.98  2.43    326\n",
       "1   0.21  Premium     E     SI1   59.8   61.0  3.89  3.84  2.31    326\n",
       "2   0.23     Good     E     VS1   56.9   65.0  4.05  4.07  2.31    327\n",
       "3   0.29  Premium     I     VS2   62.4   58.0  4.20  4.23  2.63    334\n",
       "4   0.31     Good     J     SI2   63.3   58.0  4.34  4.35  2.75    335"
      ]
     },
     "execution_count": 18,
     "metadata": {},
     "output_type": "execute_result"
    }
   ],
   "source": [
    "target = diamonds.price\n",
    "diamonds.drop(columns=[\"price\"], inplace=True)\n",
    "diamonds[\"price\"] = target\n",
    "diamonds.head()"
   ]
  },
  {
   "cell_type": "code",
   "execution_count": 19,
   "metadata": {},
   "outputs": [
    {
     "name": "stdout",
     "output_type": "stream",
     "text": [
      "Ideal, Premium, Good, Very Good, Fair, E, I, J, H, F, G, D, SI2, SI1, VS1, VS2, VVS2, VVS1, I1, IF\n"
     ]
    }
   ],
   "source": [
    "non_numerical_classes = [cut for cut in diamonds.cut.unique()] + [color for color in diamonds.color.unique()] + [clarity for clarity in diamonds.clarity.unique()]\n",
    "for classification in non_numerical_classes[:-1]:\n",
    "    print(classification, end=\", \")\n",
    "print(non_numerical_classes[-1])"
   ]
  },
  {
   "cell_type": "code",
   "execution_count": 21,
   "metadata": {},
   "outputs": [
    {
     "data": {
      "text/html": [
       "<div>\n",
       "<style scoped>\n",
       "    .dataframe tbody tr th:only-of-type {\n",
       "        vertical-align: middle;\n",
       "    }\n",
       "\n",
       "    .dataframe tbody tr th {\n",
       "        vertical-align: top;\n",
       "    }\n",
       "\n",
       "    .dataframe thead th {\n",
       "        text-align: right;\n",
       "    }\n",
       "</style>\n",
       "<table border=\"1\" class=\"dataframe\">\n",
       "  <thead>\n",
       "    <tr style=\"text-align: right;\">\n",
       "      <th></th>\n",
       "      <th>carat</th>\n",
       "      <th>cut</th>\n",
       "      <th>color</th>\n",
       "      <th>clarity</th>\n",
       "      <th>depth</th>\n",
       "      <th>table</th>\n",
       "      <th>x</th>\n",
       "      <th>y</th>\n",
       "      <th>z</th>\n",
       "      <th>price</th>\n",
       "    </tr>\n",
       "  </thead>\n",
       "  <tbody>\n",
       "    <tr>\n",
       "      <th>0</th>\n",
       "      <td>0.23</td>\n",
       "      <td>5</td>\n",
       "      <td>1</td>\n",
       "      <td>1</td>\n",
       "      <td>61.5</td>\n",
       "      <td>55.0</td>\n",
       "      <td>3.95</td>\n",
       "      <td>3.98</td>\n",
       "      <td>2.43</td>\n",
       "      <td>326</td>\n",
       "    </tr>\n",
       "    <tr>\n",
       "      <th>1</th>\n",
       "      <td>0.21</td>\n",
       "      <td>4</td>\n",
       "      <td>1</td>\n",
       "      <td>2</td>\n",
       "      <td>59.8</td>\n",
       "      <td>61.0</td>\n",
       "      <td>3.89</td>\n",
       "      <td>3.84</td>\n",
       "      <td>2.31</td>\n",
       "      <td>326</td>\n",
       "    </tr>\n",
       "    <tr>\n",
       "      <th>2</th>\n",
       "      <td>0.23</td>\n",
       "      <td>3</td>\n",
       "      <td>1</td>\n",
       "      <td>3</td>\n",
       "      <td>56.9</td>\n",
       "      <td>65.0</td>\n",
       "      <td>4.05</td>\n",
       "      <td>4.07</td>\n",
       "      <td>2.31</td>\n",
       "      <td>327</td>\n",
       "    </tr>\n",
       "    <tr>\n",
       "      <th>3</th>\n",
       "      <td>0.29</td>\n",
       "      <td>4</td>\n",
       "      <td>2</td>\n",
       "      <td>4</td>\n",
       "      <td>62.4</td>\n",
       "      <td>58.0</td>\n",
       "      <td>4.20</td>\n",
       "      <td>4.23</td>\n",
       "      <td>2.63</td>\n",
       "      <td>334</td>\n",
       "    </tr>\n",
       "    <tr>\n",
       "      <th>4</th>\n",
       "      <td>0.31</td>\n",
       "      <td>3</td>\n",
       "      <td>3</td>\n",
       "      <td>1</td>\n",
       "      <td>63.3</td>\n",
       "      <td>58.0</td>\n",
       "      <td>4.34</td>\n",
       "      <td>4.35</td>\n",
       "      <td>2.75</td>\n",
       "      <td>335</td>\n",
       "    </tr>\n",
       "  </tbody>\n",
       "</table>\n",
       "</div>"
      ],
      "text/plain": [
       "   carat  cut  color  clarity  depth  table     x     y     z  price\n",
       "0   0.23    5      1        1   61.5   55.0  3.95  3.98  2.43    326\n",
       "1   0.21    4      1        2   59.8   61.0  3.89  3.84  2.31    326\n",
       "2   0.23    3      1        3   56.9   65.0  4.05  4.07  2.31    327\n",
       "3   0.29    4      2        4   62.4   58.0  4.20  4.23  2.63    334\n",
       "4   0.31    3      3        1   63.3   58.0  4.34  4.35  2.75    335"
      ]
     },
     "execution_count": 21,
     "metadata": {},
     "output_type": "execute_result"
    }
   ],
   "source": [
    "diamonds.replace(non_numerical_classes,\n",
    "                 [5, 4, 3, 2, 1,\n",
    "                  1, 2, 3, 4, 5, 6, 7,\n",
    "                  1, 2, 3, 4, 5, 6, 7, 8], inplace=True)\n",
    "diamonds.head()"
   ]
  },
  {
   "cell_type": "code",
   "execution_count": 22,
   "metadata": {},
   "outputs": [
    {
     "data": {
      "text/html": [
       "<div>\n",
       "<style scoped>\n",
       "    .dataframe tbody tr th:only-of-type {\n",
       "        vertical-align: middle;\n",
       "    }\n",
       "\n",
       "    .dataframe tbody tr th {\n",
       "        vertical-align: top;\n",
       "    }\n",
       "\n",
       "    .dataframe thead th {\n",
       "        text-align: right;\n",
       "    }\n",
       "</style>\n",
       "<table border=\"1\" class=\"dataframe\">\n",
       "  <thead>\n",
       "    <tr style=\"text-align: right;\">\n",
       "      <th></th>\n",
       "      <th>carat</th>\n",
       "      <th>cut</th>\n",
       "      <th>color</th>\n",
       "      <th>clarity</th>\n",
       "      <th>depth</th>\n",
       "      <th>table</th>\n",
       "      <th>x</th>\n",
       "      <th>y</th>\n",
       "      <th>z</th>\n",
       "      <th>price</th>\n",
       "    </tr>\n",
       "  </thead>\n",
       "  <tbody>\n",
       "    <tr>\n",
       "      <th>0</th>\n",
       "      <td>-1.198157</td>\n",
       "      <td>0.970744</td>\n",
       "      <td>-1.548378</td>\n",
       "      <td>-1.277151</td>\n",
       "      <td>-0.174090</td>\n",
       "      <td>-1.099662</td>\n",
       "      <td>-1.587823</td>\n",
       "      <td>-1.536181</td>\n",
       "      <td>-1.571115</td>\n",
       "      <td>326</td>\n",
       "    </tr>\n",
       "    <tr>\n",
       "      <th>1</th>\n",
       "      <td>-1.240350</td>\n",
       "      <td>0.180840</td>\n",
       "      <td>-1.548378</td>\n",
       "      <td>-0.711072</td>\n",
       "      <td>-1.360726</td>\n",
       "      <td>1.585514</td>\n",
       "      <td>-1.641310</td>\n",
       "      <td>-1.658759</td>\n",
       "      <td>-1.741159</td>\n",
       "      <td>326</td>\n",
       "    </tr>\n",
       "    <tr>\n",
       "      <th>2</th>\n",
       "      <td>-1.198157</td>\n",
       "      <td>-0.609064</td>\n",
       "      <td>-1.548378</td>\n",
       "      <td>-0.144993</td>\n",
       "      <td>-3.384987</td>\n",
       "      <td>3.375631</td>\n",
       "      <td>-1.498677</td>\n",
       "      <td>-1.457382</td>\n",
       "      <td>-1.741159</td>\n",
       "      <td>327</td>\n",
       "    </tr>\n",
       "    <tr>\n",
       "      <th>3</th>\n",
       "      <td>-1.071577</td>\n",
       "      <td>0.180840</td>\n",
       "      <td>-1.060610</td>\n",
       "      <td>0.421085</td>\n",
       "      <td>0.454129</td>\n",
       "      <td>0.242926</td>\n",
       "      <td>-1.364959</td>\n",
       "      <td>-1.317293</td>\n",
       "      <td>-1.287708</td>\n",
       "      <td>334</td>\n",
       "    </tr>\n",
       "    <tr>\n",
       "      <th>4</th>\n",
       "      <td>-1.029384</td>\n",
       "      <td>-0.609064</td>\n",
       "      <td>-0.572842</td>\n",
       "      <td>-1.277151</td>\n",
       "      <td>1.082348</td>\n",
       "      <td>0.242926</td>\n",
       "      <td>-1.240155</td>\n",
       "      <td>-1.212227</td>\n",
       "      <td>-1.117663</td>\n",
       "      <td>335</td>\n",
       "    </tr>\n",
       "  </tbody>\n",
       "</table>\n",
       "</div>"
      ],
      "text/plain": [
       "      carat       cut     color   clarity     depth     table         x  \\\n",
       "0 -1.198157  0.970744 -1.548378 -1.277151 -0.174090 -1.099662 -1.587823   \n",
       "1 -1.240350  0.180840 -1.548378 -0.711072 -1.360726  1.585514 -1.641310   \n",
       "2 -1.198157 -0.609064 -1.548378 -0.144993 -3.384987  3.375631 -1.498677   \n",
       "3 -1.071577  0.180840 -1.060610  0.421085  0.454129  0.242926 -1.364959   \n",
       "4 -1.029384 -0.609064 -0.572842 -1.277151  1.082348  0.242926 -1.240155   \n",
       "\n",
       "          y         z  price  \n",
       "0 -1.536181 -1.571115    326  \n",
       "1 -1.658759 -1.741159    326  \n",
       "2 -1.457382 -1.741159    327  \n",
       "3 -1.317293 -1.287708    334  \n",
       "4 -1.212227 -1.117663    335  "
      ]
     },
     "execution_count": 22,
     "metadata": {},
     "output_type": "execute_result"
    }
   ],
   "source": [
    "def normalize(df):\n",
    "    '''Feature scaling using mean normalization.\n",
    "    Scales feature values between -1 and 1.'''\n",
    "    \n",
    "    for column in df.columns[:-1]:\n",
    "        df[column] = (df[column] - df[column].mean()) / df[column].std()\n",
    "    return df\n",
    "\n",
    "\n",
    "normalized_diamonds = normalize(diamonds)\n",
    "normalized_diamonds.head()"
   ]
  },
  {
   "cell_type": "code",
   "execution_count": 25,
   "metadata": {},
   "outputs": [],
   "source": [
    "y = normalized_diamonds.price\n",
    "X = normalized_diamonds.drop(['price'], axis=1)"
   ]
  },
  {
   "cell_type": "markdown",
   "metadata": {},
   "source": [
    "### Equations\n",
    "\n",
    "#### Hypothesis & Prediction / Polynomial Line of Best \"Fit\"\n",
    "The hypothesis is updated using gradient descent until it is optimized to fit the polynomial hyperplane that best generalizes the data. This optimal hyperplane (or curve) is the model's prediction for unseen data points. $ x_0=1$. \n",
    "\n",
    "$y_{pred}=\\hat{y}=h_{\\vec{\\theta}}(x)=\\theta_0 x_0+\\theta_1 x_1+...+\\theta_n x_n$\n",
    "\n",
    "$\\vec{\\theta}$ is the vector of weights and $\\vec{x}$ is the vector of features.\n",
    "\n",
    "Larger magnitude weights indicate the feature has more say in the prediction curve.\n",
    "\n",
    "$\\vec{\\theta} = \\begin{bmatrix} \n",
    "\\theta_0 & \\theta_1 & ... & \\theta_n\n",
    "\\end{bmatrix},   \\vec{x} = \\begin{bmatrix}\n",
    "x_0 & x_1 & ... & x_n\n",
    "\\end{bmatrix} $ \n",
    "\n",
    "$ h_{\\vec{\\theta}}(x)=\\vec{\\theta} \\cdot \\vec{x} = \\vec{x} \\cdot \\vec{\\theta} = \\vec{\\theta^{T}} \\vec{x} = \\begin{bmatrix}\n",
    "\\theta_0\\\\\n",
    "\\theta_1\\\\\n",
    "\\vdots\\\\\n",
    "\\theta_n\n",
    "\\end{bmatrix} \\begin{bmatrix}\n",
    "x_0 & x_1 & ... & x_n\n",
    "\\end{bmatrix} $\n",
    "\n",
    "\n",
    "#### Cost Function\n",
    "$J(\\vec{\\theta})=\\frac{1}{2m}\\sum_{i=1}^{m}(h_{\\vec{\\theta}}(x^{(i)})-y^{(i)})^2$\n",
    "\n",
    "\n",
    "#### Gradient Descent\n",
    "Repeat updating each theta parameter for all $j = 0, 1, ..., n$\n",
    "\n",
    "$\\theta_j:=\\theta_j-\\alpha(\\frac{\\partial J(\\vec{\\theta})}{\\partial \\theta_j}) = \\theta_j-\\frac{\\alpha}{m}\\sum_{i=1}^{m}(h_{\\vec{\\theta}}(x^{(i)})-y^{(i)})x_{j}^{(i)}$\n"
   ]
  },
  {
   "cell_type": "markdown",
   "metadata": {},
   "source": [
    "#### Train Test Split Data"
   ]
  },
  {
   "cell_type": "code",
   "execution_count": 26,
   "metadata": {},
   "outputs": [
    {
     "data": {
      "text/plain": [
       "((43152, 9), (10788, 9), (43152,), (10788,))"
      ]
     },
     "execution_count": 26,
     "metadata": {},
     "output_type": "execute_result"
    }
   ],
   "source": [
    "from sklearn.model_selection import train_test_split\n",
    "\n",
    "X_train, X_test, y_train, y_test = train_test_split(X, y, test_size=0.2)\n",
    "X_train.shape, X_test.shape, y_train.shape, y_test.shape"
   ]
  },
  {
   "cell_type": "code",
   "execution_count": 27,
   "metadata": {},
   "outputs": [],
   "source": [
    "class VanillaLinearRegression:\n",
    "    def __init__(self, alpha=0.001, epochs=5000) -> None:\n",
    "        self.alpha = alpha\n",
    "        self.epochs = epochs\n",
    "        self.weights = None\n",
    "        self.bias = None\n",
    "        self.losses = []\n",
    "\n",
    "    def cost_function_andrew_ng(self, X, y, y_pred, lamda=0):\n",
    "        '''Returns the accumulated loss. This is not used during the learning process, but may be \n",
    "        used to visualize the loss.\n",
    "        A L2 Regularization penalty is applied via ridge regression when lamda is greater than zero.'''\n",
    "        m = X.shape[0]  # m = number of samples\n",
    "        return np.sum((y - y_pred) ** 2 + lamda * np.sum(X ** 2, axis=1)) / (2 * m)\n",
    "    \n",
    "    def get_losses(self):\n",
    "        return self.losses\n",
    "\n",
    "    def reset_losses(self):\n",
    "        self.losses = []\n",
    "\n",
    "    def cost_function_mse(self, y, y_pred, lamda=0):\n",
    "        '''Returns the Mean Squared Error (MSE). This is not used during the learning process, but may be \n",
    "        used to visualize the loss.\n",
    "        A L2 Regularization penalty is applied via ridge regression when lamda is greater than zero.'''\n",
    "        return np.mean((y - y_pred) ** 2 + lamda * np.sum(X ** 2, axis=1))\n",
    "\n",
    "    def predict(self, X):\n",
    "        '''Starts as a sequence of hypotheses, ends as the prediction'''\n",
    "        return X.dot(self.weights) + self.bias\n",
    "\n",
    "    def gradient_descent(self, X, y, lamda=0):\n",
    "        '''The cost function, J(theta) should decrease after every iteration.\n",
    "        A L2 Regularization penalty is applied via ridge regression when lamda is greater than zero.'''\n",
    "        m = X.shape[0]  # m = number of samples\n",
    "\n",
    "        for _ in range(self.epochs):\n",
    "            y_pred = self.predict(X)\n",
    "            self.weights -= self.alpha / m * ((y_pred - y).dot(X) - lamda * self.weights)\n",
    "            self.bias -= self.alpha / m * np.sum(y_pred - y)\n",
    "            # self.weights -= self.alpha / m * (y_pred - y).dot(X)\n",
    "            # self.bias -= self.alpha / m * np.sum(y_pred - y)\n",
    "            self.losses.append(self.cost_function_andrew_ng(X, y, y_pred, lamda=lamda))\n",
    "            \n",
    "    def fit(self, X, y, lamda=0):\n",
    "        '''trains the model'''\n",
    "        n = X.shape[1]  # n = number of features\n",
    "        self.weights = np.zeros(n) # initialize weights\n",
    "        self.bias = 0 # initialize bias\n",
    "        self.gradient_descent(X, y, lamda)"
   ]
  },
  {
   "cell_type": "markdown",
   "metadata": {},
   "source": [
    "## Splitting the Data and Model Performance Evaluation"
   ]
  },
  {
   "cell_type": "markdown",
   "metadata": {},
   "source": [
    "### 80-20 Random Split"
   ]
  },
  {
   "cell_type": "code",
   "execution_count": 28,
   "metadata": {},
   "outputs": [
    {
     "name": "stdout",
     "output_type": "stream",
     "text": [
      "Loss: 1279004.229, r2 score: 0.842\n"
     ]
    },
    {
     "data": {
      "image/png": "[encoded data removed]",
      "text/plain": [
       "<Figure size 432x288 with 1 Axes>"
      ]
     },
     "metadata": {
      "needs_background": "dark"
     },
     "output_type": "display_data"
    }
   ],
   "source": [
    "import matplotlib.pyplot as plt\n",
    "import seaborn as sns\n",
    "from sklearn.metrics import r2_score\n",
    "%matplotlib inline\n",
    "%reload_ext autoreload\n",
    "%autoreload 2\n",
    "\n",
    "X_train, X_test, y_train, y_test = train_test_split(X, y, test_size=0.2, random_state=1234)\n",
    "\n",
    "X_train.shape, X_test.shape, y_train.shape, y_test.shape\n",
    "model = VanillaLinearRegression(alpha=0.001, epochs=5000)\n",
    "model.fit(X_train, y_train, lamda=50)\n",
    "y_pred = model.predict(X_test)\n",
    "loss = model.cost_function_andrew_ng(X_test, y_test, y_pred)\n",
    "y_pred_line = model.predict(X)\n",
    "losses = model.get_losses()\n",
    "print(f'Loss: {loss :.3f}, r2 score: {r2_score(y_test, y_pred) :.3f}')\n",
    "\n",
    "fig = plt.figure()\n",
    "plt.title(\"Loss vs Epochs\")\n",
    "plt.ylabel(\"Loss\")\n",
    "plt.xlabel(\"Epochs\")\n",
    "plt.plot(losses, color=\"y\", linewidth=1, label=\"Loss\")\n",
    "plt.legend()\n",
    "plt.show()\n"
   ]
  },
  {
   "cell_type": "markdown",
   "metadata": {},
   "source": [
    "### Cross Validation"
   ]
  },
  {
   "cell_type": "code",
   "execution_count": 29,
   "metadata": {},
   "outputs": [],
   "source": [
    "from sklearn.model_selection import KFold, LeavePOut\n",
    "\n",
    "def train_test_cross_validation(model, X, y, cross_validator=KFold, k=5, p=2):\n",
    "    '''Returns the optimal model'''\n",
    "    optimal_model = None\n",
    "    optimal_model_loss = float('inf')\n",
    "    optimal_regularization = 0\n",
    "    optimal_X_test = None\n",
    "    optimal_y_test = None\n",
    "    \n",
    "    if cross_validator == KFold:\n",
    "        cv = KFold(n_splits=k, shuffle=True)\n",
    "    else:\n",
    "        cv = LeavePOut(p=p)\n",
    "\n",
    "    losses = []\n",
    "\n",
    "    for train_index, test_index in cv.split(X):\n",
    "        X_train, X_test, y_train, y_test = X.iloc[train_index], X.iloc[test_index], y.iloc[train_index], y.iloc[test_index]\n",
    "        for lamda in range(0, 51, 10):\n",
    "            model.fit(X_train, y_train, lamda=lamda)\n",
    "            y_pred = model.predict(X_test)\n",
    "            loss = model.cost_function_andrew_ng(X_test, y_test, y_pred)\n",
    "\n",
    "            if loss < optimal_model_loss:\n",
    "                optimal_model = model\n",
    "                optimal_model_loss = loss\n",
    "                optimal_regularization = lamda\n",
    "                optimal_X_test = X_test\n",
    "                optimal_y_test = y_test\n",
    "                losses = model.get_losses()\n",
    "\n",
    "\n",
    "            model.reset_losses()\n",
    "        \n",
    "    return optimal_model, losses, optimal_regularization, optimal_X_test, optimal_y_test\n"
   ]
  },
  {
   "cell_type": "markdown",
   "metadata": {},
   "source": [
    "##### K-Fold"
   ]
  },
  {
   "cell_type": "code",
   "execution_count": 30,
   "metadata": {},
   "outputs": [
    {
     "name": "stdout",
     "output_type": "stream",
     "text": [
      "Loss: 1205062.123, r2 score: 0.849\n"
     ]
    },
    {
     "data": {
      "image/png": "[encoded data removed]",
      "text/plain": [
       "<Figure size 432x288 with 1 Axes>"
      ]
     },
     "metadata": {
      "needs_background": "dark"
     },
     "output_type": "display_data"
    }
   ],
   "source": [
    "model = VanillaLinearRegression(alpha=0.001, epochs=5000)\n",
    "optimal_model, losses, optimal_regularization, X_test, y_test = train_test_cross_validation(\n",
    "    model, X, y, cross_validator=KFold, k=5)\n",
    "y_pred = optimal_model.predict(X_test)\n",
    "loss = optimal_model.cost_function_andrew_ng(X_test, y_test, y_pred)\n",
    "\n",
    "print(f'Loss: {loss :.3f}, r2 score: {r2_score(y_test, y_pred) :.3f}')\n",
    "\n",
    "y_pred_line = optimal_model.predict(X)\n",
    "\n",
    "fig = plt.figure()\n",
    "plt.title(\"Loss vs Epochs\")\n",
    "plt.ylabel(\"Loss\")\n",
    "plt.xlabel(\"Epochs\")\n",
    "plt.plot(losses, color=\"y\", linewidth=1, label=\"Loss\")\n",
    "plt.legend()\n",
    "plt.show()\n"
   ]
  },
  {
   "cell_type": "code",
   "execution_count": 31,
   "metadata": {},
   "outputs": [
    {
     "data": {
      "text/plain": [
       "50"
      ]
     },
     "execution_count": 31,
     "metadata": {},
     "output_type": "execute_result"
    }
   ],
   "source": [
    "optimal_regularization"
   ]
  },
  {
   "cell_type": "markdown",
   "metadata": {},
   "source": [
    "##### Leave P Out \n",
    "This is ideal for smaller datasets because it tests all permutations of test sets of size p, which can take a while to compute."
   ]
  },
  {
   "cell_type": "code",
   "execution_count": 32,
   "metadata": {},
   "outputs": [
    {
     "name": "stdout",
     "output_type": "stream",
     "text": [
      "Loss: 1205062.123, r2 score: 0.849\n"
     ]
    },
    {
     "data": {
      "image/png": "[encoded data removed]",
      "text/plain": [
       "<Figure size 432x288 with 1 Axes>"
      ]
     },
     "metadata": {
      "needs_background": "dark"
     },
     "output_type": "display_data"
    }
   ],
   "source": [
    "model = VanillaLinearRegression(alpha=0.001, epochs=5000)\n",
    "# optimal_model, losses = train_test_cross_validation(model, X, y, cross_validator=LeavePOut, p=2)\n",
    "y_pred = optimal_model.predict(X_test)\n",
    "loss = optimal_model.cost_function_andrew_ng(X_test, y_test, y_pred)\n",
    "\n",
    "print(f'Loss: {loss :.3f}, r2 score: {r2_score(y_test, y_pred) :.3f}')\n",
    "\n",
    "y_pred_line = optimal_model.predict(X)\n",
    "\n",
    "fig = plt.figure()\n",
    "plt.title(\"Loss vs Epochs\")\n",
    "plt.ylabel(\"Loss\")\n",
    "plt.xlabel(\"Epochs\")\n",
    "plt.plot(losses, color=\"y\", linewidth=1, label=\"Loss\")\n",
    "plt.legend()\n",
    "plt.show()"
   ]
  },
  {
   "cell_type": "markdown",
   "metadata": {},
   "source": [
    "### Sklearn - Linear Regression Comparison\n"
   ]
  },
  {
   "cell_type": "code",
   "execution_count": 33,
   "metadata": {},
   "outputs": [
    {
     "name": "stdout",
     "output_type": "stream",
     "text": [
      "r2 score: 0.849\n"
     ]
    }
   ],
   "source": [
    "from sklearn.linear_model import LinearRegression\n",
    "from sklearn.metrics import mean_squared_error, r2_score\n",
    "model = LinearRegression()\n",
    "model.fit(X_train, y_train)\n",
    "y_prediction = model.predict(X_test)\n",
    "model.intercept_, model.coef_\n",
    "print(f'r2 score: {r2_score(y_test, y_pred) :.3f}')"
   ]
  },
  {
   "cell_type": "code",
   "execution_count": null,
   "metadata": {},
   "outputs": [],
   "source": []
  }
 ],
 "metadata": {
  "interpreter": {
   "hash": "63fd5069d213b44bf678585dea6b12cceca9941eaf7f819626cde1f2670de90d"
  },
  "kernelspec": {
   "display_name": "Python 3.9.6 64-bit (system)",
   "language": "python",
   "name": "python3"
  },
  "language_info": {
   "codemirror_mode": {
    "name": "ipython",
    "version": 3
   },
   "file_extension": ".py",
   "mimetype": "text/x-python",
   "name": "python",
   "nbconvert_exporter": "python",
   "pygments_lexer": "ipython3",
   "version": "3.9.6"
  },
  "orig_nbformat": 4
 },
 "nbformat": 4,
 "nbformat_minor": 2
}
