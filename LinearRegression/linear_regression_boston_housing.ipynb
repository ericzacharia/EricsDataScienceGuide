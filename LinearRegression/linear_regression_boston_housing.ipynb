{
 "cells": [
  {
   "cell_type": "markdown",
   "metadata": {},
   "source": [
    "# Linear Regression using Boston Housing Data"
   ]
  },
  {
   "cell_type": "code",
   "execution_count": 2,
   "metadata": {},
   "outputs": [],
   "source": [
    "import numpy as np\n",
    "import pandas as pd\n",
    "import matplotlib.pyplot as plt\n",
    "import seaborn as sns "
   ]
  },
  {
   "cell_type": "code",
   "execution_count": 3,
   "metadata": {},
   "outputs": [
    {
     "data": {
      "text/html": [
       "<div>\n",
       "<style scoped>\n",
       "    .dataframe tbody tr th:only-of-type {\n",
       "        vertical-align: middle;\n",
       "    }\n",
       "\n",
       "    .dataframe tbody tr th {\n",
       "        vertical-align: top;\n",
       "    }\n",
       "\n",
       "    .dataframe thead th {\n",
       "        text-align: right;\n",
       "    }\n",
       "</style>\n",
       "<table border=\"1\" class=\"dataframe\">\n",
       "  <thead>\n",
       "    <tr style=\"text-align: right;\">\n",
       "      <th></th>\n",
       "      <th>crim</th>\n",
       "      <th>zn</th>\n",
       "      <th>indus</th>\n",
       "      <th>chas</th>\n",
       "      <th>nox</th>\n",
       "      <th>rm</th>\n",
       "      <th>age</th>\n",
       "      <th>dis</th>\n",
       "      <th>rad</th>\n",
       "      <th>tax</th>\n",
       "      <th>ptratio</th>\n",
       "      <th>b</th>\n",
       "      <th>lstat</th>\n",
       "      <th>medv</th>\n",
       "    </tr>\n",
       "  </thead>\n",
       "  <tbody>\n",
       "    <tr>\n",
       "      <th>0</th>\n",
       "      <td>0.00632</td>\n",
       "      <td>18.0</td>\n",
       "      <td>2.31</td>\n",
       "      <td>0</td>\n",
       "      <td>0.538</td>\n",
       "      <td>6.575</td>\n",
       "      <td>65.2</td>\n",
       "      <td>4.0900</td>\n",
       "      <td>1</td>\n",
       "      <td>296</td>\n",
       "      <td>15.3</td>\n",
       "      <td>396.90</td>\n",
       "      <td>4.98</td>\n",
       "      <td>24.0</td>\n",
       "    </tr>\n",
       "    <tr>\n",
       "      <th>1</th>\n",
       "      <td>0.02731</td>\n",
       "      <td>0.0</td>\n",
       "      <td>7.07</td>\n",
       "      <td>0</td>\n",
       "      <td>0.469</td>\n",
       "      <td>6.421</td>\n",
       "      <td>78.9</td>\n",
       "      <td>4.9671</td>\n",
       "      <td>2</td>\n",
       "      <td>242</td>\n",
       "      <td>17.8</td>\n",
       "      <td>396.90</td>\n",
       "      <td>9.14</td>\n",
       "      <td>21.6</td>\n",
       "    </tr>\n",
       "    <tr>\n",
       "      <th>2</th>\n",
       "      <td>0.02729</td>\n",
       "      <td>0.0</td>\n",
       "      <td>7.07</td>\n",
       "      <td>0</td>\n",
       "      <td>0.469</td>\n",
       "      <td>7.185</td>\n",
       "      <td>61.1</td>\n",
       "      <td>4.9671</td>\n",
       "      <td>2</td>\n",
       "      <td>242</td>\n",
       "      <td>17.8</td>\n",
       "      <td>392.83</td>\n",
       "      <td>4.03</td>\n",
       "      <td>34.7</td>\n",
       "    </tr>\n",
       "    <tr>\n",
       "      <th>3</th>\n",
       "      <td>0.03237</td>\n",
       "      <td>0.0</td>\n",
       "      <td>2.18</td>\n",
       "      <td>0</td>\n",
       "      <td>0.458</td>\n",
       "      <td>6.998</td>\n",
       "      <td>45.8</td>\n",
       "      <td>6.0622</td>\n",
       "      <td>3</td>\n",
       "      <td>222</td>\n",
       "      <td>18.7</td>\n",
       "      <td>394.63</td>\n",
       "      <td>2.94</td>\n",
       "      <td>33.4</td>\n",
       "    </tr>\n",
       "    <tr>\n",
       "      <th>4</th>\n",
       "      <td>0.06905</td>\n",
       "      <td>0.0</td>\n",
       "      <td>2.18</td>\n",
       "      <td>0</td>\n",
       "      <td>0.458</td>\n",
       "      <td>7.147</td>\n",
       "      <td>54.2</td>\n",
       "      <td>6.0622</td>\n",
       "      <td>3</td>\n",
       "      <td>222</td>\n",
       "      <td>18.7</td>\n",
       "      <td>396.90</td>\n",
       "      <td>5.33</td>\n",
       "      <td>36.2</td>\n",
       "    </tr>\n",
       "  </tbody>\n",
       "</table>\n",
       "</div>"
      ],
      "text/plain": [
       "      crim    zn  indus  chas    nox     rm   age     dis  rad  tax  ptratio  \\\n",
       "0  0.00632  18.0   2.31     0  0.538  6.575  65.2  4.0900    1  296     15.3   \n",
       "1  0.02731   0.0   7.07     0  0.469  6.421  78.9  4.9671    2  242     17.8   \n",
       "2  0.02729   0.0   7.07     0  0.469  7.185  61.1  4.9671    2  242     17.8   \n",
       "3  0.03237   0.0   2.18     0  0.458  6.998  45.8  6.0622    3  222     18.7   \n",
       "4  0.06905   0.0   2.18     0  0.458  7.147  54.2  6.0622    3  222     18.7   \n",
       "\n",
       "        b  lstat  medv  \n",
       "0  396.90   4.98  24.0  \n",
       "1  396.90   9.14  21.6  \n",
       "2  392.83   4.03  34.7  \n",
       "3  394.63   2.94  33.4  \n",
       "4  396.90   5.33  36.2  "
      ]
     },
     "execution_count": 3,
     "metadata": {},
     "output_type": "execute_result"
    }
   ],
   "source": [
    "boston_housing = pd.read_csv(\"../Data/BostonHousing.csv\")\n",
    "boston_housing.head()"
   ]
  },
  {
   "cell_type": "code",
   "execution_count": 36,
   "metadata": {},
   "outputs": [
    {
     "data": {
      "text/html": [
       "<div>\n",
       "<style scoped>\n",
       "    .dataframe tbody tr th:only-of-type {\n",
       "        vertical-align: middle;\n",
       "    }\n",
       "\n",
       "    .dataframe tbody tr th {\n",
       "        vertical-align: top;\n",
       "    }\n",
       "\n",
       "    .dataframe thead th {\n",
       "        text-align: right;\n",
       "    }\n",
       "</style>\n",
       "<table border=\"1\" class=\"dataframe\">\n",
       "  <thead>\n",
       "    <tr style=\"text-align: right;\">\n",
       "      <th></th>\n",
       "      <th>crim</th>\n",
       "      <th>zn</th>\n",
       "      <th>indus</th>\n",
       "      <th>chas</th>\n",
       "      <th>nox</th>\n",
       "      <th>rm</th>\n",
       "      <th>age</th>\n",
       "      <th>dis</th>\n",
       "      <th>rad</th>\n",
       "      <th>tax</th>\n",
       "      <th>ptratio</th>\n",
       "      <th>b</th>\n",
       "      <th>lstat</th>\n",
       "      <th>medv</th>\n",
       "    </tr>\n",
       "  </thead>\n",
       "  <tbody>\n",
       "    <tr>\n",
       "      <th>0</th>\n",
       "      <td>-0.419367</td>\n",
       "      <td>0.284548</td>\n",
       "      <td>-1.286636</td>\n",
       "      <td>-0.272329</td>\n",
       "      <td>-0.144075</td>\n",
       "      <td>0.413263</td>\n",
       "      <td>-0.119895</td>\n",
       "      <td>0.140075</td>\n",
       "      <td>-0.981871</td>\n",
       "      <td>-0.665949</td>\n",
       "      <td>-1.457558</td>\n",
       "      <td>0.440616</td>\n",
       "      <td>-1.074499</td>\n",
       "      <td>24.0</td>\n",
       "    </tr>\n",
       "    <tr>\n",
       "      <th>1</th>\n",
       "      <td>-0.416927</td>\n",
       "      <td>-0.487240</td>\n",
       "      <td>-0.592794</td>\n",
       "      <td>-0.272329</td>\n",
       "      <td>-0.739530</td>\n",
       "      <td>0.194082</td>\n",
       "      <td>0.366803</td>\n",
       "      <td>0.556609</td>\n",
       "      <td>-0.867024</td>\n",
       "      <td>-0.986353</td>\n",
       "      <td>-0.302794</td>\n",
       "      <td>0.440616</td>\n",
       "      <td>-0.491953</td>\n",
       "      <td>21.6</td>\n",
       "    </tr>\n",
       "    <tr>\n",
       "      <th>2</th>\n",
       "      <td>-0.416929</td>\n",
       "      <td>-0.487240</td>\n",
       "      <td>-0.592794</td>\n",
       "      <td>-0.272329</td>\n",
       "      <td>-0.739530</td>\n",
       "      <td>1.281446</td>\n",
       "      <td>-0.265549</td>\n",
       "      <td>0.556609</td>\n",
       "      <td>-0.867024</td>\n",
       "      <td>-0.986353</td>\n",
       "      <td>-0.302794</td>\n",
       "      <td>0.396035</td>\n",
       "      <td>-1.207532</td>\n",
       "      <td>34.7</td>\n",
       "    </tr>\n",
       "    <tr>\n",
       "      <th>3</th>\n",
       "      <td>-0.416338</td>\n",
       "      <td>-0.487240</td>\n",
       "      <td>-1.305586</td>\n",
       "      <td>-0.272329</td>\n",
       "      <td>-0.834458</td>\n",
       "      <td>1.015298</td>\n",
       "      <td>-0.809088</td>\n",
       "      <td>1.076671</td>\n",
       "      <td>-0.752178</td>\n",
       "      <td>-1.105022</td>\n",
       "      <td>0.112920</td>\n",
       "      <td>0.415751</td>\n",
       "      <td>-1.360171</td>\n",
       "      <td>33.4</td>\n",
       "    </tr>\n",
       "    <tr>\n",
       "      <th>4</th>\n",
       "      <td>-0.412074</td>\n",
       "      <td>-0.487240</td>\n",
       "      <td>-1.305586</td>\n",
       "      <td>-0.272329</td>\n",
       "      <td>-0.834458</td>\n",
       "      <td>1.227362</td>\n",
       "      <td>-0.510674</td>\n",
       "      <td>1.076671</td>\n",
       "      <td>-0.752178</td>\n",
       "      <td>-1.105022</td>\n",
       "      <td>0.112920</td>\n",
       "      <td>0.440616</td>\n",
       "      <td>-1.025487</td>\n",
       "      <td>36.2</td>\n",
       "    </tr>\n",
       "  </tbody>\n",
       "</table>\n",
       "</div>"
      ],
      "text/plain": [
       "       crim        zn     indus      chas       nox        rm       age  \\\n",
       "0 -0.419367  0.284548 -1.286636 -0.272329 -0.144075  0.413263 -0.119895   \n",
       "1 -0.416927 -0.487240 -0.592794 -0.272329 -0.739530  0.194082  0.366803   \n",
       "2 -0.416929 -0.487240 -0.592794 -0.272329 -0.739530  1.281446 -0.265549   \n",
       "3 -0.416338 -0.487240 -1.305586 -0.272329 -0.834458  1.015298 -0.809088   \n",
       "4 -0.412074 -0.487240 -1.305586 -0.272329 -0.834458  1.227362 -0.510674   \n",
       "\n",
       "        dis       rad       tax   ptratio         b     lstat  medv  \n",
       "0  0.140075 -0.981871 -0.665949 -1.457558  0.440616 -1.074499  24.0  \n",
       "1  0.556609 -0.867024 -0.986353 -0.302794  0.440616 -0.491953  21.6  \n",
       "2  0.556609 -0.867024 -0.986353 -0.302794  0.396035 -1.207532  34.7  \n",
       "3  1.076671 -0.752178 -1.105022  0.112920  0.415751 -1.360171  33.4  \n",
       "4  1.076671 -0.752178 -1.105022  0.112920  0.440616 -1.025487  36.2  "
      ]
     },
     "execution_count": 36,
     "metadata": {},
     "output_type": "execute_result"
    }
   ],
   "source": [
    "def normalize(df):\n",
    "    '''Feature scaling using mean normalization.\n",
    "    Scales feature values between -1 and 1.'''\n",
    "    \n",
    "    for column in df.columns[:-1]:\n",
    "        df[column] = (df[column] - df[column].mean()) / df[column].std()\n",
    "    return df\n",
    "\n",
    "\n",
    "normalized_boston_housing = normalize(boston_housing)\n",
    "normalized_boston_housing.head()"
   ]
  },
  {
   "cell_type": "code",
   "execution_count": 37,
   "metadata": {},
   "outputs": [],
   "source": [
    "y = normalized_boston_housing.medv\n",
    "X = normalized_boston_housing.drop(['medv'], axis=1)\n"
   ]
  },
  {
   "cell_type": "markdown",
   "metadata": {},
   "source": [
    "### Equations\n",
    "\n",
    "#### Hypothesis & Prediction / Polynomial Line of Best \"Fit\"\n",
    "The hypothesis is updated using gradient descent until it is optimized to fit the polynomial hyperplane that best generalizes the data. This optimal hyperplane (or curve) is the model's prediction for unseen data points. $ x_0=1$. \n",
    "\n",
    "$y_{pred}=\\hat{y}=h_{\\vec{\\theta}}(x)=\\theta_0 x_0+\\theta_1 x_1+...+\\theta_n x_n$\n",
    "\n",
    "$\\vec{\\theta}$ is the vector of weights and $\\vec{x}$ is the vector of features.\n",
    "\n",
    "Larger magnitude weights indicate the feature has more say in the prediction curve.\n",
    "\n",
    "$\\vec{\\theta} = \\begin{bmatrix} \n",
    "\\theta_0 & \\theta_1 & ... & \\theta_n\n",
    "\\end{bmatrix},   \\vec{x} = \\begin{bmatrix}\n",
    "x_0 & x_1 & ... & x_n\n",
    "\\end{bmatrix} $ \n",
    "\n",
    "$ h_{\\vec{\\theta}}(x)=\\vec{\\theta} \\cdot \\vec{x} = \\vec{x} \\cdot \\vec{\\theta} = \\vec{\\theta^{T}} \\vec{x} = \\begin{bmatrix}\n",
    "\\theta_0\\\\\n",
    "\\theta_1\\\\\n",
    "\\vdots\\\\\n",
    "\\theta_n\n",
    "\\end{bmatrix} \\begin{bmatrix}\n",
    "x_0 & x_1 & ... & x_n\n",
    "\\end{bmatrix} $\n",
    "\n",
    "\n",
    "#### Cost Function\n",
    "$J(\\vec{\\theta})=\\frac{1}{2m}\\sum_{i=1}^{m}(h_{\\vec{\\theta}}(x^{(i)})-y^{(i)})^2$\n",
    "\n",
    "\n",
    "#### Gradient Descent\n",
    "Repeat updating each theta parameter for all $j = 0, 1, ..., n$\n",
    "\n",
    "$\\theta_j:=\\theta_j-\\alpha(\\frac{\\partial J(\\vec{\\theta})}{\\partial \\theta_j}) = \\theta_j-\\frac{\\alpha}{m}\\sum_{i=1}^{m}(h_{\\vec{\\theta}}(x^{(i)})-y^{(i)})x_{j}^{(i)}$\n"
   ]
  },
  {
   "cell_type": "markdown",
   "metadata": {},
   "source": [
    "#### Train Test Split Data"
   ]
  },
  {
   "cell_type": "code",
   "execution_count": 38,
   "metadata": {},
   "outputs": [],
   "source": [
    "from sklearn.model_selection import train_test_split\n",
    "\n",
    "X_train, X_test, y_train, y_test = train_test_split(X, y, test_size=0.2)\n",
    "X_train.shape, X_test.shape, y_train.shape, y_test.shape"
   ]
  },
  {
   "cell_type": "code",
   "execution_count": 40,
   "metadata": {},
   "outputs": [],
   "source": [
    "class VanillaLinearRegression:\n",
    "    def __init__(self, alpha=0.001, epochs=5000) -> None:\n",
    "        self.alpha = alpha\n",
    "        self.epochs = epochs\n",
    "        self.weights = None\n",
    "        self.bias = None\n",
    "        self.losses = []\n",
    "\n",
    "    def cost_function_andrew_ng(self, X, y, y_pred, lamda=0):\n",
    "        '''Returns the accumulated loss. This is not used during the learning process, but may be \n",
    "        used to visualize the loss.\n",
    "        A L2 Regularization penalty is applied via ridge regression when lamda is greater than zero.'''\n",
    "        m = X.shape[0]  # m = number of samples\n",
    "        return np.sum((y - y_pred) ** 2 + lamda * np.sum(X ** 2, axis=1)) / (2 * m)\n",
    "    \n",
    "    def get_losses(self):\n",
    "        return self.losses\n",
    "\n",
    "    def reset_losses(self):\n",
    "        self.losses = []\n",
    "\n",
    "    def cost_function_mse(self, y, y_pred, lamda=0):\n",
    "        '''Returns the Mean Squared Error (MSE). This is not used during the learning process, but may be \n",
    "        used to visualize the loss.\n",
    "        A L2 Regularization penalty is applied via ridge regression when lamda is greater than zero.'''\n",
    "        return np.mean((y - y_pred) ** 2 + lamda * np.sum(X ** 2, axis=1))\n",
    "\n",
    "    def predict(self, X):\n",
    "        '''Starts as a sequence of hypotheses, ends as the prediction'''\n",
    "        return X.dot(self.weights) + self.bias\n",
    "\n",
    "    def gradient_descent(self, X, y, lamda=0):\n",
    "        '''The cost function, J(theta) should decrease after every iteration.\n",
    "        A L2 Regularization penalty is applied via ridge regression when lamda is greater than zero.'''\n",
    "        m = X.shape[0]  # m = number of samples\n",
    "\n",
    "        for _ in range(self.epochs):\n",
    "            y_pred = self.predict(X)\n",
    "            self.weights -= self.alpha / m * ((y_pred - y).dot(X) - lamda * self.weights)\n",
    "            self.bias -= self.alpha / m * np.sum(y_pred - y)\n",
    "            # self.weights -= self.alpha / m * (y_pred - y).dot(X)\n",
    "            # self.bias -= self.alpha / m * np.sum(y_pred - y)\n",
    "            self.losses.append(self.cost_function_andrew_ng(X, y, y_pred, lamda=lamda))\n",
    "            \n",
    "    def fit(self, X, y, lamda=0):\n",
    "        '''trains the model'''\n",
    "        n = X.shape[1]  # n = number of features\n",
    "        self.weights = np.zeros(n) # initialize weights\n",
    "        self.bias = 0 # initialize bias\n",
    "        self.gradient_descent(X, y, lamda)"
   ]
  },
  {
   "cell_type": "markdown",
   "metadata": {},
   "source": [
    "## Splitting the Data and Model Performance Evaluation"
   ]
  },
  {
   "cell_type": "markdown",
   "metadata": {},
   "source": [
    "### 80-20 Random Split"
   ]
  },
  {
   "cell_type": "code",
   "execution_count": 49,
   "metadata": {},
   "outputs": [
    {
     "name": "stdout",
     "output_type": "stream",
     "text": [
      "Loss: 10.583, r2 score: 0.794\n"
     ]
    },
    {
     "data": {
      "image/png": "[encoded data removed]",
      "text/plain": [
       "<Figure size 432x288 with 1 Axes>"
      ]
     },
     "metadata": {
      "needs_background": "dark"
     },
     "output_type": "display_data"
    }
   ],
   "source": [
    "import matplotlib.pyplot as plt\n",
    "import seaborn as sns\n",
    "from sklearn.metrics import r2_score\n",
    "%matplotlib inline\n",
    "%reload_ext autoreload\n",
    "%autoreload 2\n",
    "\n",
    "X_train, X_test, y_train, y_test = train_test_split(X, y, test_size=0.2, random_state=1234)\n",
    "\n",
    "X_train.shape, X_test.shape, y_train.shape, y_test.shape\n",
    "model = VanillaLinearRegression(alpha=0.001, epochs=5000)\n",
    "model.fit(X_train, y_train, lamda=50)\n",
    "y_pred = model.predict(X_test)\n",
    "loss = model.cost_function_andrew_ng(X_test, y_test, y_pred)\n",
    "y_pred_line = model.predict(X)\n",
    "losses = model.get_losses()\n",
    "print(f'Loss: {loss :.3f}, r2 score: {r2_score(y_test, y_pred) :.3f}')\n",
    "\n",
    "fig = plt.figure()\n",
    "plt.title(\"Loss vs Epochs\")\n",
    "plt.ylabel(\"Loss\")\n",
    "plt.xlabel(\"Epochs\")\n",
    "plt.plot(losses, color=\"y\", linewidth=1, label=\"Loss\")\n",
    "plt.legend()\n",
    "plt.show()\n"
   ]
  },
  {
   "cell_type": "markdown",
   "metadata": {},
   "source": [
    "### Cross Validation"
   ]
  },
  {
   "cell_type": "code",
   "execution_count": 50,
   "metadata": {},
   "outputs": [],
   "source": [
    "from sklearn.model_selection import KFold, LeavePOut\n",
    "\n",
    "def train_test_cross_validation(model, X, y, cross_validator=KFold, k=5, p=2):\n",
    "    '''Returns the optimal model'''\n",
    "    optimal_model = None\n",
    "    optimal_model_loss = float('inf')\n",
    "    optimal_regularization = 0\n",
    "    optimal_X_test = None\n",
    "    optimal_y_test = None\n",
    "    \n",
    "    if cross_validator == KFold:\n",
    "        cv = KFold(n_splits=k, shuffle=True)\n",
    "    else:\n",
    "        cv = LeavePOut(p=p)\n",
    "\n",
    "    losses = []\n",
    "\n",
    "    for train_index, test_index in cv.split(X):\n",
    "        X_train, X_test, y_train, y_test = X.iloc[train_index], X.iloc[test_index], y.iloc[train_index], y.iloc[test_index]\n",
    "        for lamda in range(0, 51, 10):\n",
    "            model.fit(X_train, y_train, lamda=lamda)\n",
    "            y_pred = model.predict(X_test)\n",
    "            loss = model.cost_function_andrew_ng(X_test, y_test, y_pred)\n",
    "\n",
    "            if loss < optimal_model_loss:\n",
    "                optimal_model = model\n",
    "                optimal_model_loss = loss\n",
    "                optimal_regularization = lamda\n",
    "                optimal_X_test = X_test\n",
    "                optimal_y_test = y_test\n",
    "                losses = model.get_losses()\n",
    "\n",
    "\n",
    "            model.reset_losses()\n",
    "        \n",
    "    return optimal_model, losses, optimal_regularization, optimal_X_test, optimal_y_test\n"
   ]
  },
  {
   "cell_type": "markdown",
   "metadata": {},
   "source": [
    "##### K-Fold"
   ]
  },
  {
   "cell_type": "code",
   "execution_count": 51,
   "metadata": {},
   "outputs": [
    {
     "name": "stdout",
     "output_type": "stream",
     "text": [
      "Loss: 9.025, r2 score: 0.750\n"
     ]
    },
    {
     "data": {
      "image/png": "[encoded data removed]",
      "text/plain": [
       "<Figure size 432x288 with 1 Axes>"
      ]
     },
     "metadata": {
      "needs_background": "dark"
     },
     "output_type": "display_data"
    }
   ],
   "source": [
    "model = VanillaLinearRegression(alpha=0.001, epochs=5000)\n",
    "optimal_model, losses, optimal_regularization, X_test, y_test = train_test_cross_validation(\n",
    "    model, X, y, cross_validator=KFold, k=5)\n",
    "y_pred = optimal_model.predict(X_test)\n",
    "loss = optimal_model.cost_function_andrew_ng(X_test, y_test, y_pred)\n",
    "\n",
    "print(f'Loss: {loss :.3f}, r2 score: {r2_score(y_test, y_pred) :.3f}')\n",
    "\n",
    "y_pred_line = optimal_model.predict(X)\n",
    "\n",
    "fig = plt.figure()\n",
    "plt.title(\"Loss vs Epochs\")\n",
    "plt.ylabel(\"Loss\")\n",
    "plt.xlabel(\"Epochs\")\n",
    "plt.plot(losses, color=\"y\", linewidth=1, label=\"Loss\")\n",
    "plt.legend()\n",
    "plt.show()\n"
   ]
  },
  {
   "cell_type": "code",
   "execution_count": 52,
   "metadata": {},
   "outputs": [
    {
     "data": {
      "text/plain": [
       "0"
      ]
     },
     "execution_count": 52,
     "metadata": {},
     "output_type": "execute_result"
    }
   ],
   "source": [
    "optimal_regularization"
   ]
  },
  {
   "cell_type": "markdown",
   "metadata": {},
   "source": [
    "##### Leave P Out \n",
    "This is ideal for smaller datasets because it tests all permutations of test sets of size p, which can take a while to compute."
   ]
  },
  {
   "cell_type": "code",
   "execution_count": 45,
   "metadata": {},
   "outputs": [
    {
     "name": "stdout",
     "output_type": "stream",
     "text": [
      "Loss: 6.454, r2 score: 0.791\n"
     ]
    },
    {
     "data": {
      "image/png": "[encoded data removed]",
      "text/plain": [
       "<Figure size 432x288 with 1 Axes>"
      ]
     },
     "metadata": {
      "needs_background": "dark"
     },
     "output_type": "display_data"
    }
   ],
   "source": [
    "model = VanillaLinearRegression(alpha=0.001, epochs=5000)\n",
    "# optimal_model, losses = train_test_cross_validation(model, X, y, cross_validator=LeavePOut, p=2)\n",
    "y_pred = optimal_model.predict(X_test)\n",
    "loss = optimal_model.cost_function_andrew_ng(X_test, y_test, y_pred)\n",
    "\n",
    "print(f'Loss: {loss :.3f}, r2 score: {r2_score(y_test, y_pred) :.3f}')\n",
    "\n",
    "y_pred_line = optimal_model.predict(X)\n",
    "\n",
    "fig = plt.figure()\n",
    "plt.title(\"Loss vs Epochs\")\n",
    "plt.ylabel(\"Loss\")\n",
    "plt.xlabel(\"Epochs\")\n",
    "plt.plot(losses, color=\"y\", linewidth=1, label=\"Loss\")\n",
    "plt.legend()\n",
    "plt.show()"
   ]
  },
  {
   "cell_type": "markdown",
   "metadata": {},
   "source": [
    "### Sklearn - Linear Regression Comparison\n"
   ]
  },
  {
   "cell_type": "code",
   "execution_count": 46,
   "metadata": {},
   "outputs": [
    {
     "name": "stdout",
     "output_type": "stream",
     "text": [
      "r2 score: 0.791\n"
     ]
    }
   ],
   "source": [
    "from sklearn.linear_model import LinearRegression\n",
    "from sklearn.metrics import mean_squared_error, r2_score\n",
    "model = LinearRegression()\n",
    "model.fit(X_train, y_train)\n",
    "y_prediction = model.predict(X_test)\n",
    "model.intercept_, model.coef_\n",
    "print(f'r2 score: {r2_score(y_test, y_pred) :.3f}')"
   ]
  },
  {
   "cell_type": "code",
   "execution_count": null,
   "metadata": {},
   "outputs": [],
   "source": []
  }
 ],
 "metadata": {
  "interpreter": {
   "hash": "63fd5069d213b44bf678585dea6b12cceca9941eaf7f819626cde1f2670de90d"
  },
  "kernelspec": {
   "display_name": "Python 3.9.6 64-bit (system)",
   "language": "python",
   "name": "python3"
  },
  "language_info": {
   "codemirror_mode": {
    "name": "ipython",
    "version": 3
   },
   "file_extension": ".py",
   "mimetype": "text/x-python",
   "name": "python",
   "nbconvert_exporter": "python",
   "pygments_lexer": "ipython3",
   "version": "3.9.6"
  },
  "orig_nbformat": 4
 },
 "nbformat": 4,
 "nbformat_minor": 2
}
